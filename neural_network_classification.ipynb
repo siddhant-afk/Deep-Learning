{
 "cells": [
  {
   "cell_type": "markdown",
   "metadata": {},
   "source": [
    "#### Creating data to view and fit "
   ]
  },
  {
   "cell_type": "code",
   "execution_count": 1,
   "metadata": {},
   "outputs": [],
   "source": [
    "from sklearn.datasets import make_circles\n",
    "\n",
    "\n",
    "x,y = make_circles(1000,noise=0.03,random_state=42)\n",
    "\n"
   ]
  },
  {
   "cell_type": "code",
   "execution_count": 2,
   "metadata": {},
   "outputs": [
    {
     "data": {
      "text/plain": [
       "array([[ 0.75424625,  0.23148074],\n",
       "       [-0.75615888,  0.15325888],\n",
       "       [-0.81539193,  0.17328203],\n",
       "       ...,\n",
       "       [-0.13690036, -0.81001183],\n",
       "       [ 0.67036156, -0.76750154],\n",
       "       [ 0.28105665,  0.96382443]])"
      ]
     },
     "execution_count": 2,
     "metadata": {},
     "output_type": "execute_result"
    }
   ],
   "source": [
    "x"
   ]
  },
  {
   "cell_type": "code",
   "execution_count": 3,
   "metadata": {},
   "outputs": [
    {
     "data": {
      "text/plain": [
       "array([1, 1, 1, 1, 0, 1, 1, 1, 1, 0], dtype=int64)"
      ]
     },
     "execution_count": 3,
     "metadata": {},
     "output_type": "execute_result"
    }
   ],
   "source": [
    "y[:10]"
   ]
  },
  {
   "cell_type": "code",
   "execution_count": 4,
   "metadata": {},
   "outputs": [
    {
     "data": {
      "text/html": [
       "<div>\n",
       "<style scoped>\n",
       "    .dataframe tbody tr th:only-of-type {\n",
       "        vertical-align: middle;\n",
       "    }\n",
       "\n",
       "    .dataframe tbody tr th {\n",
       "        vertical-align: top;\n",
       "    }\n",
       "\n",
       "    .dataframe thead th {\n",
       "        text-align: right;\n",
       "    }\n",
       "</style>\n",
       "<table border=\"1\" class=\"dataframe\">\n",
       "  <thead>\n",
       "    <tr style=\"text-align: right;\">\n",
       "      <th></th>\n",
       "      <th>x0</th>\n",
       "      <th>x1</th>\n",
       "      <th>label</th>\n",
       "    </tr>\n",
       "  </thead>\n",
       "  <tbody>\n",
       "    <tr>\n",
       "      <th>0</th>\n",
       "      <td>0.754246</td>\n",
       "      <td>0.231481</td>\n",
       "      <td>1</td>\n",
       "    </tr>\n",
       "    <tr>\n",
       "      <th>1</th>\n",
       "      <td>-0.756159</td>\n",
       "      <td>0.153259</td>\n",
       "      <td>1</td>\n",
       "    </tr>\n",
       "    <tr>\n",
       "      <th>2</th>\n",
       "      <td>-0.815392</td>\n",
       "      <td>0.173282</td>\n",
       "      <td>1</td>\n",
       "    </tr>\n",
       "    <tr>\n",
       "      <th>3</th>\n",
       "      <td>-0.393731</td>\n",
       "      <td>0.692883</td>\n",
       "      <td>1</td>\n",
       "    </tr>\n",
       "    <tr>\n",
       "      <th>4</th>\n",
       "      <td>0.442208</td>\n",
       "      <td>-0.896723</td>\n",
       "      <td>0</td>\n",
       "    </tr>\n",
       "    <tr>\n",
       "      <th>...</th>\n",
       "      <td>...</td>\n",
       "      <td>...</td>\n",
       "      <td>...</td>\n",
       "    </tr>\n",
       "    <tr>\n",
       "      <th>995</th>\n",
       "      <td>0.244054</td>\n",
       "      <td>0.944125</td>\n",
       "      <td>0</td>\n",
       "    </tr>\n",
       "    <tr>\n",
       "      <th>996</th>\n",
       "      <td>-0.978655</td>\n",
       "      <td>-0.272373</td>\n",
       "      <td>0</td>\n",
       "    </tr>\n",
       "    <tr>\n",
       "      <th>997</th>\n",
       "      <td>-0.136900</td>\n",
       "      <td>-0.810012</td>\n",
       "      <td>1</td>\n",
       "    </tr>\n",
       "    <tr>\n",
       "      <th>998</th>\n",
       "      <td>0.670362</td>\n",
       "      <td>-0.767502</td>\n",
       "      <td>0</td>\n",
       "    </tr>\n",
       "    <tr>\n",
       "      <th>999</th>\n",
       "      <td>0.281057</td>\n",
       "      <td>0.963824</td>\n",
       "      <td>0</td>\n",
       "    </tr>\n",
       "  </tbody>\n",
       "</table>\n",
       "<p>1000 rows × 3 columns</p>\n",
       "</div>"
      ],
      "text/plain": [
       "           x0        x1  label\n",
       "0    0.754246  0.231481      1\n",
       "1   -0.756159  0.153259      1\n",
       "2   -0.815392  0.173282      1\n",
       "3   -0.393731  0.692883      1\n",
       "4    0.442208 -0.896723      0\n",
       "..        ...       ...    ...\n",
       "995  0.244054  0.944125      0\n",
       "996 -0.978655 -0.272373      0\n",
       "997 -0.136900 -0.810012      1\n",
       "998  0.670362 -0.767502      0\n",
       "999  0.281057  0.963824      0\n",
       "\n",
       "[1000 rows x 3 columns]"
      ]
     },
     "execution_count": 4,
     "metadata": {},
     "output_type": "execute_result"
    }
   ],
   "source": [
    "import pandas as pd\n",
    "\n",
    "circles = pd.DataFrame({\"x0\" : x[:,0],\"x1\":x[:,1],\"label\" : y})\n",
    "\n",
    "circles"
   ]
  },
  {
   "cell_type": "code",
   "execution_count": 5,
   "metadata": {},
   "outputs": [
    {
     "data": {
      "text/plain": [
       "<matplotlib.collections.PathCollection at 0x1ad239ac520>"
      ]
     },
     "execution_count": 5,
     "metadata": {},
     "output_type": "execute_result"
    },
    {
     "data": {
      "image/png": "[encoded data removed]",
      "text/plain": [
       "<Figure size 432x288 with 1 Axes>"
      ]
     },
     "metadata": {
      "needs_background": "light"
     },
     "output_type": "display_data"
    }
   ],
   "source": [
    "# Visualize with a plot\n",
    "import matplotlib.pyplot as plt\n",
    "\n",
    "plt.scatter(x[:,0],x[:,1],c=y,cmap=plt.cm.RdYlBu)\n"
   ]
  },
  {
   "cell_type": "markdown",
   "metadata": {},
   "source": [
    "#### Input and Output shapes"
   ]
  },
  {
   "cell_type": "code",
   "execution_count": 6,
   "metadata": {},
   "outputs": [
    {
     "data": {
      "text/plain": [
       "((1000, 2), (1000,))"
      ]
     },
     "execution_count": 6,
     "metadata": {},
     "output_type": "execute_result"
    }
   ],
   "source": [
    "x.shape , y.shape"
   ]
  },
  {
   "cell_type": "code",
   "execution_count": 7,
   "metadata": {},
   "outputs": [
    {
     "data": {
      "text/plain": [
       "(1000, 1000)"
      ]
     },
     "execution_count": 7,
     "metadata": {},
     "output_type": "execute_result"
    }
   ],
   "source": [
    "len(x),len(y)"
   ]
  },
  {
   "cell_type": "code",
   "execution_count": 8,
   "metadata": {},
   "outputs": [
    {
     "data": {
      "text/plain": [
       "(array([0.75424625, 0.23148074]), 1)"
      ]
     },
     "execution_count": 8,
     "metadata": {},
     "output_type": "execute_result"
    }
   ],
   "source": [
    "x[0],y[0]"
   ]
  },
  {
   "cell_type": "markdown",
   "metadata": {},
   "source": [
    "### Modelling"
   ]
  },
  {
   "cell_type": "code",
   "execution_count": 9,
   "metadata": {},
   "outputs": [],
   "source": [
    "import tensorflow as tf"
   ]
  },
  {
   "cell_type": "code",
   "execution_count": 12,
   "metadata": {},
   "outputs": [
    {
     "name": "stdout",
     "output_type": "stream",
     "text": [
      "Epoch 1/5\n",
      "32/32 [==============================] - 1s 6ms/step - loss: 2.8544 - accuracy: 0.4600\n",
      "Epoch 2/5\n",
      "32/32 [==============================] - 0s 6ms/step - loss: 0.7131 - accuracy: 0.5430\n",
      "Epoch 3/5\n",
      "32/32 [==============================] - 0s 6ms/step - loss: 0.6973 - accuracy: 0.5090\n",
      "Epoch 4/5\n",
      "32/32 [==============================] - 0s 6ms/step - loss: 0.6950 - accuracy: 0.5010\n",
      "Epoch 5/5\n",
      "32/32 [==============================] - 0s 6ms/step - loss: 0.6942 - accuracy: 0.4830\n"
     ]
    },
    {
     "data": {
      "text/plain": [
       "<keras.callbacks.History at 0x1ad7fca6980>"
      ]
     },
     "execution_count": 12,
     "metadata": {},
     "output_type": "execute_result"
    }
   ],
   "source": [
    "tf.random.set_seed(42)\n",
    "model_1  = tf.keras.Sequential([\n",
    "\n",
    "    tf.keras.layers.Dense(1)\n",
    "])\n",
    "\n",
    "\n",
    "model_1.compile(loss = tf.keras.losses.BinaryCrossentropy(),\n",
    "optimizer = tf.keras.optimizers.SGD(),\n",
    "metrics = [\"accuracy\"])\n",
    "\n",
    "\n",
    "model_1.fit(x,y,epochs=5)"
   ]
  },
  {
   "cell_type": "code",
   "execution_count": 14,
   "metadata": {},
   "outputs": [
    {
     "name": "stdout",
     "output_type": "stream",
     "text": [
      "32/32 [==============================] - 0s 4ms/step - loss: 0.6935 - accuracy: 0.5000\n"
     ]
    },
    {
     "data": {
      "text/plain": [
       "[0.6934829950332642, 0.5]"
      ]
     },
     "execution_count": 14,
     "metadata": {},
     "output_type": "execute_result"
    }
   ],
   "source": [
    "model_1.fit(x,y,epochs=200,verbose=0)\n",
    "model_1.evaluate(x,y)"
   ]
  },
  {
   "cell_type": "code",
   "execution_count": 15,
   "metadata": {},
   "outputs": [
    {
     "data": {
      "text/plain": [
       "<keras.callbacks.History at 0x1ae15e142e0>"
      ]
     },
     "execution_count": 15,
     "metadata": {},
     "output_type": "execute_result"
    }
   ],
   "source": [
    "# Model 2\n",
    "\n",
    "model2 = tf.keras.Sequential([\n",
    "\n",
    "    tf.keras.layers.Dense(1),\n",
    "    tf.keras.layers.Dense(1)\n",
    "])\n",
    "\n",
    "\n",
    "model2.compile(loss = tf.keras.losses.BinaryCrossentropy(),\n",
    "optimizer = tf.keras.optimizers.SGD(),\n",
    "metrics =[\"accuracy\"] )\n",
    "\n",
    "\n",
    "model2.fit(x,y,epochs=100,verbose=0)"
   ]
  },
  {
   "cell_type": "code",
   "execution_count": 16,
   "metadata": {},
   "outputs": [
    {
     "name": "stdout",
     "output_type": "stream",
     "text": [
      "32/32 [==============================] - 0s 4ms/step - loss: 0.6935 - accuracy: 0.5000\n"
     ]
    },
    {
     "data": {
      "text/plain": [
       "[0.6934733390808105, 0.5]"
      ]
     },
     "execution_count": 16,
     "metadata": {},
     "output_type": "execute_result"
    }
   ],
   "source": [
    "model2.evaluate(x,y)"
   ]
  },
  {
   "cell_type": "code",
   "execution_count": 19,
   "metadata": {},
   "outputs": [
    {
     "data": {
      "text/plain": [
       "<keras.callbacks.History at 0x1ae15f429e0>"
      ]
     },
     "execution_count": 19,
     "metadata": {},
     "output_type": "execute_result"
    }
   ],
   "source": [
    "# Model 3\n",
    "\n",
    "model3 = tf.keras.Sequential([\n",
    "\n",
    "    tf.keras.layers.Dense(100),\n",
    "    tf.keras.layers.Dense(1),\n",
    "    tf.keras.layers.Dense(1)\n",
    "\n",
    "])\n",
    "\n",
    "\n",
    "model3.compile(loss = tf.keras.losses.BinaryCrossentropy(),\n",
    "optimizer = tf.keras.optimizers.Adam(),\n",
    "metrics = [\"accuracy\"])\n",
    "\n",
    "model3.fit(x,y,epochs=100,verbose=0)"
   ]
  },
  {
   "cell_type": "code",
   "execution_count": 20,
   "metadata": {},
   "outputs": [
    {
     "name": "stdout",
     "output_type": "stream",
     "text": [
      "32/32 [==============================] - 0s 4ms/step - loss: 0.6991 - accuracy: 0.5140\n"
     ]
    },
    {
     "data": {
      "text/plain": [
       "[0.6991010904312134, 0.5139999985694885]"
      ]
     },
     "execution_count": 20,
     "metadata": {},
     "output_type": "execute_result"
    }
   ],
   "source": [
    "model3.evaluate(x,y)"
   ]
  },
  {
   "cell_type": "code",
   "execution_count": 21,
   "metadata": {},
   "outputs": [],
   "source": [
    "import numpy as np\n",
    "\n",
    "def plot_decision_boundary(model, X, y):\n",
    "  \"\"\"\n",
    "  Plots the decision boundary created by a model predicting on X.\n",
    "  This function has been adapted from two phenomenal resources:\n",
    "   1. CS231n - https://cs231n.github.io/neural-networks-case-study/\n",
    "   2. Made with ML basics - https://github.com/GokuMohandas/MadeWithML/blob/main/notebooks/08_Neural_Networks.ipynb\n",
    "  \"\"\"\n",
    "  # Define the axis boundaries of the plot and create a meshgrid\n",
    "  x_min, x_max = X[:, 0].min() - 0.1, X[:, 0].max() + 0.1\n",
    "  y_min, y_max = X[:, 1].min() - 0.1, X[:, 1].max() + 0.1\n",
    "  xx, yy = np.meshgrid(np.linspace(x_min, x_max, 100),\n",
    "                       np.linspace(y_min, y_max, 100))\n",
    "  \n",
    "  # Create X values (we're going to predict on all of these)\n",
    "  x_in = np.c_[xx.ravel(), yy.ravel()] # stack 2D arrays together: https://numpy.org/devdocs/reference/generated/numpy.c_.html\n",
    "  \n",
    "  # Make predictions using the trained model\n",
    "  y_pred = model.predict(x_in)\n",
    "\n",
    "  # Check for multi-class\n",
    "  if model.output_shape[-1] > 1: # checks the final dimension of the model's output shape, if this is > (greater than) 1, it's multi-class \n",
    "    print(\"doing multiclass classification...\")\n",
    "    # We have to reshape our predictions to get them ready for plotting\n",
    "    y_pred = np.argmax(y_pred, axis=1).reshape(xx.shape)\n",
    "  else:\n",
    "    print(\"doing binary classifcation...\")\n",
    "    y_pred = np.round(np.max(y_pred, axis=1)).reshape(xx.shape)\n",
    "  \n",
    "  # Plot decision boundary\n",
    "  plt.contourf(xx, yy, y_pred, cmap=plt.cm.RdYlBu, alpha=0.7)\n",
    "  plt.scatter(X[:, 0], X[:, 1], c=y, s=40, cmap=plt.cm.RdYlBu)\n",
    "  plt.xlim(xx.min(), xx.max())\n",
    "  plt.ylim(yy.min(), yy.max())\n"
   ]
  },
  {
   "cell_type": "code",
   "execution_count": 22,
   "metadata": {},
   "outputs": [
    {
     "name": "stdout",
     "output_type": "stream",
     "text": [
      "313/313 [==============================] - 4s 3ms/step\n",
      "doing binary classifcation...\n"
     ]
    },
    {
     "data": {
      "image/png": "[encoded data removed]",
      "text/plain": [
       "<Figure size 432x288 with 1 Axes>"
      ]
     },
     "metadata": {
      "needs_background": "light"
     },
     "output_type": "display_data"
    }
   ],
   "source": [
    "plot_decision_boundary(model3, x, y)"
   ]
  },
  {
   "cell_type": "markdown",
   "metadata": {},
   "source": [
    "#### The missing piece :  Non Linearity"
   ]
  },
  {
   "cell_type": "code",
   "execution_count": 24,
   "metadata": {},
   "outputs": [
    {
     "name": "stdout",
     "output_type": "stream",
     "text": [
      "Epoch 1/100\n",
      "32/32 [==============================] - 1s 6ms/step - loss: 4.2979 - accuracy: 0.4670\n",
      "Epoch 2/100\n",
      "32/32 [==============================] - 0s 5ms/step - loss: 4.2317 - accuracy: 0.4400\n",
      "Epoch 3/100\n",
      "32/32 [==============================] - 0s 5ms/step - loss: 4.1610 - accuracy: 0.4310\n",
      "Epoch 4/100\n",
      "32/32 [==============================] - 0s 5ms/step - loss: 4.1183 - accuracy: 0.4270\n",
      "Epoch 5/100\n",
      "32/32 [==============================] - 0s 5ms/step - loss: 4.0784 - accuracy: 0.4240\n",
      "Epoch 6/100\n",
      "32/32 [==============================] - 0s 5ms/step - loss: 3.9575 - accuracy: 0.4170\n",
      "Epoch 7/100\n",
      "32/32 [==============================] - 0s 6ms/step - loss: 3.8372 - accuracy: 0.4090\n",
      "Epoch 8/100\n",
      "32/32 [==============================] - 0s 5ms/step - loss: 3.7656 - accuracy: 0.4120\n",
      "Epoch 9/100\n",
      "32/32 [==============================] - 0s 5ms/step - loss: 3.7378 - accuracy: 0.4170\n",
      "Epoch 10/100\n",
      "32/32 [==============================] - 0s 5ms/step - loss: 3.6978 - accuracy: 0.4190\n",
      "Epoch 11/100\n",
      "32/32 [==============================] - 0s 5ms/step - loss: 3.6894 - accuracy: 0.4190\n",
      "Epoch 12/100\n",
      "32/32 [==============================] - 0s 5ms/step - loss: 3.6843 - accuracy: 0.4220\n",
      "Epoch 13/100\n",
      "32/32 [==============================] - 0s 5ms/step - loss: 3.6706 - accuracy: 0.4200\n",
      "Epoch 14/100\n",
      "32/32 [==============================] - 0s 5ms/step - loss: 3.6651 - accuracy: 0.4230\n",
      "Epoch 15/100\n",
      "32/32 [==============================] - 0s 5ms/step - loss: 3.6612 - accuracy: 0.4240\n",
      "Epoch 16/100\n",
      "32/32 [==============================] - 0s 5ms/step - loss: 3.6418 - accuracy: 0.4250\n",
      "Epoch 17/100\n",
      "32/32 [==============================] - 0s 5ms/step - loss: 3.5384 - accuracy: 0.4400\n",
      "Epoch 18/100\n",
      "32/32 [==============================] - 0s 5ms/step - loss: 3.5138 - accuracy: 0.4460\n",
      "Epoch 19/100\n",
      "32/32 [==============================] - 0s 5ms/step - loss: 3.4794 - accuracy: 0.4480\n",
      "Epoch 20/100\n",
      "32/32 [==============================] - 0s 5ms/step - loss: 3.4375 - accuracy: 0.4520\n",
      "Epoch 21/100\n",
      "32/32 [==============================] - 0s 5ms/step - loss: 3.3906 - accuracy: 0.4580\n",
      "Epoch 22/100\n",
      "32/32 [==============================] - 0s 5ms/step - loss: 3.3103 - accuracy: 0.4580\n",
      "Epoch 23/100\n",
      "32/32 [==============================] - 0s 5ms/step - loss: 3.2536 - accuracy: 0.4570\n",
      "Epoch 24/100\n",
      "32/32 [==============================] - 0s 5ms/step - loss: 3.2187 - accuracy: 0.4580\n",
      "Epoch 25/100\n",
      "32/32 [==============================] - 0s 5ms/step - loss: 3.1888 - accuracy: 0.4590\n",
      "Epoch 26/100\n",
      "32/32 [==============================] - 0s 5ms/step - loss: 3.1485 - accuracy: 0.4570\n",
      "Epoch 27/100\n",
      "32/32 [==============================] - 0s 5ms/step - loss: 2.9633 - accuracy: 0.4570\n",
      "Epoch 28/100\n",
      "32/32 [==============================] - 0s 5ms/step - loss: 2.7948 - accuracy: 0.4620\n",
      "Epoch 29/100\n",
      "32/32 [==============================] - 0s 5ms/step - loss: 2.7038 - accuracy: 0.4620\n",
      "Epoch 30/100\n",
      "32/32 [==============================] - 0s 5ms/step - loss: 2.6474 - accuracy: 0.4610\n",
      "Epoch 31/100\n",
      "32/32 [==============================] - 0s 5ms/step - loss: 2.6236 - accuracy: 0.4620\n",
      "Epoch 32/100\n",
      "32/32 [==============================] - 0s 6ms/step - loss: 2.6051 - accuracy: 0.4640\n",
      "Epoch 33/100\n",
      "32/32 [==============================] - 0s 5ms/step - loss: 2.5311 - accuracy: 0.4650\n",
      "Epoch 34/100\n",
      "32/32 [==============================] - 0s 5ms/step - loss: 2.3198 - accuracy: 0.4600\n",
      "Epoch 35/100\n",
      "32/32 [==============================] - 0s 7ms/step - loss: 2.1316 - accuracy: 0.4600\n",
      "Epoch 36/100\n",
      "32/32 [==============================] - 0s 7ms/step - loss: 1.4313 - accuracy: 0.4650\n",
      "Epoch 37/100\n",
      "32/32 [==============================] - 0s 5ms/step - loss: 1.0173 - accuracy: 0.4650\n",
      "Epoch 38/100\n",
      "32/32 [==============================] - 0s 5ms/step - loss: 0.9971 - accuracy: 0.4650\n",
      "Epoch 39/100\n",
      "32/32 [==============================] - 0s 6ms/step - loss: 0.9847 - accuracy: 0.4650\n",
      "Epoch 40/100\n",
      "32/32 [==============================] - 0s 5ms/step - loss: 0.9742 - accuracy: 0.4650\n",
      "Epoch 41/100\n",
      "32/32 [==============================] - 0s 5ms/step - loss: 0.9650 - accuracy: 0.4650\n",
      "Epoch 42/100\n",
      "32/32 [==============================] - 0s 7ms/step - loss: 0.9568 - accuracy: 0.4650\n",
      "Epoch 43/100\n",
      "32/32 [==============================] - 0s 5ms/step - loss: 0.9492 - accuracy: 0.4660\n",
      "Epoch 44/100\n",
      "32/32 [==============================] - 0s 5ms/step - loss: 0.9425 - accuracy: 0.4660\n",
      "Epoch 45/100\n",
      "32/32 [==============================] - 0s 5ms/step - loss: 0.9364 - accuracy: 0.4660\n",
      "Epoch 46/100\n",
      "32/32 [==============================] - 0s 5ms/step - loss: 0.9306 - accuracy: 0.4670\n",
      "Epoch 47/100\n",
      "32/32 [==============================] - 0s 6ms/step - loss: 0.9253 - accuracy: 0.4670\n",
      "Epoch 48/100\n",
      "32/32 [==============================] - 0s 5ms/step - loss: 0.9200 - accuracy: 0.4660\n",
      "Epoch 49/100\n",
      "32/32 [==============================] - 0s 6ms/step - loss: 0.9152 - accuracy: 0.4660\n",
      "Epoch 50/100\n",
      "32/32 [==============================] - 0s 6ms/step - loss: 0.9106 - accuracy: 0.4660\n",
      "Epoch 51/100\n",
      "32/32 [==============================] - 0s 5ms/step - loss: 0.9061 - accuracy: 0.4650\n",
      "Epoch 52/100\n",
      "32/32 [==============================] - 0s 6ms/step - loss: 0.9021 - accuracy: 0.4660\n",
      "Epoch 53/100\n",
      "32/32 [==============================] - 0s 5ms/step - loss: 0.8981 - accuracy: 0.4660\n",
      "Epoch 54/100\n",
      "32/32 [==============================] - 0s 5ms/step - loss: 0.8943 - accuracy: 0.4670\n",
      "Epoch 55/100\n",
      "32/32 [==============================] - 0s 5ms/step - loss: 0.8906 - accuracy: 0.4670\n",
      "Epoch 56/100\n",
      "32/32 [==============================] - 0s 5ms/step - loss: 0.8870 - accuracy: 0.4670\n",
      "Epoch 57/100\n",
      "32/32 [==============================] - 0s 5ms/step - loss: 0.8835 - accuracy: 0.4680\n",
      "Epoch 58/100\n",
      "32/32 [==============================] - 0s 5ms/step - loss: 0.8802 - accuracy: 0.4680\n",
      "Epoch 59/100\n",
      "32/32 [==============================] - 0s 6ms/step - loss: 0.8769 - accuracy: 0.4680\n",
      "Epoch 60/100\n",
      "32/32 [==============================] - 0s 5ms/step - loss: 0.8738 - accuracy: 0.4680\n",
      "Epoch 61/100\n",
      "32/32 [==============================] - 0s 4ms/step - loss: 0.8708 - accuracy: 0.4660\n",
      "Epoch 62/100\n",
      "32/32 [==============================] - 0s 5ms/step - loss: 0.8679 - accuracy: 0.4670\n",
      "Epoch 63/100\n",
      "32/32 [==============================] - 0s 5ms/step - loss: 0.8649 - accuracy: 0.4660\n",
      "Epoch 64/100\n",
      "32/32 [==============================] - 0s 5ms/step - loss: 0.8621 - accuracy: 0.4660\n",
      "Epoch 65/100\n",
      "32/32 [==============================] - 0s 5ms/step - loss: 0.8593 - accuracy: 0.4670\n",
      "Epoch 66/100\n",
      "32/32 [==============================] - 0s 5ms/step - loss: 0.8565 - accuracy: 0.4680\n",
      "Epoch 67/100\n",
      "32/32 [==============================] - 0s 6ms/step - loss: 0.8539 - accuracy: 0.4670\n",
      "Epoch 68/100\n",
      "32/32 [==============================] - 0s 6ms/step - loss: 0.8513 - accuracy: 0.4680\n",
      "Epoch 69/100\n",
      "32/32 [==============================] - 0s 5ms/step - loss: 0.8486 - accuracy: 0.4690\n",
      "Epoch 70/100\n",
      "32/32 [==============================] - 0s 6ms/step - loss: 0.8461 - accuracy: 0.4690\n",
      "Epoch 71/100\n",
      "32/32 [==============================] - 0s 6ms/step - loss: 0.8435 - accuracy: 0.4690\n",
      "Epoch 72/100\n",
      "32/32 [==============================] - 0s 5ms/step - loss: 0.8411 - accuracy: 0.4690\n",
      "Epoch 73/100\n",
      "32/32 [==============================] - 0s 5ms/step - loss: 0.8387 - accuracy: 0.4670\n",
      "Epoch 74/100\n",
      "32/32 [==============================] - 0s 5ms/step - loss: 0.8362 - accuracy: 0.4670\n",
      "Epoch 75/100\n",
      "32/32 [==============================] - 0s 5ms/step - loss: 0.8339 - accuracy: 0.4680\n",
      "Epoch 76/100\n",
      "32/32 [==============================] - 0s 5ms/step - loss: 0.8317 - accuracy: 0.4690\n",
      "Epoch 77/100\n",
      "32/32 [==============================] - 0s 5ms/step - loss: 0.8294 - accuracy: 0.4690\n",
      "Epoch 78/100\n",
      "32/32 [==============================] - 0s 5ms/step - loss: 0.8272 - accuracy: 0.4710\n",
      "Epoch 79/100\n",
      "32/32 [==============================] - 0s 5ms/step - loss: 0.8249 - accuracy: 0.4710\n",
      "Epoch 80/100\n",
      "32/32 [==============================] - 0s 7ms/step - loss: 0.8228 - accuracy: 0.4710\n",
      "Epoch 81/100\n",
      "32/32 [==============================] - 0s 5ms/step - loss: 0.8207 - accuracy: 0.4730\n",
      "Epoch 82/100\n",
      "32/32 [==============================] - 0s 5ms/step - loss: 0.8186 - accuracy: 0.4730\n",
      "Epoch 83/100\n",
      "32/32 [==============================] - 0s 5ms/step - loss: 0.8166 - accuracy: 0.4730\n",
      "Epoch 84/100\n",
      "32/32 [==============================] - 0s 6ms/step - loss: 0.8146 - accuracy: 0.4730\n",
      "Epoch 85/100\n",
      "32/32 [==============================] - 0s 6ms/step - loss: 0.8126 - accuracy: 0.4720\n",
      "Epoch 86/100\n",
      "32/32 [==============================] - 0s 6ms/step - loss: 0.8107 - accuracy: 0.4720\n",
      "Epoch 87/100\n",
      "32/32 [==============================] - 0s 5ms/step - loss: 0.8088 - accuracy: 0.4720\n",
      "Epoch 88/100\n",
      "32/32 [==============================] - 0s 5ms/step - loss: 0.8069 - accuracy: 0.4730\n",
      "Epoch 89/100\n",
      "32/32 [==============================] - 0s 5ms/step - loss: 0.8051 - accuracy: 0.4740\n",
      "Epoch 90/100\n",
      "32/32 [==============================] - 0s 6ms/step - loss: 0.8032 - accuracy: 0.4740\n",
      "Epoch 91/100\n",
      "32/32 [==============================] - 0s 6ms/step - loss: 0.8014 - accuracy: 0.4740\n",
      "Epoch 92/100\n",
      "32/32 [==============================] - 0s 5ms/step - loss: 0.7996 - accuracy: 0.4740\n",
      "Epoch 93/100\n",
      "32/32 [==============================] - 0s 7ms/step - loss: 0.7978 - accuracy: 0.4740\n",
      "Epoch 94/100\n",
      "32/32 [==============================] - 0s 5ms/step - loss: 0.7962 - accuracy: 0.4740\n",
      "Epoch 95/100\n",
      "32/32 [==============================] - 0s 5ms/step - loss: 0.7944 - accuracy: 0.4740\n",
      "Epoch 96/100\n",
      "32/32 [==============================] - 0s 6ms/step - loss: 0.7927 - accuracy: 0.4740\n",
      "Epoch 97/100\n",
      "32/32 [==============================] - 0s 6ms/step - loss: 0.7911 - accuracy: 0.4740\n",
      "Epoch 98/100\n",
      "32/32 [==============================] - 0s 6ms/step - loss: 0.7895 - accuracy: 0.4740\n",
      "Epoch 99/100\n",
      "32/32 [==============================] - 0s 5ms/step - loss: 0.7878 - accuracy: 0.4750\n",
      "Epoch 100/100\n",
      "32/32 [==============================] - 0s 5ms/step - loss: 0.7861 - accuracy: 0.4750\n"
     ]
    }
   ],
   "source": [
    "tf.random.set_seed(42)\n",
    "\n",
    "model_4 = tf.keras.Sequential([\n",
    "\n",
    "    tf.keras.layers.Dense(1,activation =\"linear\")\n",
    "])\n",
    "\n",
    "model_4.compile(loss = \"binary_crossentropy\",\n",
    "optimizer = tf.keras.optimizers.Adam(learning_rate=0.001),\n",
    "metrics= [\"accuracy\"])\n",
    "\n",
    "\n",
    "history = model_4.fit(x,y,epochs=100)"
   ]
  },
  {
   "cell_type": "code",
   "execution_count": 25,
   "metadata": {},
   "outputs": [
    {
     "name": "stdout",
     "output_type": "stream",
     "text": [
      "313/313 [==============================] - 1s 2ms/step\n",
      "doing binary classifcation...\n"
     ]
    },
    {
     "data": {
      "image/png": "[encoded data removed]",
      "text/plain": [
       "<Figure size 432x288 with 1 Axes>"
      ]
     },
     "metadata": {
      "needs_background": "light"
     },
     "output_type": "display_data"
    }
   ],
   "source": [
    "plot_decision_boundary(model_4,x,y)"
   ]
  },
  {
   "cell_type": "code",
   "execution_count": 26,
   "metadata": {},
   "outputs": [
    {
     "name": "stdout",
     "output_type": "stream",
     "text": [
      "Epoch 1/100\n",
      "32/32 [==============================] - 1s 8ms/step - loss: 4.2979 - accuracy: 0.4670\n",
      "Epoch 2/100\n",
      "32/32 [==============================] - 0s 6ms/step - loss: 4.2317 - accuracy: 0.4400\n",
      "Epoch 3/100\n",
      "32/32 [==============================] - 0s 6ms/step - loss: 4.1610 - accuracy: 0.4310\n",
      "Epoch 4/100\n",
      "32/32 [==============================] - 0s 6ms/step - loss: 4.1183 - accuracy: 0.4270\n",
      "Epoch 5/100\n",
      "32/32 [==============================] - 0s 6ms/step - loss: 4.0784 - accuracy: 0.4240\n",
      "Epoch 6/100\n",
      "32/32 [==============================] - 0s 5ms/step - loss: 3.9575 - accuracy: 0.4170\n",
      "Epoch 7/100\n",
      "32/32 [==============================] - 0s 6ms/step - loss: 3.8372 - accuracy: 0.4090\n",
      "Epoch 8/100\n",
      "32/32 [==============================] - 0s 6ms/step - loss: 3.7656 - accuracy: 0.4120\n",
      "Epoch 9/100\n",
      "32/32 [==============================] - 0s 5ms/step - loss: 3.7378 - accuracy: 0.4170\n",
      "Epoch 10/100\n",
      "32/32 [==============================] - 0s 5ms/step - loss: 3.6978 - accuracy: 0.4190\n",
      "Epoch 11/100\n",
      "32/32 [==============================] - 0s 5ms/step - loss: 3.6894 - accuracy: 0.4190\n",
      "Epoch 12/100\n",
      "32/32 [==============================] - 0s 10ms/step - loss: 3.6843 - accuracy: 0.4220\n",
      "Epoch 13/100\n",
      "32/32 [==============================] - 0s 6ms/step - loss: 3.6706 - accuracy: 0.4200\n",
      "Epoch 14/100\n",
      "32/32 [==============================] - 0s 5ms/step - loss: 3.6651 - accuracy: 0.4230\n",
      "Epoch 15/100\n",
      "32/32 [==============================] - 0s 7ms/step - loss: 3.6612 - accuracy: 0.4240\n",
      "Epoch 16/100\n",
      "32/32 [==============================] - 0s 6ms/step - loss: 3.6418 - accuracy: 0.4250\n",
      "Epoch 17/100\n",
      "32/32 [==============================] - 0s 7ms/step - loss: 3.5384 - accuracy: 0.4400\n",
      "Epoch 18/100\n",
      "32/32 [==============================] - 0s 6ms/step - loss: 3.5138 - accuracy: 0.4460\n",
      "Epoch 19/100\n",
      "32/32 [==============================] - 0s 6ms/step - loss: 3.4794 - accuracy: 0.4480\n",
      "Epoch 20/100\n",
      "32/32 [==============================] - 0s 6ms/step - loss: 3.4375 - accuracy: 0.4520\n",
      "Epoch 21/100\n",
      "32/32 [==============================] - 0s 7ms/step - loss: 3.3906 - accuracy: 0.4580\n",
      "Epoch 22/100\n",
      "32/32 [==============================] - 0s 8ms/step - loss: 3.3103 - accuracy: 0.4580\n",
      "Epoch 23/100\n",
      "32/32 [==============================] - 0s 8ms/step - loss: 3.2536 - accuracy: 0.4570\n",
      "Epoch 24/100\n",
      "32/32 [==============================] - 0s 8ms/step - loss: 3.2187 - accuracy: 0.4580\n",
      "Epoch 25/100\n",
      "32/32 [==============================] - 0s 8ms/step - loss: 3.1888 - accuracy: 0.4590\n",
      "Epoch 26/100\n",
      "32/32 [==============================] - 0s 6ms/step - loss: 3.1485 - accuracy: 0.4570\n",
      "Epoch 27/100\n",
      "32/32 [==============================] - 0s 6ms/step - loss: 2.9633 - accuracy: 0.4570\n",
      "Epoch 28/100\n",
      "32/32 [==============================] - 0s 5ms/step - loss: 2.7948 - accuracy: 0.4620\n",
      "Epoch 29/100\n",
      "32/32 [==============================] - 0s 7ms/step - loss: 2.7038 - accuracy: 0.4620\n",
      "Epoch 30/100\n",
      "32/32 [==============================] - 0s 6ms/step - loss: 2.6474 - accuracy: 0.4610\n",
      "Epoch 31/100\n",
      "32/32 [==============================] - 0s 6ms/step - loss: 2.6236 - accuracy: 0.4620\n",
      "Epoch 32/100\n",
      "32/32 [==============================] - 0s 7ms/step - loss: 2.6051 - accuracy: 0.4640\n",
      "Epoch 33/100\n",
      "32/32 [==============================] - 0s 7ms/step - loss: 2.5311 - accuracy: 0.4650\n",
      "Epoch 34/100\n",
      "32/32 [==============================] - 0s 7ms/step - loss: 2.3198 - accuracy: 0.4600\n",
      "Epoch 35/100\n",
      "32/32 [==============================] - 0s 9ms/step - loss: 2.1316 - accuracy: 0.4600\n",
      "Epoch 36/100\n",
      "32/32 [==============================] - 0s 7ms/step - loss: 1.4313 - accuracy: 0.4650\n",
      "Epoch 37/100\n",
      "32/32 [==============================] - 0s 7ms/step - loss: 1.0173 - accuracy: 0.4650\n",
      "Epoch 38/100\n",
      "32/32 [==============================] - 0s 7ms/step - loss: 0.9971 - accuracy: 0.4650\n",
      "Epoch 39/100\n",
      "32/32 [==============================] - 0s 7ms/step - loss: 0.9847 - accuracy: 0.4650\n",
      "Epoch 40/100\n",
      "32/32 [==============================] - 0s 6ms/step - loss: 0.9742 - accuracy: 0.4650\n",
      "Epoch 41/100\n",
      "32/32 [==============================] - 0s 7ms/step - loss: 0.9650 - accuracy: 0.4650\n",
      "Epoch 42/100\n",
      "32/32 [==============================] - 0s 9ms/step - loss: 0.9568 - accuracy: 0.4650\n",
      "Epoch 43/100\n",
      "32/32 [==============================] - 0s 5ms/step - loss: 0.9492 - accuracy: 0.4660\n",
      "Epoch 44/100\n",
      "32/32 [==============================] - 0s 7ms/step - loss: 0.9425 - accuracy: 0.4660\n",
      "Epoch 45/100\n",
      "32/32 [==============================] - 0s 8ms/step - loss: 0.9364 - accuracy: 0.4660\n",
      "Epoch 46/100\n",
      "32/32 [==============================] - 0s 7ms/step - loss: 0.9306 - accuracy: 0.4670\n",
      "Epoch 47/100\n",
      "32/32 [==============================] - 0s 6ms/step - loss: 0.9253 - accuracy: 0.4670\n",
      "Epoch 48/100\n",
      "32/32 [==============================] - 0s 8ms/step - loss: 0.9200 - accuracy: 0.4660\n",
      "Epoch 49/100\n",
      "32/32 [==============================] - 0s 10ms/step - loss: 0.9152 - accuracy: 0.4660\n",
      "Epoch 50/100\n",
      "32/32 [==============================] - 0s 6ms/step - loss: 0.9106 - accuracy: 0.4660\n",
      "Epoch 51/100\n",
      "32/32 [==============================] - 0s 6ms/step - loss: 0.9061 - accuracy: 0.4650\n",
      "Epoch 52/100\n",
      "32/32 [==============================] - 0s 7ms/step - loss: 0.9021 - accuracy: 0.4660\n",
      "Epoch 53/100\n",
      "32/32 [==============================] - 0s 7ms/step - loss: 0.8981 - accuracy: 0.4660\n",
      "Epoch 54/100\n",
      "32/32 [==============================] - 0s 7ms/step - loss: 0.8943 - accuracy: 0.4670\n",
      "Epoch 55/100\n",
      "32/32 [==============================] - 0s 7ms/step - loss: 0.8906 - accuracy: 0.4670\n",
      "Epoch 56/100\n",
      "32/32 [==============================] - 0s 6ms/step - loss: 0.8870 - accuracy: 0.4670\n",
      "Epoch 57/100\n",
      "32/32 [==============================] - 0s 6ms/step - loss: 0.8835 - accuracy: 0.4680\n",
      "Epoch 58/100\n",
      "32/32 [==============================] - 0s 8ms/step - loss: 0.8802 - accuracy: 0.4680\n",
      "Epoch 59/100\n",
      "32/32 [==============================] - 0s 8ms/step - loss: 0.8769 - accuracy: 0.4680\n",
      "Epoch 60/100\n",
      "32/32 [==============================] - 0s 7ms/step - loss: 0.8738 - accuracy: 0.4680\n",
      "Epoch 61/100\n",
      "32/32 [==============================] - 0s 6ms/step - loss: 0.8708 - accuracy: 0.4660\n",
      "Epoch 62/100\n",
      "32/32 [==============================] - 0s 6ms/step - loss: 0.8679 - accuracy: 0.4670\n",
      "Epoch 63/100\n",
      "32/32 [==============================] - 0s 5ms/step - loss: 0.8649 - accuracy: 0.4660\n",
      "Epoch 64/100\n",
      "32/32 [==============================] - 0s 7ms/step - loss: 0.8621 - accuracy: 0.4660\n",
      "Epoch 65/100\n",
      "32/32 [==============================] - 0s 6ms/step - loss: 0.8593 - accuracy: 0.4670\n",
      "Epoch 66/100\n",
      "32/32 [==============================] - 0s 7ms/step - loss: 0.8565 - accuracy: 0.4680\n",
      "Epoch 67/100\n",
      "32/32 [==============================] - 0s 7ms/step - loss: 0.8539 - accuracy: 0.4670\n",
      "Epoch 68/100\n",
      "32/32 [==============================] - 0s 5ms/step - loss: 0.8513 - accuracy: 0.4680\n",
      "Epoch 69/100\n",
      "32/32 [==============================] - 0s 6ms/step - loss: 0.8486 - accuracy: 0.4690\n",
      "Epoch 70/100\n",
      "32/32 [==============================] - 0s 5ms/step - loss: 0.8461 - accuracy: 0.4690\n",
      "Epoch 71/100\n",
      "32/32 [==============================] - 0s 6ms/step - loss: 0.8435 - accuracy: 0.4690\n",
      "Epoch 72/100\n",
      "32/32 [==============================] - 0s 6ms/step - loss: 0.8411 - accuracy: 0.4690\n",
      "Epoch 73/100\n",
      "32/32 [==============================] - 0s 5ms/step - loss: 0.8387 - accuracy: 0.4670\n",
      "Epoch 74/100\n",
      "32/32 [==============================] - 0s 6ms/step - loss: 0.8362 - accuracy: 0.4670\n",
      "Epoch 75/100\n",
      "32/32 [==============================] - 0s 6ms/step - loss: 0.8339 - accuracy: 0.4680\n",
      "Epoch 76/100\n",
      "32/32 [==============================] - 0s 6ms/step - loss: 0.8317 - accuracy: 0.4690\n",
      "Epoch 77/100\n",
      "32/32 [==============================] - 0s 9ms/step - loss: 0.8294 - accuracy: 0.4690\n",
      "Epoch 78/100\n",
      "32/32 [==============================] - 0s 6ms/step - loss: 0.8272 - accuracy: 0.4710\n",
      "Epoch 79/100\n",
      "32/32 [==============================] - 0s 7ms/step - loss: 0.8249 - accuracy: 0.4710\n",
      "Epoch 80/100\n",
      "32/32 [==============================] - 0s 7ms/step - loss: 0.8228 - accuracy: 0.4710\n",
      "Epoch 81/100\n",
      "32/32 [==============================] - 0s 7ms/step - loss: 0.8207 - accuracy: 0.4730\n",
      "Epoch 82/100\n",
      "32/32 [==============================] - 0s 7ms/step - loss: 0.8186 - accuracy: 0.4730\n",
      "Epoch 83/100\n",
      "32/32 [==============================] - 0s 8ms/step - loss: 0.8166 - accuracy: 0.4730\n",
      "Epoch 84/100\n",
      "32/32 [==============================] - 0s 6ms/step - loss: 0.8146 - accuracy: 0.4730\n",
      "Epoch 85/100\n",
      "32/32 [==============================] - 0s 6ms/step - loss: 0.8126 - accuracy: 0.4720\n",
      "Epoch 86/100\n",
      "32/32 [==============================] - 0s 5ms/step - loss: 0.8107 - accuracy: 0.4720\n",
      "Epoch 87/100\n",
      "32/32 [==============================] - 0s 6ms/step - loss: 0.8088 - accuracy: 0.4720\n",
      "Epoch 88/100\n",
      "32/32 [==============================] - 0s 6ms/step - loss: 0.8069 - accuracy: 0.4730\n",
      "Epoch 89/100\n",
      "32/32 [==============================] - 0s 6ms/step - loss: 0.8051 - accuracy: 0.4740\n",
      "Epoch 90/100\n",
      "32/32 [==============================] - 0s 6ms/step - loss: 0.8032 - accuracy: 0.4740\n",
      "Epoch 91/100\n",
      "32/32 [==============================] - 0s 7ms/step - loss: 0.8014 - accuracy: 0.4740\n",
      "Epoch 92/100\n",
      "32/32 [==============================] - 0s 7ms/step - loss: 0.7996 - accuracy: 0.4740\n",
      "Epoch 93/100\n",
      "32/32 [==============================] - 0s 6ms/step - loss: 0.7978 - accuracy: 0.4740\n",
      "Epoch 94/100\n",
      "32/32 [==============================] - 0s 7ms/step - loss: 0.7962 - accuracy: 0.4740\n",
      "Epoch 95/100\n",
      "32/32 [==============================] - 0s 11ms/step - loss: 0.7944 - accuracy: 0.4740\n",
      "Epoch 96/100\n",
      "32/32 [==============================] - 0s 8ms/step - loss: 0.7927 - accuracy: 0.4740\n",
      "Epoch 97/100\n",
      "32/32 [==============================] - 0s 7ms/step - loss: 0.7911 - accuracy: 0.4740\n",
      "Epoch 98/100\n",
      "32/32 [==============================] - 0s 6ms/step - loss: 0.7895 - accuracy: 0.4740\n",
      "Epoch 99/100\n",
      "32/32 [==============================] - 0s 6ms/step - loss: 0.7878 - accuracy: 0.4750\n",
      "Epoch 100/100\n",
      "32/32 [==============================] - 0s 5ms/step - loss: 0.7861 - accuracy: 0.4750\n"
     ]
    }
   ],
   "source": [
    "tf.random.set_seed(42)\n",
    "\n",
    "\n",
    "model_5 = tf.keras.Sequential([\n",
    "\n",
    "    tf.keras.layers.Dense(1,activation=\"relu\")\n",
    "])\n",
    "\n",
    "\n",
    "model_5.compile(loss = \"binary_crossentropy\",\n",
    "optimizer = tf.keras.optimizers.Adam(learning_rate=0.001),\n",
    "metrics =[\"accuracy\"])\n",
    "\n",
    "\n",
    "history = model_5.fit(x,y,epochs=100)"
   ]
  },
  {
   "cell_type": "code",
   "execution_count": 27,
   "metadata": {},
   "outputs": [
    {
     "name": "stdout",
     "output_type": "stream",
     "text": [
      "313/313 [==============================] - 1s 2ms/step\n",
      "doing binary classifcation...\n"
     ]
    },
    {
     "data": {
      "image/png": "[encoded data removed]",
      "text/plain": [
       "<Figure size 432x288 with 1 Axes>"
      ]
     },
     "metadata": {
      "needs_background": "light"
     },
     "output_type": "display_data"
    }
   ],
   "source": [
    "plot_decision_boundary(model_5,x,y)"
   ]
  },
  {
   "cell_type": "code",
   "execution_count": 43,
   "metadata": {},
   "outputs": [],
   "source": [
    "tf.random.set_seed(42)\n",
    "\n",
    "\n",
    "model_6 = tf.keras.Sequential([\n",
    "\n",
    "    tf.keras.layers.Dense(4,activation=\"relu\"),\n",
    "    tf.keras.layers.Dense(4,activation=\"relu\"),\n",
    "    tf.keras.layers.Dense(1) # Output Layer\n",
    "])\n",
    "\n",
    "\n",
    "model_6.compile(loss = \"binary_crossentropy\",\n",
    "optimizer = tf.keras.optimizers.Adam(learning_rate=0.001),\n",
    "metrics = [\"accuracy\"])\n",
    "\n",
    "\n",
    "history = model_6.fit(x,y,epochs=250,verbose=0)"
   ]
  },
  {
   "cell_type": "code",
   "execution_count": 37,
   "metadata": {},
   "outputs": [
    {
     "name": "stdout",
     "output_type": "stream",
     "text": [
      "32/32 [==============================] - 0s 5ms/step - loss: 7.7125 - accuracy: 0.5000\n"
     ]
    },
    {
     "data": {
      "text/plain": [
       "[7.712474346160889, 0.5]"
      ]
     },
     "execution_count": 37,
     "metadata": {},
     "output_type": "execute_result"
    }
   ],
   "source": [
    "model_6.evaluate(x,y)"
   ]
  },
  {
   "cell_type": "code",
   "execution_count": 38,
   "metadata": {},
   "outputs": [
    {
     "name": "stdout",
     "output_type": "stream",
     "text": [
      "313/313 [==============================] - 1s 2ms/step\n",
      "doing binary classifcation...\n"
     ]
    },
    {
     "data": {
      "image/png": "[encoded data removed]",
      "text/plain": [
       "<Figure size 432x288 with 1 Axes>"
      ]
     },
     "metadata": {
      "needs_background": "light"
     },
     "output_type": "display_data"
    }
   ],
   "source": [
    "plot_decision_boundary(model_6,x,y)"
   ]
  },
  {
   "cell_type": "code",
   "execution_count": 41,
   "metadata": {},
   "outputs": [
    {
     "name": "stdout",
     "output_type": "stream",
     "text": [
      "Epoch 1/250\n",
      "32/32 [==============================] - 1s 7ms/step - loss: 0.6891 - accuracy: 0.5020\n",
      "Epoch 2/250\n",
      "32/32 [==============================] - 0s 7ms/step - loss: 0.6848 - accuracy: 0.5170\n",
      "Epoch 3/250\n",
      "32/32 [==============================] - 0s 7ms/step - loss: 0.6824 - accuracy: 0.5160\n",
      "Epoch 4/250\n",
      "32/32 [==============================] - 0s 6ms/step - loss: 0.6813 - accuracy: 0.5300\n",
      "Epoch 5/250\n",
      "32/32 [==============================] - 0s 6ms/step - loss: 0.6802 - accuracy: 0.5390\n",
      "Epoch 6/250\n",
      "32/32 [==============================] - 0s 6ms/step - loss: 0.6794 - accuracy: 0.5380\n",
      "Epoch 7/250\n",
      "32/32 [==============================] - 0s 6ms/step - loss: 0.6785 - accuracy: 0.5500\n",
      "Epoch 8/250\n",
      "32/32 [==============================] - 0s 6ms/step - loss: 0.6778 - accuracy: 0.5480\n",
      "Epoch 9/250\n",
      "32/32 [==============================] - 0s 6ms/step - loss: 0.6772 - accuracy: 0.5530\n",
      "Epoch 10/250\n",
      "32/32 [==============================] - 0s 6ms/step - loss: 0.6766 - accuracy: 0.5510\n",
      "Epoch 11/250\n",
      "32/32 [==============================] - 0s 7ms/step - loss: 0.6760 - accuracy: 0.5500\n",
      "Epoch 12/250\n",
      "32/32 [==============================] - 0s 6ms/step - loss: 0.6754 - accuracy: 0.5550\n",
      "Epoch 13/250\n",
      "32/32 [==============================] - 0s 6ms/step - loss: 0.6747 - accuracy: 0.5560\n",
      "Epoch 14/250\n",
      "32/32 [==============================] - 0s 7ms/step - loss: 0.6741 - accuracy: 0.5540\n",
      "Epoch 15/250\n",
      "32/32 [==============================] - 0s 6ms/step - loss: 0.6734 - accuracy: 0.5580\n",
      "Epoch 16/250\n",
      "32/32 [==============================] - 0s 7ms/step - loss: 0.6727 - accuracy: 0.5550\n",
      "Epoch 17/250\n",
      "32/32 [==============================] - 0s 7ms/step - loss: 0.6722 - accuracy: 0.5550\n",
      "Epoch 18/250\n",
      "32/32 [==============================] - 0s 6ms/step - loss: 0.6716 - accuracy: 0.5550\n",
      "Epoch 19/250\n",
      "32/32 [==============================] - 0s 7ms/step - loss: 0.6710 - accuracy: 0.5590\n",
      "Epoch 20/250\n",
      "32/32 [==============================] - 0s 7ms/step - loss: 0.6702 - accuracy: 0.5600\n",
      "Epoch 21/250\n",
      "32/32 [==============================] - 0s 7ms/step - loss: 0.6696 - accuracy: 0.5640\n",
      "Epoch 22/250\n",
      "32/32 [==============================] - 0s 7ms/step - loss: 0.6688 - accuracy: 0.5600\n",
      "Epoch 23/250\n",
      "32/32 [==============================] - 0s 6ms/step - loss: 0.6682 - accuracy: 0.5700\n",
      "Epoch 24/250\n",
      "32/32 [==============================] - 0s 7ms/step - loss: 0.6679 - accuracy: 0.5570\n",
      "Epoch 25/250\n",
      "32/32 [==============================] - 0s 7ms/step - loss: 0.6671 - accuracy: 0.5670\n",
      "Epoch 26/250\n",
      "32/32 [==============================] - 0s 7ms/step - loss: 0.6662 - accuracy: 0.5750\n",
      "Epoch 27/250\n",
      "32/32 [==============================] - 0s 7ms/step - loss: 0.6657 - accuracy: 0.5810\n",
      "Epoch 28/250\n",
      "32/32 [==============================] - 0s 7ms/step - loss: 0.6645 - accuracy: 0.5700\n",
      "Epoch 29/250\n",
      "32/32 [==============================] - 0s 6ms/step - loss: 0.6642 - accuracy: 0.5700\n",
      "Epoch 30/250\n",
      "32/32 [==============================] - 0s 7ms/step - loss: 0.6634 - accuracy: 0.5790\n",
      "Epoch 31/250\n",
      "32/32 [==============================] - 0s 7ms/step - loss: 0.6627 - accuracy: 0.5760\n",
      "Epoch 32/250\n",
      "32/32 [==============================] - 0s 7ms/step - loss: 0.6619 - accuracy: 0.5760\n",
      "Epoch 33/250\n",
      "32/32 [==============================] - 0s 7ms/step - loss: 0.6610 - accuracy: 0.5760\n",
      "Epoch 34/250\n",
      "32/32 [==============================] - 0s 7ms/step - loss: 0.6606 - accuracy: 0.5760\n",
      "Epoch 35/250\n",
      "32/32 [==============================] - 0s 7ms/step - loss: 0.6597 - accuracy: 0.5790\n",
      "Epoch 36/250\n",
      "32/32 [==============================] - 0s 7ms/step - loss: 0.6586 - accuracy: 0.5780\n",
      "Epoch 37/250\n",
      "32/32 [==============================] - 0s 7ms/step - loss: 0.6580 - accuracy: 0.5780\n",
      "Epoch 38/250\n",
      "32/32 [==============================] - 0s 16ms/step - loss: 0.6573 - accuracy: 0.5790\n",
      "Epoch 39/250\n",
      "32/32 [==============================] - 0s 7ms/step - loss: 0.6564 - accuracy: 0.5790\n",
      "Epoch 40/250\n",
      "32/32 [==============================] - 0s 7ms/step - loss: 0.6556 - accuracy: 0.5760\n",
      "Epoch 41/250\n",
      "32/32 [==============================] - 0s 6ms/step - loss: 0.6548 - accuracy: 0.5780\n",
      "Epoch 42/250\n",
      "32/32 [==============================] - 0s 6ms/step - loss: 0.6540 - accuracy: 0.5750\n",
      "Epoch 43/250\n",
      "32/32 [==============================] - 0s 7ms/step - loss: 0.6530 - accuracy: 0.5780\n",
      "Epoch 44/250\n",
      "32/32 [==============================] - 0s 6ms/step - loss: 0.6521 - accuracy: 0.5810\n",
      "Epoch 45/250\n",
      "32/32 [==============================] - 0s 6ms/step - loss: 0.6496 - accuracy: 0.5810\n",
      "Epoch 46/250\n",
      "32/32 [==============================] - 0s 6ms/step - loss: 0.6481 - accuracy: 0.5830\n",
      "Epoch 47/250\n",
      "32/32 [==============================] - 0s 10ms/step - loss: 0.6472 - accuracy: 0.5850\n",
      "Epoch 48/250\n",
      "32/32 [==============================] - 0s 7ms/step - loss: 0.6451 - accuracy: 0.5880\n",
      "Epoch 49/250\n",
      "32/32 [==============================] - 0s 8ms/step - loss: 0.6426 - accuracy: 0.5880\n",
      "Epoch 50/250\n",
      "32/32 [==============================] - 0s 6ms/step - loss: 0.6404 - accuracy: 0.5940\n",
      "Epoch 51/250\n",
      "32/32 [==============================] - 0s 6ms/step - loss: 0.6384 - accuracy: 0.6010\n",
      "Epoch 52/250\n",
      "32/32 [==============================] - 0s 6ms/step - loss: 0.6364 - accuracy: 0.6130\n",
      "Epoch 53/250\n",
      "32/32 [==============================] - 0s 7ms/step - loss: 0.6344 - accuracy: 0.6110\n",
      "Epoch 54/250\n",
      "32/32 [==============================] - 0s 9ms/step - loss: 0.6312 - accuracy: 0.6280\n",
      "Epoch 55/250\n",
      "32/32 [==============================] - 0s 6ms/step - loss: 0.6287 - accuracy: 0.6380\n",
      "Epoch 56/250\n",
      "32/32 [==============================] - 0s 7ms/step - loss: 0.6259 - accuracy: 0.6840\n",
      "Epoch 57/250\n",
      "32/32 [==============================] - 0s 6ms/step - loss: 0.6227 - accuracy: 0.6950\n",
      "Epoch 58/250\n",
      "32/32 [==============================] - 0s 6ms/step - loss: 0.6200 - accuracy: 0.6990\n",
      "Epoch 59/250\n",
      "32/32 [==============================] - 0s 6ms/step - loss: 0.6168 - accuracy: 0.6950\n",
      "Epoch 60/250\n",
      "32/32 [==============================] - 0s 6ms/step - loss: 0.6133 - accuracy: 0.7240\n",
      "Epoch 61/250\n",
      "32/32 [==============================] - 0s 6ms/step - loss: 0.6101 - accuracy: 0.7200\n",
      "Epoch 62/250\n",
      "32/32 [==============================] - 0s 5ms/step - loss: 0.6059 - accuracy: 0.7330\n",
      "Epoch 63/250\n",
      "32/32 [==============================] - 0s 5ms/step - loss: 0.6014 - accuracy: 0.7400\n",
      "Epoch 64/250\n",
      "32/32 [==============================] - 0s 6ms/step - loss: 0.5966 - accuracy: 0.7460\n",
      "Epoch 65/250\n",
      "32/32 [==============================] - 0s 6ms/step - loss: 0.5905 - accuracy: 0.7440\n",
      "Epoch 66/250\n",
      "32/32 [==============================] - 0s 6ms/step - loss: 0.5830 - accuracy: 0.7450\n",
      "Epoch 67/250\n",
      "32/32 [==============================] - 0s 7ms/step - loss: 0.5757 - accuracy: 0.7460\n",
      "Epoch 68/250\n",
      "32/32 [==============================] - 0s 6ms/step - loss: 0.5683 - accuracy: 0.7800\n",
      "Epoch 69/250\n",
      "32/32 [==============================] - 0s 7ms/step - loss: 0.5614 - accuracy: 0.8010\n",
      "Epoch 70/250\n",
      "32/32 [==============================] - 0s 5ms/step - loss: 0.5548 - accuracy: 0.8010\n",
      "Epoch 71/250\n",
      "32/32 [==============================] - 0s 6ms/step - loss: 0.5474 - accuracy: 0.8240\n",
      "Epoch 72/250\n",
      "32/32 [==============================] - 0s 6ms/step - loss: 0.5406 - accuracy: 0.8460\n",
      "Epoch 73/250\n",
      "32/32 [==============================] - 0s 7ms/step - loss: 0.5327 - accuracy: 0.8470\n",
      "Epoch 74/250\n",
      "32/32 [==============================] - 0s 12ms/step - loss: 0.5243 - accuracy: 0.8620\n",
      "Epoch 75/250\n",
      "32/32 [==============================] - 0s 7ms/step - loss: 0.5148 - accuracy: 0.8870\n",
      "Epoch 76/250\n",
      "32/32 [==============================] - 0s 8ms/step - loss: 0.5042 - accuracy: 0.8820\n",
      "Epoch 77/250\n",
      "32/32 [==============================] - 0s 6ms/step - loss: 0.4927 - accuracy: 0.9300\n",
      "Epoch 78/250\n",
      "32/32 [==============================] - 0s 5ms/step - loss: 0.4824 - accuracy: 0.9090\n",
      "Epoch 79/250\n",
      "32/32 [==============================] - 0s 5ms/step - loss: 0.4733 - accuracy: 0.9460\n",
      "Epoch 80/250\n",
      "32/32 [==============================] - 0s 5ms/step - loss: 0.4632 - accuracy: 0.9600\n",
      "Epoch 81/250\n",
      "32/32 [==============================] - 0s 6ms/step - loss: 0.4546 - accuracy: 0.9600\n",
      "Epoch 82/250\n",
      "32/32 [==============================] - 0s 6ms/step - loss: 0.4456 - accuracy: 0.9580\n",
      "Epoch 83/250\n",
      "32/32 [==============================] - 0s 5ms/step - loss: 0.4360 - accuracy: 0.9630\n",
      "Epoch 84/250\n",
      "32/32 [==============================] - 0s 5ms/step - loss: 0.4260 - accuracy: 0.9690\n",
      "Epoch 85/250\n",
      "32/32 [==============================] - 0s 6ms/step - loss: 0.4145 - accuracy: 0.9700\n",
      "Epoch 86/250\n",
      "32/32 [==============================] - 0s 6ms/step - loss: 0.4059 - accuracy: 0.9740\n",
      "Epoch 87/250\n",
      "32/32 [==============================] - 0s 5ms/step - loss: 0.3962 - accuracy: 0.9750\n",
      "Epoch 88/250\n",
      "32/32 [==============================] - 0s 6ms/step - loss: 0.3873 - accuracy: 0.9720\n",
      "Epoch 89/250\n",
      "32/32 [==============================] - 0s 7ms/step - loss: 0.3795 - accuracy: 0.9750\n",
      "Epoch 90/250\n",
      "32/32 [==============================] - 0s 7ms/step - loss: 0.3716 - accuracy: 0.9750\n",
      "Epoch 91/250\n",
      "32/32 [==============================] - 0s 8ms/step - loss: 0.3635 - accuracy: 0.9840\n",
      "Epoch 92/250\n",
      "32/32 [==============================] - 0s 6ms/step - loss: 0.3554 - accuracy: 0.9830\n",
      "Epoch 93/250\n",
      "32/32 [==============================] - 0s 5ms/step - loss: 0.3482 - accuracy: 0.9800\n",
      "Epoch 94/250\n",
      "32/32 [==============================] - 0s 5ms/step - loss: 0.3404 - accuracy: 0.9820\n",
      "Epoch 95/250\n",
      "32/32 [==============================] - 0s 6ms/step - loss: 0.3329 - accuracy: 0.9880\n",
      "Epoch 96/250\n",
      "32/32 [==============================] - 0s 5ms/step - loss: 0.3268 - accuracy: 0.9870\n",
      "Epoch 97/250\n",
      "32/32 [==============================] - 0s 5ms/step - loss: 0.3190 - accuracy: 0.9870\n",
      "Epoch 98/250\n",
      "32/32 [==============================] - 0s 6ms/step - loss: 0.3122 - accuracy: 0.9890\n",
      "Epoch 99/250\n",
      "32/32 [==============================] - 0s 6ms/step - loss: 0.3059 - accuracy: 0.9880\n",
      "Epoch 100/250\n",
      "32/32 [==============================] - 0s 5ms/step - loss: 0.2993 - accuracy: 0.9890\n",
      "Epoch 101/250\n",
      "32/32 [==============================] - 0s 7ms/step - loss: 0.2931 - accuracy: 0.9900\n",
      "Epoch 102/250\n",
      "32/32 [==============================] - 0s 5ms/step - loss: 0.2871 - accuracy: 0.9900\n",
      "Epoch 103/250\n",
      "32/32 [==============================] - 0s 5ms/step - loss: 0.2805 - accuracy: 0.9900\n",
      "Epoch 104/250\n",
      "32/32 [==============================] - 0s 6ms/step - loss: 0.2749 - accuracy: 0.9920\n",
      "Epoch 105/250\n",
      "32/32 [==============================] - 0s 6ms/step - loss: 0.2698 - accuracy: 0.9910\n",
      "Epoch 106/250\n",
      "32/32 [==============================] - 0s 5ms/step - loss: 0.2639 - accuracy: 0.9910\n",
      "Epoch 107/250\n",
      "32/32 [==============================] - 0s 6ms/step - loss: 0.2589 - accuracy: 0.9900\n",
      "Epoch 108/250\n",
      "32/32 [==============================] - 0s 6ms/step - loss: 0.2539 - accuracy: 0.9890\n",
      "Epoch 109/250\n",
      "32/32 [==============================] - 0s 5ms/step - loss: 0.2483 - accuracy: 0.9920\n",
      "Epoch 110/250\n",
      "32/32 [==============================] - 0s 6ms/step - loss: 0.2433 - accuracy: 0.9920\n",
      "Epoch 111/250\n",
      "32/32 [==============================] - 0s 5ms/step - loss: 0.2390 - accuracy: 0.9900\n",
      "Epoch 112/250\n",
      "32/32 [==============================] - 0s 5ms/step - loss: 0.2354 - accuracy: 0.9900\n",
      "Epoch 113/250\n",
      "32/32 [==============================] - 0s 5ms/step - loss: 0.2293 - accuracy: 0.9910\n",
      "Epoch 114/250\n",
      "32/32 [==============================] - 0s 5ms/step - loss: 0.2251 - accuracy: 0.9910\n",
      "Epoch 115/250\n",
      "32/32 [==============================] - 0s 5ms/step - loss: 0.2209 - accuracy: 0.9920\n",
      "Epoch 116/250\n",
      "32/32 [==============================] - 0s 5ms/step - loss: 0.2164 - accuracy: 0.9920\n",
      "Epoch 117/250\n",
      "32/32 [==============================] - 0s 5ms/step - loss: 0.2130 - accuracy: 0.9900\n",
      "Epoch 118/250\n",
      "32/32 [==============================] - 0s 6ms/step - loss: 0.2092 - accuracy: 0.9910\n",
      "Epoch 119/250\n",
      "32/32 [==============================] - 0s 6ms/step - loss: 0.2050 - accuracy: 0.9910\n",
      "Epoch 120/250\n",
      "32/32 [==============================] - 0s 6ms/step - loss: 0.2016 - accuracy: 0.9890\n",
      "Epoch 121/250\n",
      "32/32 [==============================] - 0s 5ms/step - loss: 0.1979 - accuracy: 0.9920\n",
      "Epoch 122/250\n",
      "32/32 [==============================] - 0s 6ms/step - loss: 0.1938 - accuracy: 0.9910\n",
      "Epoch 123/250\n",
      "32/32 [==============================] - 0s 5ms/step - loss: 0.1906 - accuracy: 0.9920\n",
      "Epoch 124/250\n",
      "32/32 [==============================] - 0s 6ms/step - loss: 0.1872 - accuracy: 0.9910\n",
      "Epoch 125/250\n",
      "32/32 [==============================] - 0s 5ms/step - loss: 0.1839 - accuracy: 0.9900\n",
      "Epoch 126/250\n",
      "32/32 [==============================] - 0s 5ms/step - loss: 0.1809 - accuracy: 0.9920\n",
      "Epoch 127/250\n",
      "32/32 [==============================] - 0s 5ms/step - loss: 0.1771 - accuracy: 0.9910\n",
      "Epoch 128/250\n",
      "32/32 [==============================] - 0s 5ms/step - loss: 0.1747 - accuracy: 0.9920\n",
      "Epoch 129/250\n",
      "32/32 [==============================] - 0s 5ms/step - loss: 0.1712 - accuracy: 0.9930\n",
      "Epoch 130/250\n",
      "32/32 [==============================] - 0s 5ms/step - loss: 0.1682 - accuracy: 0.9930\n",
      "Epoch 131/250\n",
      "32/32 [==============================] - 0s 5ms/step - loss: 0.1662 - accuracy: 0.9910\n",
      "Epoch 132/250\n",
      "32/32 [==============================] - 0s 5ms/step - loss: 0.1630 - accuracy: 0.9930\n",
      "Epoch 133/250\n",
      "32/32 [==============================] - 0s 5ms/step - loss: 0.1603 - accuracy: 0.9910\n",
      "Epoch 134/250\n",
      "32/32 [==============================] - 0s 5ms/step - loss: 0.1578 - accuracy: 0.9910\n",
      "Epoch 135/250\n",
      "32/32 [==============================] - 0s 6ms/step - loss: 0.1552 - accuracy: 0.9940\n",
      "Epoch 136/250\n",
      "32/32 [==============================] - 0s 6ms/step - loss: 0.1530 - accuracy: 0.9920\n",
      "Epoch 137/250\n",
      "32/32 [==============================] - 0s 6ms/step - loss: 0.1510 - accuracy: 0.9920\n",
      "Epoch 138/250\n",
      "32/32 [==============================] - 0s 6ms/step - loss: 0.1480 - accuracy: 0.9930\n",
      "Epoch 139/250\n",
      "32/32 [==============================] - 0s 5ms/step - loss: 0.1459 - accuracy: 0.9920\n",
      "Epoch 140/250\n",
      "32/32 [==============================] - 0s 5ms/step - loss: 0.1439 - accuracy: 0.9910\n",
      "Epoch 141/250\n",
      "32/32 [==============================] - 0s 6ms/step - loss: 0.1420 - accuracy: 0.9930\n",
      "Epoch 142/250\n",
      "32/32 [==============================] - 0s 6ms/step - loss: 0.1392 - accuracy: 0.9940\n",
      "Epoch 143/250\n",
      "32/32 [==============================] - 0s 6ms/step - loss: 0.1376 - accuracy: 0.9920\n",
      "Epoch 144/250\n",
      "32/32 [==============================] - 0s 5ms/step - loss: 0.1356 - accuracy: 0.9930\n",
      "Epoch 145/250\n",
      "32/32 [==============================] - 0s 6ms/step - loss: 0.1332 - accuracy: 0.9920\n",
      "Epoch 146/250\n",
      "32/32 [==============================] - 0s 6ms/step - loss: 0.1314 - accuracy: 0.9910\n",
      "Epoch 147/250\n",
      "32/32 [==============================] - 0s 5ms/step - loss: 0.1295 - accuracy: 0.9900\n",
      "Epoch 148/250\n",
      "32/32 [==============================] - 0s 5ms/step - loss: 0.1276 - accuracy: 0.9930\n",
      "Epoch 149/250\n",
      "32/32 [==============================] - 0s 5ms/step - loss: 0.1257 - accuracy: 0.9930\n",
      "Epoch 150/250\n",
      "32/32 [==============================] - 0s 6ms/step - loss: 0.1242 - accuracy: 0.9920\n",
      "Epoch 151/250\n",
      "32/32 [==============================] - 0s 5ms/step - loss: 0.1229 - accuracy: 0.9910\n",
      "Epoch 152/250\n",
      "32/32 [==============================] - 0s 6ms/step - loss: 0.1208 - accuracy: 0.9920\n",
      "Epoch 153/250\n",
      "32/32 [==============================] - 0s 6ms/step - loss: 0.1190 - accuracy: 0.9930\n",
      "Epoch 154/250\n",
      "32/32 [==============================] - 0s 6ms/step - loss: 0.1174 - accuracy: 0.9920\n",
      "Epoch 155/250\n",
      "32/32 [==============================] - 0s 6ms/step - loss: 0.1156 - accuracy: 0.9940\n",
      "Epoch 156/250\n",
      "32/32 [==============================] - 0s 6ms/step - loss: 0.1143 - accuracy: 0.9930\n",
      "Epoch 157/250\n",
      "32/32 [==============================] - 0s 6ms/step - loss: 0.1128 - accuracy: 0.9920\n",
      "Epoch 158/250\n",
      "32/32 [==============================] - 0s 5ms/step - loss: 0.1112 - accuracy: 0.9930\n",
      "Epoch 159/250\n",
      "32/32 [==============================] - 0s 5ms/step - loss: 0.1099 - accuracy: 0.9920\n",
      "Epoch 160/250\n",
      "32/32 [==============================] - 0s 5ms/step - loss: 0.1090 - accuracy: 0.9900\n",
      "Epoch 161/250\n",
      "32/32 [==============================] - 0s 5ms/step - loss: 0.1079 - accuracy: 0.9930\n",
      "Epoch 162/250\n",
      "32/32 [==============================] - 0s 6ms/step - loss: 0.1058 - accuracy: 0.9930\n",
      "Epoch 163/250\n",
      "32/32 [==============================] - 0s 5ms/step - loss: 0.1046 - accuracy: 0.9940\n",
      "Epoch 164/250\n",
      "32/32 [==============================] - 0s 5ms/step - loss: 0.1031 - accuracy: 0.9930\n",
      "Epoch 165/250\n",
      "32/32 [==============================] - 0s 6ms/step - loss: 0.1027 - accuracy: 0.9890\n",
      "Epoch 166/250\n",
      "32/32 [==============================] - 0s 5ms/step - loss: 0.1010 - accuracy: 0.9930\n",
      "Epoch 167/250\n",
      "32/32 [==============================] - 0s 5ms/step - loss: 0.0996 - accuracy: 0.9930\n",
      "Epoch 168/250\n",
      "32/32 [==============================] - 0s 6ms/step - loss: 0.0986 - accuracy: 0.9920\n",
      "Epoch 169/250\n",
      "32/32 [==============================] - 0s 6ms/step - loss: 0.0970 - accuracy: 0.9930\n",
      "Epoch 170/250\n",
      "32/32 [==============================] - 0s 5ms/step - loss: 0.0959 - accuracy: 0.9920\n",
      "Epoch 171/250\n",
      "32/32 [==============================] - 0s 6ms/step - loss: 0.0949 - accuracy: 0.9920\n",
      "Epoch 172/250\n",
      "32/32 [==============================] - 0s 5ms/step - loss: 0.0937 - accuracy: 0.9920\n",
      "Epoch 173/250\n",
      "32/32 [==============================] - 0s 6ms/step - loss: 0.0926 - accuracy: 0.9930\n",
      "Epoch 174/250\n",
      "32/32 [==============================] - 0s 5ms/step - loss: 0.0915 - accuracy: 0.9920\n",
      "Epoch 175/250\n",
      "32/32 [==============================] - 0s 5ms/step - loss: 0.0913 - accuracy: 0.9910\n",
      "Epoch 176/250\n",
      "32/32 [==============================] - 0s 6ms/step - loss: 0.0900 - accuracy: 0.9930\n",
      "Epoch 177/250\n",
      "32/32 [==============================] - 0s 6ms/step - loss: 0.0885 - accuracy: 0.9940\n",
      "Epoch 178/250\n",
      "32/32 [==============================] - 0s 5ms/step - loss: 0.0882 - accuracy: 0.9900\n",
      "Epoch 179/250\n",
      "32/32 [==============================] - 0s 6ms/step - loss: 0.0869 - accuracy: 0.9920\n",
      "Epoch 180/250\n",
      "32/32 [==============================] - 0s 5ms/step - loss: 0.0859 - accuracy: 0.9930\n",
      "Epoch 181/250\n",
      "32/32 [==============================] - 0s 5ms/step - loss: 0.0851 - accuracy: 0.9930\n",
      "Epoch 182/250\n",
      "32/32 [==============================] - 0s 5ms/step - loss: 0.0840 - accuracy: 0.9920\n",
      "Epoch 183/250\n",
      "32/32 [==============================] - 0s 6ms/step - loss: 0.0831 - accuracy: 0.9920\n",
      "Epoch 184/250\n",
      "32/32 [==============================] - 0s 5ms/step - loss: 0.0823 - accuracy: 0.9920\n",
      "Epoch 185/250\n",
      "32/32 [==============================] - 0s 5ms/step - loss: 0.0816 - accuracy: 0.9940\n",
      "Epoch 186/250\n",
      "32/32 [==============================] - 0s 5ms/step - loss: 0.0809 - accuracy: 0.9930\n",
      "Epoch 187/250\n",
      "32/32 [==============================] - 0s 5ms/step - loss: 0.0801 - accuracy: 0.9940\n",
      "Epoch 188/250\n",
      "32/32 [==============================] - 0s 6ms/step - loss: 0.0786 - accuracy: 0.9920\n",
      "Epoch 189/250\n",
      "32/32 [==============================] - 0s 5ms/step - loss: 0.0780 - accuracy: 0.9930\n",
      "Epoch 190/250\n",
      "32/32 [==============================] - 0s 6ms/step - loss: 0.0773 - accuracy: 0.9930\n",
      "Epoch 191/250\n",
      "32/32 [==============================] - 0s 5ms/step - loss: 0.0767 - accuracy: 0.9920\n",
      "Epoch 192/250\n",
      "32/32 [==============================] - 0s 5ms/step - loss: 0.0759 - accuracy: 0.9910\n",
      "Epoch 193/250\n",
      "32/32 [==============================] - 0s 6ms/step - loss: 0.0748 - accuracy: 0.9910\n",
      "Epoch 194/250\n",
      "32/32 [==============================] - 0s 6ms/step - loss: 0.0742 - accuracy: 0.9920\n",
      "Epoch 195/250\n",
      "32/32 [==============================] - 0s 6ms/step - loss: 0.0735 - accuracy: 0.9930\n",
      "Epoch 196/250\n",
      "32/32 [==============================] - 0s 5ms/step - loss: 0.0728 - accuracy: 0.9920\n",
      "Epoch 197/250\n",
      "32/32 [==============================] - 0s 5ms/step - loss: 0.0719 - accuracy: 0.9920\n",
      "Epoch 198/250\n",
      "32/32 [==============================] - 0s 5ms/step - loss: 0.0716 - accuracy: 0.9930\n",
      "Epoch 199/250\n",
      "32/32 [==============================] - 0s 6ms/step - loss: 0.0704 - accuracy: 0.9920\n",
      "Epoch 200/250\n",
      "32/32 [==============================] - 0s 5ms/step - loss: 0.0702 - accuracy: 0.9920\n",
      "Epoch 201/250\n",
      "32/32 [==============================] - 0s 5ms/step - loss: 0.0695 - accuracy: 0.9930\n",
      "Epoch 202/250\n",
      "32/32 [==============================] - 0s 6ms/step - loss: 0.0686 - accuracy: 0.9930\n",
      "Epoch 203/250\n",
      "32/32 [==============================] - 0s 6ms/step - loss: 0.0682 - accuracy: 0.9930\n",
      "Epoch 204/250\n",
      "32/32 [==============================] - 0s 5ms/step - loss: 0.0671 - accuracy: 0.9920\n",
      "Epoch 205/250\n",
      "32/32 [==============================] - 0s 5ms/step - loss: 0.0668 - accuracy: 0.9930\n",
      "Epoch 206/250\n",
      "32/32 [==============================] - 0s 5ms/step - loss: 0.0666 - accuracy: 0.9930\n",
      "Epoch 207/250\n",
      "32/32 [==============================] - 0s 5ms/step - loss: 0.0654 - accuracy: 0.9920\n",
      "Epoch 208/250\n",
      "32/32 [==============================] - 0s 5ms/step - loss: 0.0654 - accuracy: 0.9930\n",
      "Epoch 209/250\n",
      "32/32 [==============================] - 0s 5ms/step - loss: 0.0647 - accuracy: 0.9920\n",
      "Epoch 210/250\n",
      "32/32 [==============================] - 0s 6ms/step - loss: 0.0641 - accuracy: 0.9920\n",
      "Epoch 211/250\n",
      "32/32 [==============================] - 0s 7ms/step - loss: 0.0643 - accuracy: 0.9920\n",
      "Epoch 212/250\n",
      "32/32 [==============================] - 0s 5ms/step - loss: 0.0627 - accuracy: 0.9920\n",
      "Epoch 213/250\n",
      "32/32 [==============================] - 0s 6ms/step - loss: 0.0623 - accuracy: 0.9920\n",
      "Epoch 214/250\n",
      "32/32 [==============================] - 0s 5ms/step - loss: 0.0615 - accuracy: 0.9930\n",
      "Epoch 215/250\n",
      "32/32 [==============================] - 0s 5ms/step - loss: 0.0610 - accuracy: 0.9920\n",
      "Epoch 216/250\n",
      "32/32 [==============================] - 0s 5ms/step - loss: 0.0610 - accuracy: 0.9910\n",
      "Epoch 217/250\n",
      "32/32 [==============================] - 0s 6ms/step - loss: 0.0599 - accuracy: 0.9930\n",
      "Epoch 218/250\n",
      "32/32 [==============================] - 0s 5ms/step - loss: 0.0594 - accuracy: 0.9910\n",
      "Epoch 219/250\n",
      "32/32 [==============================] - 0s 6ms/step - loss: 0.0591 - accuracy: 0.9930\n",
      "Epoch 220/250\n",
      "32/32 [==============================] - 0s 5ms/step - loss: 0.0589 - accuracy: 0.9920\n",
      "Epoch 221/250\n",
      "32/32 [==============================] - 0s 5ms/step - loss: 0.0583 - accuracy: 0.9930\n",
      "Epoch 222/250\n",
      "32/32 [==============================] - 0s 6ms/step - loss: 0.0575 - accuracy: 0.9920\n",
      "Epoch 223/250\n",
      "32/32 [==============================] - 0s 5ms/step - loss: 0.0574 - accuracy: 0.9930\n",
      "Epoch 224/250\n",
      "32/32 [==============================] - 0s 6ms/step - loss: 0.0569 - accuracy: 0.9930\n",
      "Epoch 225/250\n",
      "32/32 [==============================] - 0s 6ms/step - loss: 0.0567 - accuracy: 0.9950\n",
      "Epoch 226/250\n",
      "32/32 [==============================] - 0s 5ms/step - loss: 0.0560 - accuracy: 0.9920\n",
      "Epoch 227/250\n",
      "32/32 [==============================] - 0s 6ms/step - loss: 0.0554 - accuracy: 0.9950\n",
      "Epoch 228/250\n",
      "32/32 [==============================] - 0s 8ms/step - loss: 0.0549 - accuracy: 0.9920\n",
      "Epoch 229/250\n",
      "32/32 [==============================] - 0s 6ms/step - loss: 0.0543 - accuracy: 0.9920\n",
      "Epoch 230/250\n",
      "32/32 [==============================] - 0s 6ms/step - loss: 0.0538 - accuracy: 0.9930\n",
      "Epoch 231/250\n",
      "32/32 [==============================] - 0s 5ms/step - loss: 0.0533 - accuracy: 0.9930\n",
      "Epoch 232/250\n",
      "32/32 [==============================] - 0s 5ms/step - loss: 0.0531 - accuracy: 0.9920\n",
      "Epoch 233/250\n",
      "32/32 [==============================] - 0s 6ms/step - loss: 0.0529 - accuracy: 0.9930\n",
      "Epoch 234/250\n",
      "32/32 [==============================] - 0s 5ms/step - loss: 0.0523 - accuracy: 0.9930\n",
      "Epoch 235/250\n",
      "32/32 [==============================] - 0s 8ms/step - loss: 0.0519 - accuracy: 0.9930\n",
      "Epoch 236/250\n",
      "32/32 [==============================] - 0s 6ms/step - loss: 0.0515 - accuracy: 0.9930\n",
      "Epoch 237/250\n",
      "32/32 [==============================] - 0s 6ms/step - loss: 0.0513 - accuracy: 0.9900\n",
      "Epoch 238/250\n",
      "32/32 [==============================] - 0s 6ms/step - loss: 0.0512 - accuracy: 0.9920\n",
      "Epoch 239/250\n",
      "32/32 [==============================] - 0s 6ms/step - loss: 0.0503 - accuracy: 0.9930\n",
      "Epoch 240/250\n",
      "32/32 [==============================] - 0s 6ms/step - loss: 0.0503 - accuracy: 0.9940\n",
      "Epoch 241/250\n",
      "32/32 [==============================] - 0s 6ms/step - loss: 0.0500 - accuracy: 0.9920\n",
      "Epoch 242/250\n",
      "32/32 [==============================] - 0s 7ms/step - loss: 0.0494 - accuracy: 0.9930\n",
      "Epoch 243/250\n",
      "32/32 [==============================] - 0s 5ms/step - loss: 0.0491 - accuracy: 0.9930\n",
      "Epoch 244/250\n",
      "32/32 [==============================] - 0s 6ms/step - loss: 0.0492 - accuracy: 0.9920\n",
      "Epoch 245/250\n",
      "32/32 [==============================] - 0s 6ms/step - loss: 0.0487 - accuracy: 0.9940\n",
      "Epoch 246/250\n",
      "32/32 [==============================] - 0s 6ms/step - loss: 0.0483 - accuracy: 0.9930\n",
      "Epoch 247/250\n",
      "32/32 [==============================] - 0s 6ms/step - loss: 0.0479 - accuracy: 0.9950\n",
      "Epoch 248/250\n",
      "32/32 [==============================] - 0s 6ms/step - loss: 0.0475 - accuracy: 0.9930\n",
      "Epoch 249/250\n",
      "32/32 [==============================] - 0s 5ms/step - loss: 0.0471 - accuracy: 0.9950\n",
      "Epoch 250/250\n",
      "32/32 [==============================] - 0s 6ms/step - loss: 0.0471 - accuracy: 0.9940\n"
     ]
    }
   ],
   "source": [
    "tf.random.set_seed(42)\n",
    "\n",
    "\n",
    "model_7 = tf.keras.Sequential([\n",
    "\n",
    "    tf.keras.layers.Dense(4,activation = \"relu\"),\n",
    "    tf.keras.layers.Dense(4,activation=\"relu\"),\n",
    "    tf.keras.layers.Dense(1,activation = \"sigmoid\")\n",
    "])\n",
    "\n",
    "\n",
    "model_7.compile(loss = \"binary_crossentropy\",\n",
    "optimizer = tf.keras.optimizers.Adam(learning_rate=0.001),\n",
    "metrics = [\"accuracy\"])\n",
    "\n",
    "history = model_7.fit(x,y,epochs=250)"
   ]
  },
  {
   "cell_type": "code",
   "execution_count": 42,
   "metadata": {},
   "outputs": [
    {
     "name": "stdout",
     "output_type": "stream",
     "text": [
      "313/313 [==============================] - 1s 2ms/step\n",
      "doing binary classifcation...\n"
     ]
    },
    {
     "data": {
      "image/png": "[encoded data removed]",
      "text/plain": [
       "<Figure size 432x288 with 1 Axes>"
      ]
     },
     "metadata": {
      "needs_background": "light"
     },
     "output_type": "display_data"
    }
   ],
   "source": [
    "plot_decision_boundary(model_7,x,y)"
   ]
  },
  {
   "cell_type": "markdown",
   "metadata": {},
   "source": [
    "#### Evaluating and improving our classification"
   ]
  },
  {
   "cell_type": "code",
   "execution_count": 44,
   "metadata": {},
   "outputs": [
    {
     "data": {
      "text/plain": [
       "1000"
      ]
     },
     "execution_count": 44,
     "metadata": {},
     "output_type": "execute_result"
    }
   ],
   "source": [
    "len(x)"
   ]
  },
  {
   "cell_type": "code",
   "execution_count": 45,
   "metadata": {},
   "outputs": [],
   "source": [
    "from sklearn.model_selection import train_test_split\n",
    "\n",
    "x_train,x_test,y_train,y_test = train_test_split(x,y,test_size=0.2)"
   ]
  },
  {
   "cell_type": "code",
   "execution_count": 47,
   "metadata": {},
   "outputs": [
    {
     "data": {
      "text/plain": [
       "((800, 2), (800,), (200, 2), (200,))"
      ]
     },
     "execution_count": 47,
     "metadata": {},
     "output_type": "execute_result"
    }
   ],
   "source": [
    "x_train.shape,y_train.shape,x_test.shape,y_test.shape"
   ]
  },
  {
   "cell_type": "code",
   "execution_count": 49,
   "metadata": {},
   "outputs": [
    {
     "name": "stdout",
     "output_type": "stream",
     "text": [
      "Epoch 1/250\n",
      "25/25 [==============================] - 1s 6ms/step - loss: 0.6937 - accuracy: 0.4913\n",
      "Epoch 2/250\n",
      "25/25 [==============================] - 0s 5ms/step - loss: 0.6878 - accuracy: 0.5063\n",
      "Epoch 3/250\n",
      "25/25 [==============================] - 0s 5ms/step - loss: 0.6848 - accuracy: 0.5063\n",
      "Epoch 4/250\n",
      "25/25 [==============================] - 0s 5ms/step - loss: 0.6833 - accuracy: 0.5175\n",
      "Epoch 5/250\n",
      "25/25 [==============================] - 0s 5ms/step - loss: 0.6823 - accuracy: 0.5312\n",
      "Epoch 6/250\n",
      "25/25 [==============================] - 0s 5ms/step - loss: 0.6818 - accuracy: 0.5450\n",
      "Epoch 7/250\n",
      "25/25 [==============================] - 0s 5ms/step - loss: 0.6810 - accuracy: 0.5475\n",
      "Epoch 8/250\n",
      "25/25 [==============================] - 0s 5ms/step - loss: 0.6804 - accuracy: 0.5475\n",
      "Epoch 9/250\n",
      "25/25 [==============================] - 0s 5ms/step - loss: 0.6799 - accuracy: 0.5462\n",
      "Epoch 10/250\n",
      "25/25 [==============================] - 0s 4ms/step - loss: 0.6794 - accuracy: 0.5500\n",
      "Epoch 11/250\n",
      "25/25 [==============================] - 0s 5ms/step - loss: 0.6787 - accuracy: 0.5600\n",
      "Epoch 12/250\n",
      "25/25 [==============================] - 0s 5ms/step - loss: 0.6781 - accuracy: 0.5525\n",
      "Epoch 13/250\n",
      "25/25 [==============================] - 0s 5ms/step - loss: 0.6778 - accuracy: 0.5462\n",
      "Epoch 14/250\n",
      "25/25 [==============================] - 0s 5ms/step - loss: 0.6771 - accuracy: 0.5512\n",
      "Epoch 15/250\n",
      "25/25 [==============================] - 0s 5ms/step - loss: 0.6767 - accuracy: 0.5550\n",
      "Epoch 16/250\n",
      "25/25 [==============================] - 0s 5ms/step - loss: 0.6760 - accuracy: 0.5675\n",
      "Epoch 17/250\n",
      "25/25 [==============================] - 0s 5ms/step - loss: 0.6755 - accuracy: 0.5775\n",
      "Epoch 18/250\n",
      "25/25 [==============================] - 0s 5ms/step - loss: 0.6749 - accuracy: 0.5713\n",
      "Epoch 19/250\n",
      "25/25 [==============================] - 0s 5ms/step - loss: 0.6743 - accuracy: 0.5650\n",
      "Epoch 20/250\n",
      "25/25 [==============================] - 0s 5ms/step - loss: 0.6738 - accuracy: 0.5750\n",
      "Epoch 21/250\n",
      "25/25 [==============================] - 0s 5ms/step - loss: 0.6733 - accuracy: 0.5650\n",
      "Epoch 22/250\n",
      "25/25 [==============================] - 0s 5ms/step - loss: 0.6726 - accuracy: 0.5700\n",
      "Epoch 23/250\n",
      "25/25 [==============================] - 0s 5ms/step - loss: 0.6721 - accuracy: 0.5700\n",
      "Epoch 24/250\n",
      "25/25 [==============================] - 0s 5ms/step - loss: 0.6717 - accuracy: 0.5688\n",
      "Epoch 25/250\n",
      "25/25 [==============================] - 0s 5ms/step - loss: 0.6708 - accuracy: 0.5725\n",
      "Epoch 26/250\n",
      "25/25 [==============================] - 0s 4ms/step - loss: 0.6705 - accuracy: 0.5800\n",
      "Epoch 27/250\n",
      "25/25 [==============================] - 0s 5ms/step - loss: 0.6699 - accuracy: 0.5725\n",
      "Epoch 28/250\n",
      "25/25 [==============================] - 0s 4ms/step - loss: 0.6691 - accuracy: 0.5688\n",
      "Epoch 29/250\n",
      "25/25 [==============================] - 0s 5ms/step - loss: 0.6685 - accuracy: 0.5725\n",
      "Epoch 30/250\n",
      "25/25 [==============================] - 0s 5ms/step - loss: 0.6680 - accuracy: 0.5750\n",
      "Epoch 31/250\n",
      "25/25 [==============================] - 0s 5ms/step - loss: 0.6673 - accuracy: 0.5738\n",
      "Epoch 32/250\n",
      "25/25 [==============================] - 0s 5ms/step - loss: 0.6670 - accuracy: 0.5713\n",
      "Epoch 33/250\n",
      "25/25 [==============================] - 0s 4ms/step - loss: 0.6664 - accuracy: 0.5713\n",
      "Epoch 34/250\n",
      "25/25 [==============================] - 0s 5ms/step - loss: 0.6655 - accuracy: 0.5725\n",
      "Epoch 35/250\n",
      "25/25 [==============================] - 0s 4ms/step - loss: 0.6649 - accuracy: 0.5738\n",
      "Epoch 36/250\n",
      "25/25 [==============================] - 0s 4ms/step - loss: 0.6649 - accuracy: 0.5775\n",
      "Epoch 37/250\n",
      "25/25 [==============================] - 0s 5ms/step - loss: 0.6638 - accuracy: 0.5738\n",
      "Epoch 38/250\n",
      "25/25 [==============================] - 0s 5ms/step - loss: 0.6631 - accuracy: 0.5763\n",
      "Epoch 39/250\n",
      "25/25 [==============================] - 0s 5ms/step - loss: 0.6625 - accuracy: 0.5713\n",
      "Epoch 40/250\n",
      "25/25 [==============================] - 0s 5ms/step - loss: 0.6619 - accuracy: 0.5788\n",
      "Epoch 41/250\n",
      "25/25 [==============================] - 0s 5ms/step - loss: 0.6614 - accuracy: 0.5775\n",
      "Epoch 42/250\n",
      "25/25 [==============================] - 0s 5ms/step - loss: 0.6606 - accuracy: 0.5763\n",
      "Epoch 43/250\n",
      "25/25 [==============================] - 0s 4ms/step - loss: 0.6601 - accuracy: 0.5850\n",
      "Epoch 44/250\n",
      "25/25 [==============================] - 0s 5ms/step - loss: 0.6594 - accuracy: 0.5838\n",
      "Epoch 45/250\n",
      "25/25 [==============================] - 0s 5ms/step - loss: 0.6588 - accuracy: 0.5863\n",
      "Epoch 46/250\n",
      "25/25 [==============================] - 0s 5ms/step - loss: 0.6582 - accuracy: 0.5863\n",
      "Epoch 47/250\n",
      "25/25 [==============================] - 0s 5ms/step - loss: 0.6581 - accuracy: 0.5962\n",
      "Epoch 48/250\n",
      "25/25 [==============================] - 0s 4ms/step - loss: 0.6573 - accuracy: 0.5888\n",
      "Epoch 49/250\n",
      "25/25 [==============================] - 0s 4ms/step - loss: 0.6559 - accuracy: 0.5925\n",
      "Epoch 50/250\n",
      "25/25 [==============================] - 0s 5ms/step - loss: 0.6543 - accuracy: 0.5950\n",
      "Epoch 51/250\n",
      "25/25 [==============================] - 0s 5ms/step - loss: 0.6532 - accuracy: 0.5950\n",
      "Epoch 52/250\n",
      "25/25 [==============================] - 0s 5ms/step - loss: 0.6527 - accuracy: 0.5987\n",
      "Epoch 53/250\n",
      "25/25 [==============================] - 0s 5ms/step - loss: 0.6514 - accuracy: 0.6025\n",
      "Epoch 54/250\n",
      "25/25 [==============================] - 0s 5ms/step - loss: 0.6503 - accuracy: 0.6050\n",
      "Epoch 55/250\n",
      "25/25 [==============================] - 0s 5ms/step - loss: 0.6494 - accuracy: 0.6175\n",
      "Epoch 56/250\n",
      "25/25 [==============================] - 0s 5ms/step - loss: 0.6484 - accuracy: 0.6087\n",
      "Epoch 57/250\n",
      "25/25 [==============================] - 0s 4ms/step - loss: 0.6472 - accuracy: 0.6075\n",
      "Epoch 58/250\n",
      "25/25 [==============================] - 0s 5ms/step - loss: 0.6459 - accuracy: 0.6062\n",
      "Epoch 59/250\n",
      "25/25 [==============================] - 0s 4ms/step - loss: 0.6452 - accuracy: 0.6100\n",
      "Epoch 60/250\n",
      "25/25 [==============================] - 0s 5ms/step - loss: 0.6433 - accuracy: 0.6187\n",
      "Epoch 61/250\n",
      "25/25 [==============================] - 0s 5ms/step - loss: 0.6418 - accuracy: 0.6187\n",
      "Epoch 62/250\n",
      "25/25 [==============================] - 0s 5ms/step - loss: 0.6400 - accuracy: 0.6187\n",
      "Epoch 63/250\n",
      "25/25 [==============================] - 0s 5ms/step - loss: 0.6383 - accuracy: 0.6237\n",
      "Epoch 64/250\n",
      "25/25 [==============================] - 0s 5ms/step - loss: 0.6366 - accuracy: 0.6263\n",
      "Epoch 65/250\n",
      "25/25 [==============================] - 0s 5ms/step - loss: 0.6343 - accuracy: 0.6313\n",
      "Epoch 66/250\n",
      "25/25 [==============================] - 0s 4ms/step - loss: 0.6317 - accuracy: 0.6425\n",
      "Epoch 67/250\n",
      "25/25 [==============================] - 0s 5ms/step - loss: 0.6283 - accuracy: 0.6575\n",
      "Epoch 68/250\n",
      "25/25 [==============================] - 0s 4ms/step - loss: 0.6252 - accuracy: 0.6650\n",
      "Epoch 69/250\n",
      "25/25 [==============================] - 0s 4ms/step - loss: 0.6224 - accuracy: 0.6950\n",
      "Epoch 70/250\n",
      "25/25 [==============================] - 0s 4ms/step - loss: 0.6195 - accuracy: 0.7113\n",
      "Epoch 71/250\n",
      "25/25 [==============================] - 0s 4ms/step - loss: 0.6168 - accuracy: 0.7275\n",
      "Epoch 72/250\n",
      "25/25 [==============================] - 0s 5ms/step - loss: 0.6139 - accuracy: 0.7362\n",
      "Epoch 73/250\n",
      "25/25 [==============================] - 0s 4ms/step - loss: 0.6112 - accuracy: 0.7337\n",
      "Epoch 74/250\n",
      "25/25 [==============================] - 0s 5ms/step - loss: 0.6084 - accuracy: 0.7362\n",
      "Epoch 75/250\n",
      "25/25 [==============================] - 0s 4ms/step - loss: 0.6054 - accuracy: 0.7437\n",
      "Epoch 76/250\n",
      "25/25 [==============================] - 0s 4ms/step - loss: 0.6025 - accuracy: 0.7412\n",
      "Epoch 77/250\n",
      "25/25 [==============================] - 0s 5ms/step - loss: 0.5991 - accuracy: 0.7475\n",
      "Epoch 78/250\n",
      "25/25 [==============================] - 0s 4ms/step - loss: 0.5962 - accuracy: 0.7462\n",
      "Epoch 79/250\n",
      "25/25 [==============================] - 0s 5ms/step - loss: 0.5930 - accuracy: 0.7500\n",
      "Epoch 80/250\n",
      "25/25 [==============================] - 0s 5ms/step - loss: 0.5898 - accuracy: 0.7487\n",
      "Epoch 81/250\n",
      "25/25 [==============================] - 0s 4ms/step - loss: 0.5846 - accuracy: 0.7513\n",
      "Epoch 82/250\n",
      "25/25 [==============================] - 0s 4ms/step - loss: 0.5795 - accuracy: 0.7387\n",
      "Epoch 83/250\n",
      "25/25 [==============================] - 0s 4ms/step - loss: 0.5747 - accuracy: 0.7487\n",
      "Epoch 84/250\n",
      "25/25 [==============================] - 0s 4ms/step - loss: 0.5693 - accuracy: 0.7387\n",
      "Epoch 85/250\n",
      "25/25 [==============================] - 0s 4ms/step - loss: 0.5636 - accuracy: 0.7425\n",
      "Epoch 86/250\n",
      "25/25 [==============================] - 0s 4ms/step - loss: 0.5586 - accuracy: 0.7437\n",
      "Epoch 87/250\n",
      "25/25 [==============================] - 0s 4ms/step - loss: 0.5534 - accuracy: 0.7563\n",
      "Epoch 88/250\n",
      "25/25 [==============================] - 0s 4ms/step - loss: 0.5484 - accuracy: 0.7600\n",
      "Epoch 89/250\n",
      "25/25 [==============================] - 0s 4ms/step - loss: 0.5432 - accuracy: 0.7650\n",
      "Epoch 90/250\n",
      "25/25 [==============================] - 0s 5ms/step - loss: 0.5382 - accuracy: 0.7750\n",
      "Epoch 91/250\n",
      "25/25 [==============================] - 0s 4ms/step - loss: 0.5334 - accuracy: 0.7800\n",
      "Epoch 92/250\n",
      "25/25 [==============================] - 0s 5ms/step - loss: 0.5286 - accuracy: 0.7812\n",
      "Epoch 93/250\n",
      "25/25 [==============================] - 0s 5ms/step - loss: 0.5242 - accuracy: 0.7950\n",
      "Epoch 94/250\n",
      "25/25 [==============================] - 0s 4ms/step - loss: 0.5190 - accuracy: 0.8000\n",
      "Epoch 95/250\n",
      "25/25 [==============================] - 0s 4ms/step - loss: 0.5148 - accuracy: 0.7975\n",
      "Epoch 96/250\n",
      "25/25 [==============================] - 0s 5ms/step - loss: 0.5096 - accuracy: 0.7975\n",
      "Epoch 97/250\n",
      "25/25 [==============================] - 0s 5ms/step - loss: 0.5053 - accuracy: 0.8087\n",
      "Epoch 98/250\n",
      "25/25 [==============================] - 0s 4ms/step - loss: 0.5006 - accuracy: 0.8125\n",
      "Epoch 99/250\n",
      "25/25 [==============================] - 0s 5ms/step - loss: 0.4964 - accuracy: 0.8112\n",
      "Epoch 100/250\n",
      "25/25 [==============================] - 0s 4ms/step - loss: 0.4908 - accuracy: 0.8263\n",
      "Epoch 101/250\n",
      "25/25 [==============================] - 0s 6ms/step - loss: 0.4857 - accuracy: 0.8213\n",
      "Epoch 102/250\n",
      "25/25 [==============================] - 0s 6ms/step - loss: 0.4805 - accuracy: 0.8300\n",
      "Epoch 103/250\n",
      "25/25 [==============================] - 0s 5ms/step - loss: 0.4752 - accuracy: 0.8388\n",
      "Epoch 104/250\n",
      "25/25 [==============================] - 0s 5ms/step - loss: 0.4702 - accuracy: 0.8438\n",
      "Epoch 105/250\n",
      "25/25 [==============================] - 0s 5ms/step - loss: 0.4649 - accuracy: 0.8462\n",
      "Epoch 106/250\n",
      "25/25 [==============================] - 0s 5ms/step - loss: 0.4600 - accuracy: 0.8450\n",
      "Epoch 107/250\n",
      "25/25 [==============================] - 0s 4ms/step - loss: 0.4549 - accuracy: 0.8562\n",
      "Epoch 108/250\n",
      "25/25 [==============================] - 0s 5ms/step - loss: 0.4500 - accuracy: 0.8575\n",
      "Epoch 109/250\n",
      "25/25 [==============================] - 0s 4ms/step - loss: 0.4452 - accuracy: 0.8687\n",
      "Epoch 110/250\n",
      "25/25 [==============================] - 0s 5ms/step - loss: 0.4391 - accuracy: 0.8875\n",
      "Epoch 111/250\n",
      "25/25 [==============================] - 0s 5ms/step - loss: 0.4305 - accuracy: 0.8913\n",
      "Epoch 112/250\n",
      "25/25 [==============================] - 0s 5ms/step - loss: 0.4198 - accuracy: 0.9075\n",
      "Epoch 113/250\n",
      "25/25 [==============================] - 0s 7ms/step - loss: 0.4118 - accuracy: 0.9075\n",
      "Epoch 114/250\n",
      "25/25 [==============================] - 0s 5ms/step - loss: 0.4059 - accuracy: 0.9125\n",
      "Epoch 115/250\n",
      "25/25 [==============================] - 0s 5ms/step - loss: 0.4002 - accuracy: 0.9175\n",
      "Epoch 116/250\n",
      "25/25 [==============================] - 0s 4ms/step - loss: 0.3948 - accuracy: 0.9200\n",
      "Epoch 117/250\n",
      "25/25 [==============================] - 0s 4ms/step - loss: 0.3899 - accuracy: 0.9225\n",
      "Epoch 118/250\n",
      "25/25 [==============================] - 0s 5ms/step - loss: 0.3849 - accuracy: 0.9250\n",
      "Epoch 119/250\n",
      "25/25 [==============================] - 0s 5ms/step - loss: 0.3809 - accuracy: 0.9212\n",
      "Epoch 120/250\n",
      "25/25 [==============================] - 0s 4ms/step - loss: 0.3753 - accuracy: 0.9375\n",
      "Epoch 121/250\n",
      "25/25 [==============================] - 0s 4ms/step - loss: 0.3706 - accuracy: 0.9312\n",
      "Epoch 122/250\n",
      "25/25 [==============================] - 0s 5ms/step - loss: 0.3661 - accuracy: 0.9388\n",
      "Epoch 123/250\n",
      "25/25 [==============================] - 0s 5ms/step - loss: 0.3614 - accuracy: 0.9438\n",
      "Epoch 124/250\n",
      "25/25 [==============================] - 0s 5ms/step - loss: 0.3567 - accuracy: 0.9413\n",
      "Epoch 125/250\n",
      "25/25 [==============================] - 0s 4ms/step - loss: 0.3518 - accuracy: 0.9550\n",
      "Epoch 126/250\n",
      "25/25 [==============================] - 0s 4ms/step - loss: 0.3478 - accuracy: 0.9463\n",
      "Epoch 127/250\n",
      "25/25 [==============================] - 0s 5ms/step - loss: 0.3428 - accuracy: 0.9538\n",
      "Epoch 128/250\n",
      "25/25 [==============================] - 0s 5ms/step - loss: 0.3393 - accuracy: 0.9575\n",
      "Epoch 129/250\n",
      "25/25 [==============================] - 0s 5ms/step - loss: 0.3353 - accuracy: 0.9513\n",
      "Epoch 130/250\n",
      "25/25 [==============================] - 0s 5ms/step - loss: 0.3309 - accuracy: 0.9575\n",
      "Epoch 131/250\n",
      "25/25 [==============================] - 0s 5ms/step - loss: 0.3265 - accuracy: 0.9613\n",
      "Epoch 132/250\n",
      "25/25 [==============================] - 0s 5ms/step - loss: 0.3223 - accuracy: 0.9638\n",
      "Epoch 133/250\n",
      "25/25 [==============================] - 0s 5ms/step - loss: 0.3187 - accuracy: 0.9600\n",
      "Epoch 134/250\n",
      "25/25 [==============================] - 0s 5ms/step - loss: 0.3147 - accuracy: 0.9625\n",
      "Epoch 135/250\n",
      "25/25 [==============================] - 0s 5ms/step - loss: 0.3111 - accuracy: 0.9638\n",
      "Epoch 136/250\n",
      "25/25 [==============================] - 0s 5ms/step - loss: 0.3072 - accuracy: 0.9638\n",
      "Epoch 137/250\n",
      "25/25 [==============================] - 0s 4ms/step - loss: 0.3029 - accuracy: 0.9638\n",
      "Epoch 138/250\n",
      "25/25 [==============================] - 0s 5ms/step - loss: 0.2990 - accuracy: 0.9625\n",
      "Epoch 139/250\n",
      "25/25 [==============================] - 0s 5ms/step - loss: 0.2960 - accuracy: 0.9625\n",
      "Epoch 140/250\n",
      "25/25 [==============================] - 0s 5ms/step - loss: 0.2915 - accuracy: 0.9675\n",
      "Epoch 141/250\n",
      "25/25 [==============================] - 0s 4ms/step - loss: 0.2901 - accuracy: 0.9638\n",
      "Epoch 142/250\n",
      "25/25 [==============================] - 0s 5ms/step - loss: 0.2849 - accuracy: 0.9663\n",
      "Epoch 143/250\n",
      "25/25 [==============================] - 0s 4ms/step - loss: 0.2811 - accuracy: 0.9688\n",
      "Epoch 144/250\n",
      "25/25 [==============================] - 0s 4ms/step - loss: 0.2774 - accuracy: 0.9700\n",
      "Epoch 145/250\n",
      "25/25 [==============================] - 0s 4ms/step - loss: 0.2750 - accuracy: 0.9700\n",
      "Epoch 146/250\n",
      "25/25 [==============================] - 0s 4ms/step - loss: 0.2722 - accuracy: 0.9700\n",
      "Epoch 147/250\n",
      "25/25 [==============================] - 0s 5ms/step - loss: 0.2681 - accuracy: 0.9737\n",
      "Epoch 148/250\n",
      "25/25 [==============================] - 0s 4ms/step - loss: 0.2649 - accuracy: 0.9725\n",
      "Epoch 149/250\n",
      "25/25 [==============================] - 0s 4ms/step - loss: 0.2614 - accuracy: 0.9737\n",
      "Epoch 150/250\n",
      "25/25 [==============================] - 0s 5ms/step - loss: 0.2590 - accuracy: 0.9787\n",
      "Epoch 151/250\n",
      "25/25 [==============================] - 0s 5ms/step - loss: 0.2556 - accuracy: 0.9762\n",
      "Epoch 152/250\n",
      "25/25 [==============================] - 0s 5ms/step - loss: 0.2523 - accuracy: 0.9762\n",
      "Epoch 153/250\n",
      "25/25 [==============================] - 0s 5ms/step - loss: 0.2497 - accuracy: 0.9737\n",
      "Epoch 154/250\n",
      "25/25 [==============================] - 0s 5ms/step - loss: 0.2468 - accuracy: 0.9712\n",
      "Epoch 155/250\n",
      "25/25 [==============================] - 0s 5ms/step - loss: 0.2438 - accuracy: 0.9737\n",
      "Epoch 156/250\n",
      "25/25 [==============================] - 0s 4ms/step - loss: 0.2420 - accuracy: 0.9750\n",
      "Epoch 157/250\n",
      "25/25 [==============================] - 0s 5ms/step - loss: 0.2390 - accuracy: 0.9750\n",
      "Epoch 158/250\n",
      "25/25 [==============================] - 0s 5ms/step - loss: 0.2360 - accuracy: 0.9762\n",
      "Epoch 159/250\n",
      "25/25 [==============================] - 0s 5ms/step - loss: 0.2337 - accuracy: 0.9775\n",
      "Epoch 160/250\n",
      "25/25 [==============================] - 0s 4ms/step - loss: 0.2311 - accuracy: 0.9725\n",
      "Epoch 161/250\n",
      "25/25 [==============================] - 0s 5ms/step - loss: 0.2284 - accuracy: 0.9750\n",
      "Epoch 162/250\n",
      "25/25 [==============================] - 0s 4ms/step - loss: 0.2274 - accuracy: 0.9787\n",
      "Epoch 163/250\n",
      "25/25 [==============================] - 0s 5ms/step - loss: 0.2238 - accuracy: 0.9750\n",
      "Epoch 164/250\n",
      "25/25 [==============================] - 0s 5ms/step - loss: 0.2216 - accuracy: 0.9762\n",
      "Epoch 165/250\n",
      "25/25 [==============================] - 0s 5ms/step - loss: 0.2193 - accuracy: 0.9775\n",
      "Epoch 166/250\n",
      "25/25 [==============================] - 0s 4ms/step - loss: 0.2173 - accuracy: 0.9762\n",
      "Epoch 167/250\n",
      "25/25 [==============================] - 0s 4ms/step - loss: 0.2146 - accuracy: 0.9800\n",
      "Epoch 168/250\n",
      "25/25 [==============================] - 0s 4ms/step - loss: 0.2127 - accuracy: 0.9762\n",
      "Epoch 169/250\n",
      "25/25 [==============================] - 0s 4ms/step - loss: 0.2105 - accuracy: 0.9775\n",
      "Epoch 170/250\n",
      "25/25 [==============================] - 0s 5ms/step - loss: 0.2084 - accuracy: 0.9775\n",
      "Epoch 171/250\n",
      "25/25 [==============================] - 0s 4ms/step - loss: 0.2066 - accuracy: 0.9775\n",
      "Epoch 172/250\n",
      "25/25 [==============================] - 0s 5ms/step - loss: 0.2050 - accuracy: 0.9787\n",
      "Epoch 173/250\n",
      "25/25 [==============================] - 0s 5ms/step - loss: 0.2022 - accuracy: 0.9775\n",
      "Epoch 174/250\n",
      "25/25 [==============================] - 0s 5ms/step - loss: 0.2008 - accuracy: 0.9787\n",
      "Epoch 175/250\n",
      "25/25 [==============================] - 0s 4ms/step - loss: 0.1995 - accuracy: 0.9762\n",
      "Epoch 176/250\n",
      "25/25 [==============================] - 0s 5ms/step - loss: 0.1973 - accuracy: 0.9762\n",
      "Epoch 177/250\n",
      "25/25 [==============================] - 0s 5ms/step - loss: 0.1956 - accuracy: 0.9775\n",
      "Epoch 178/250\n",
      "25/25 [==============================] - 0s 5ms/step - loss: 0.1935 - accuracy: 0.9812\n",
      "Epoch 179/250\n",
      "25/25 [==============================] - 0s 5ms/step - loss: 0.1918 - accuracy: 0.9775\n",
      "Epoch 180/250\n",
      "25/25 [==============================] - 0s 5ms/step - loss: 0.1903 - accuracy: 0.9775\n",
      "Epoch 181/250\n",
      "25/25 [==============================] - 0s 5ms/step - loss: 0.1881 - accuracy: 0.9800\n",
      "Epoch 182/250\n",
      "25/25 [==============================] - 0s 5ms/step - loss: 0.1861 - accuracy: 0.9800\n",
      "Epoch 183/250\n",
      "25/25 [==============================] - 0s 5ms/step - loss: 0.1850 - accuracy: 0.9775\n",
      "Epoch 184/250\n",
      "25/25 [==============================] - 0s 5ms/step - loss: 0.1830 - accuracy: 0.9787\n",
      "Epoch 185/250\n",
      "25/25 [==============================] - 0s 5ms/step - loss: 0.1812 - accuracy: 0.9812\n",
      "Epoch 186/250\n",
      "25/25 [==============================] - 0s 4ms/step - loss: 0.1798 - accuracy: 0.9800\n",
      "Epoch 187/250\n",
      "25/25 [==============================] - 0s 4ms/step - loss: 0.1784 - accuracy: 0.9800\n",
      "Epoch 188/250\n",
      "25/25 [==============================] - 0s 5ms/step - loss: 0.1779 - accuracy: 0.9787\n",
      "Epoch 189/250\n",
      "25/25 [==============================] - 0s 4ms/step - loss: 0.1755 - accuracy: 0.9800\n",
      "Epoch 190/250\n",
      "25/25 [==============================] - 0s 4ms/step - loss: 0.1744 - accuracy: 0.9762\n",
      "Epoch 191/250\n",
      "25/25 [==============================] - 0s 4ms/step - loss: 0.1731 - accuracy: 0.9800\n",
      "Epoch 192/250\n",
      "25/25 [==============================] - 0s 4ms/step - loss: 0.1711 - accuracy: 0.9800\n",
      "Epoch 193/250\n",
      "25/25 [==============================] - 0s 4ms/step - loss: 0.1692 - accuracy: 0.9800\n",
      "Epoch 194/250\n",
      "25/25 [==============================] - 0s 4ms/step - loss: 0.1682 - accuracy: 0.9812\n",
      "Epoch 195/250\n",
      "25/25 [==============================] - 0s 4ms/step - loss: 0.1667 - accuracy: 0.9812\n",
      "Epoch 196/250\n",
      "25/25 [==============================] - 0s 5ms/step - loss: 0.1655 - accuracy: 0.9812\n",
      "Epoch 197/250\n",
      "25/25 [==============================] - 0s 5ms/step - loss: 0.1637 - accuracy: 0.9812\n",
      "Epoch 198/250\n",
      "25/25 [==============================] - 0s 5ms/step - loss: 0.1617 - accuracy: 0.9800\n",
      "Epoch 199/250\n",
      "25/25 [==============================] - 0s 5ms/step - loss: 0.1606 - accuracy: 0.9775\n",
      "Epoch 200/250\n",
      "25/25 [==============================] - 0s 5ms/step - loss: 0.1590 - accuracy: 0.9800\n",
      "Epoch 201/250\n",
      "25/25 [==============================] - 0s 5ms/step - loss: 0.1571 - accuracy: 0.9800\n",
      "Epoch 202/250\n",
      "25/25 [==============================] - 0s 5ms/step - loss: 0.1559 - accuracy: 0.9825\n",
      "Epoch 203/250\n",
      "25/25 [==============================] - 0s 4ms/step - loss: 0.1547 - accuracy: 0.9812\n",
      "Epoch 204/250\n",
      "25/25 [==============================] - 0s 4ms/step - loss: 0.1542 - accuracy: 0.9825\n",
      "Epoch 205/250\n",
      "25/25 [==============================] - 0s 5ms/step - loss: 0.1521 - accuracy: 0.9812\n",
      "Epoch 206/250\n",
      "25/25 [==============================] - 0s 4ms/step - loss: 0.1506 - accuracy: 0.9825\n",
      "Epoch 207/250\n",
      "25/25 [==============================] - 0s 4ms/step - loss: 0.1497 - accuracy: 0.9837\n",
      "Epoch 208/250\n",
      "25/25 [==============================] - 0s 5ms/step - loss: 0.1483 - accuracy: 0.9825\n",
      "Epoch 209/250\n",
      "25/25 [==============================] - 0s 4ms/step - loss: 0.1473 - accuracy: 0.9812\n",
      "Epoch 210/250\n",
      "25/25 [==============================] - 0s 5ms/step - loss: 0.1458 - accuracy: 0.9837\n",
      "Epoch 211/250\n",
      "25/25 [==============================] - 0s 5ms/step - loss: 0.1443 - accuracy: 0.9825\n",
      "Epoch 212/250\n",
      "25/25 [==============================] - 0s 5ms/step - loss: 0.1432 - accuracy: 0.9825\n",
      "Epoch 213/250\n",
      "25/25 [==============================] - 0s 5ms/step - loss: 0.1420 - accuracy: 0.9850\n",
      "Epoch 214/250\n",
      "25/25 [==============================] - 0s 5ms/step - loss: 0.1399 - accuracy: 0.9825\n",
      "Epoch 215/250\n",
      "25/25 [==============================] - 0s 4ms/step - loss: 0.1381 - accuracy: 0.9825\n",
      "Epoch 216/250\n",
      "25/25 [==============================] - 0s 5ms/step - loss: 0.1365 - accuracy: 0.9825\n",
      "Epoch 217/250\n",
      "25/25 [==============================] - 0s 5ms/step - loss: 0.1354 - accuracy: 0.9837\n",
      "Epoch 218/250\n",
      "25/25 [==============================] - 0s 5ms/step - loss: 0.1342 - accuracy: 0.9887\n",
      "Epoch 219/250\n",
      "25/25 [==============================] - 0s 4ms/step - loss: 0.1323 - accuracy: 0.9850\n",
      "Epoch 220/250\n",
      "25/25 [==============================] - 0s 4ms/step - loss: 0.1303 - accuracy: 0.9875\n",
      "Epoch 221/250\n",
      "25/25 [==============================] - 0s 5ms/step - loss: 0.1290 - accuracy: 0.9875\n",
      "Epoch 222/250\n",
      "25/25 [==============================] - 0s 5ms/step - loss: 0.1278 - accuracy: 0.9862\n",
      "Epoch 223/250\n",
      "25/25 [==============================] - 0s 4ms/step - loss: 0.1260 - accuracy: 0.9875\n",
      "Epoch 224/250\n",
      "25/25 [==============================] - 0s 5ms/step - loss: 0.1248 - accuracy: 0.9875\n",
      "Epoch 225/250\n",
      "25/25 [==============================] - 0s 5ms/step - loss: 0.1237 - accuracy: 0.9875\n",
      "Epoch 226/250\n",
      "25/25 [==============================] - 0s 4ms/step - loss: 0.1229 - accuracy: 0.9862\n",
      "Epoch 227/250\n",
      "25/25 [==============================] - 0s 5ms/step - loss: 0.1205 - accuracy: 0.9887\n",
      "Epoch 228/250\n",
      "25/25 [==============================] - 0s 5ms/step - loss: 0.1193 - accuracy: 0.9875\n",
      "Epoch 229/250\n",
      "25/25 [==============================] - 0s 5ms/step - loss: 0.1179 - accuracy: 0.9875\n",
      "Epoch 230/250\n",
      "25/25 [==============================] - 0s 5ms/step - loss: 0.1166 - accuracy: 0.9875\n",
      "Epoch 231/250\n",
      "25/25 [==============================] - 0s 4ms/step - loss: 0.1151 - accuracy: 0.9875\n",
      "Epoch 232/250\n",
      "25/25 [==============================] - 0s 5ms/step - loss: 0.1139 - accuracy: 0.9875\n",
      "Epoch 233/250\n",
      "25/25 [==============================] - 0s 4ms/step - loss: 0.1126 - accuracy: 0.9887\n",
      "Epoch 234/250\n",
      "25/25 [==============================] - 0s 5ms/step - loss: 0.1113 - accuracy: 0.9875\n",
      "Epoch 235/250\n",
      "25/25 [==============================] - 0s 5ms/step - loss: 0.1102 - accuracy: 0.9887\n",
      "Epoch 236/250\n",
      "25/25 [==============================] - 0s 5ms/step - loss: 0.1088 - accuracy: 0.9887\n",
      "Epoch 237/250\n",
      "25/25 [==============================] - 0s 5ms/step - loss: 0.1077 - accuracy: 0.9887\n",
      "Epoch 238/250\n",
      "25/25 [==============================] - 0s 5ms/step - loss: 0.1074 - accuracy: 0.9887\n",
      "Epoch 239/250\n",
      "25/25 [==============================] - 0s 5ms/step - loss: 0.1052 - accuracy: 0.9887\n",
      "Epoch 240/250\n",
      "25/25 [==============================] - 0s 5ms/step - loss: 0.1046 - accuracy: 0.9912\n",
      "Epoch 241/250\n",
      "25/25 [==============================] - 0s 5ms/step - loss: 0.1036 - accuracy: 0.9887\n",
      "Epoch 242/250\n",
      "25/25 [==============================] - 0s 4ms/step - loss: 0.1025 - accuracy: 0.9900\n",
      "Epoch 243/250\n",
      "25/25 [==============================] - 0s 5ms/step - loss: 0.1020 - accuracy: 0.9912\n",
      "Epoch 244/250\n",
      "25/25 [==============================] - 0s 5ms/step - loss: 0.1006 - accuracy: 0.9912\n",
      "Epoch 245/250\n",
      "25/25 [==============================] - 0s 4ms/step - loss: 0.1000 - accuracy: 0.9912\n",
      "Epoch 246/250\n",
      "25/25 [==============================] - 0s 5ms/step - loss: 0.0987 - accuracy: 0.9925\n",
      "Epoch 247/250\n",
      "25/25 [==============================] - 0s 5ms/step - loss: 0.0982 - accuracy: 0.9900\n",
      "Epoch 248/250\n",
      "25/25 [==============================] - 0s 5ms/step - loss: 0.0980 - accuracy: 0.9900\n",
      "Epoch 249/250\n",
      "25/25 [==============================] - 0s 4ms/step - loss: 0.0963 - accuracy: 0.9925\n",
      "Epoch 250/250\n",
      "25/25 [==============================] - 0s 5ms/step - loss: 0.0954 - accuracy: 0.9925\n"
     ]
    }
   ],
   "source": [
    "# recreating a model to fit on the training data and to evaluate on test data\n",
    "\n",
    "tf.random.set_seed(42)\n",
    "\n",
    "\n",
    "model_8 = tf.keras.Sequential([\n",
    "\n",
    "    tf.keras.layers.Dense(4,activation = \"relu\"),\n",
    "    tf.keras.layers.Dense(4,activation = \"relu\"),\n",
    "    tf.keras.layers.Dense(1,activation=\"sigmoid\")\n",
    "])\n",
    "\n",
    "\n",
    "\n",
    "model_8.compile(loss =\"binary_crossentropy\",\n",
    "optimizer = tf.keras.optimizers.Adam(learning_rate=0.001),\n",
    "metrics = [\"accuracy\"])\n",
    "\n",
    "\n",
    "history = model_8.fit(x_train,y_train,epochs=250)"
   ]
  },
  {
   "cell_type": "code",
   "execution_count": 51,
   "metadata": {},
   "outputs": [
    {
     "name": "stdout",
     "output_type": "stream",
     "text": [
      "7/7 [==============================] - 0s 5ms/step - loss: 0.1113 - accuracy: 0.9800\n"
     ]
    },
    {
     "data": {
      "text/plain": [
       "[0.1112932562828064, 0.9800000190734863]"
      ]
     },
     "execution_count": 51,
     "metadata": {},
     "output_type": "execute_result"
    }
   ],
   "source": [
    "model_8.evaluate(x_test,y_test)"
   ]
  },
  {
   "cell_type": "code",
   "execution_count": 52,
   "metadata": {},
   "outputs": [
    {
     "name": "stdout",
     "output_type": "stream",
     "text": [
      "313/313 [==============================] - 1s 2ms/step\n",
      "doing binary classifcation...\n"
     ]
    },
    {
     "data": {
      "image/png": "[encoded data removed]",
      "text/plain": [
       "<Figure size 432x288 with 1 Axes>"
      ]
     },
     "metadata": {
      "needs_background": "light"
     },
     "output_type": "display_data"
    }
   ],
   "source": [
    "plot_decision_boundary(model_8,x_test,y_test)"
   ]
  },
  {
   "cell_type": "markdown",
   "metadata": {},
   "source": [
    "##### Plotting loss curves"
   ]
  },
  {
   "cell_type": "code",
   "execution_count": 54,
   "metadata": {},
   "outputs": [
    {
     "data": {
      "image/png": "[encoded data removed]",
      "text/plain": [
       "<Figure size 432x288 with 1 Axes>"
      ]
     },
     "metadata": {
      "needs_background": "light"
     },
     "output_type": "display_data"
    }
   ],
   "source": [
    "pd.DataFrame(history.history).plot()\n",
    "plt.title(\"Model 8 loss curves\");"
   ]
  },
  {
   "cell_type": "markdown",
   "metadata": {},
   "source": [
    "#### Finding the best learning rate"
   ]
  },
  {
   "cell_type": "code",
   "execution_count": 64,
   "metadata": {},
   "outputs": [
    {
     "name": "stdout",
     "output_type": "stream",
     "text": [
      "Epoch 1/100\n",
      "25/25 [==============================] - 1s 7ms/step - loss: 0.6963 - accuracy: 0.4925 - precision: 0.0000e+00 - lr: 1.0000e-04\n",
      "Epoch 2/100\n",
      "25/25 [==============================] - 0s 6ms/step - loss: 0.6954 - accuracy: 0.4913 - precision: 0.0000e+00 - lr: 1.1220e-04\n",
      "Epoch 3/100\n",
      "25/25 [==============================] - 0s 6ms/step - loss: 0.6945 - accuracy: 0.4913 - precision: 0.4000 - lr: 1.2589e-04\n",
      "Epoch 4/100\n",
      "25/25 [==============================] - 0s 6ms/step - loss: 0.6936 - accuracy: 0.4963 - precision: 0.6000 - lr: 1.4125e-04\n",
      "Epoch 5/100\n",
      "25/25 [==============================] - 0s 6ms/step - loss: 0.6925 - accuracy: 0.4988 - precision: 0.5714 - lr: 1.5849e-04\n",
      "Epoch 6/100\n",
      "25/25 [==============================] - 0s 7ms/step - loss: 0.6916 - accuracy: 0.4900 - precision: 0.4792 - lr: 1.7783e-04\n",
      "Epoch 7/100\n",
      "25/25 [==============================] - 0s 7ms/step - loss: 0.6905 - accuracy: 0.4925 - precision: 0.5000 - lr: 1.9953e-04\n",
      "Epoch 8/100\n",
      "25/25 [==============================] - 0s 6ms/step - loss: 0.6895 - accuracy: 0.4963 - precision: 0.5231 - lr: 2.2387e-04\n",
      "Epoch 9/100\n",
      "25/25 [==============================] - 0s 7ms/step - loss: 0.6885 - accuracy: 0.4988 - precision: 0.5333 - lr: 2.5119e-04\n",
      "Epoch 10/100\n",
      "25/25 [==============================] - 0s 6ms/step - loss: 0.6875 - accuracy: 0.5125 - precision: 0.5833 - lr: 2.8184e-04\n",
      "Epoch 11/100\n",
      "25/25 [==============================] - 0s 6ms/step - loss: 0.6865 - accuracy: 0.5113 - precision: 0.5641 - lr: 3.1623e-04\n",
      "Epoch 12/100\n",
      "25/25 [==============================] - 0s 6ms/step - loss: 0.6856 - accuracy: 0.5088 - precision: 0.5481 - lr: 3.5481e-04\n",
      "Epoch 13/100\n",
      "25/25 [==============================] - 0s 6ms/step - loss: 0.6848 - accuracy: 0.5113 - precision: 0.5497 - lr: 3.9811e-04\n",
      "Epoch 14/100\n",
      "25/25 [==============================] - 0s 5ms/step - loss: 0.6840 - accuracy: 0.5138 - precision: 0.5464 - lr: 4.4668e-04\n",
      "Epoch 15/100\n",
      "25/25 [==============================] - 0s 6ms/step - loss: 0.6834 - accuracy: 0.5200 - precision: 0.5550 - lr: 5.0119e-04\n",
      "Epoch 16/100\n",
      "25/25 [==============================] - 0s 6ms/step - loss: 0.6828 - accuracy: 0.5238 - precision: 0.5536 - lr: 5.6234e-04\n",
      "Epoch 17/100\n",
      "25/25 [==============================] - 0s 6ms/step - loss: 0.6823 - accuracy: 0.5225 - precision: 0.5462 - lr: 6.3096e-04\n",
      "Epoch 18/100\n",
      "25/25 [==============================] - 0s 6ms/step - loss: 0.6817 - accuracy: 0.5312 - precision: 0.5560 - lr: 7.0795e-04\n",
      "Epoch 19/100\n",
      "25/25 [==============================] - 0s 6ms/step - loss: 0.6813 - accuracy: 0.5387 - precision: 0.5627 - lr: 7.9433e-04\n",
      "Epoch 20/100\n",
      "25/25 [==============================] - 0s 6ms/step - loss: 0.6808 - accuracy: 0.5475 - precision: 0.5710 - lr: 8.9125e-04\n",
      "Epoch 21/100\n",
      "25/25 [==============================] - 0s 6ms/step - loss: 0.6803 - accuracy: 0.5475 - precision: 0.5692 - lr: 0.0010\n",
      "Epoch 22/100\n",
      "25/25 [==============================] - 0s 6ms/step - loss: 0.6797 - accuracy: 0.5425 - precision: 0.5606 - lr: 0.0011\n",
      "Epoch 23/100\n",
      "25/25 [==============================] - 0s 6ms/step - loss: 0.6791 - accuracy: 0.5550 - precision: 0.5727 - lr: 0.0013\n",
      "Epoch 24/100\n",
      "25/25 [==============================] - 0s 6ms/step - loss: 0.6785 - accuracy: 0.5475 - precision: 0.5647 - lr: 0.0014\n",
      "Epoch 25/100\n",
      "25/25 [==============================] - 0s 6ms/step - loss: 0.6776 - accuracy: 0.5512 - precision: 0.5655 - lr: 0.0016\n",
      "Epoch 26/100\n",
      "25/25 [==============================] - 0s 6ms/step - loss: 0.6772 - accuracy: 0.5675 - precision: 0.5743 - lr: 0.0018\n",
      "Epoch 27/100\n",
      "25/25 [==============================] - 0s 5ms/step - loss: 0.6762 - accuracy: 0.5575 - precision: 0.5707 - lr: 0.0020\n",
      "Epoch 28/100\n",
      "25/25 [==============================] - 0s 6ms/step - loss: 0.6748 - accuracy: 0.5562 - precision: 0.5699 - lr: 0.0022\n",
      "Epoch 29/100\n",
      "25/25 [==============================] - 0s 5ms/step - loss: 0.6738 - accuracy: 0.5688 - precision: 0.5776 - lr: 0.0025\n",
      "Epoch 30/100\n",
      "25/25 [==============================] - 0s 6ms/step - loss: 0.6724 - accuracy: 0.5700 - precision: 0.5807 - lr: 0.0028\n",
      "Epoch 31/100\n",
      "25/25 [==============================] - 0s 5ms/step - loss: 0.6706 - accuracy: 0.5775 - precision: 0.5859 - lr: 0.0032\n",
      "Epoch 32/100\n",
      "25/25 [==============================] - 0s 6ms/step - loss: 0.6699 - accuracy: 0.5750 - precision: 0.5846 - lr: 0.0035\n",
      "Epoch 33/100\n",
      "25/25 [==============================] - 0s 6ms/step - loss: 0.6677 - accuracy: 0.5612 - precision: 0.5707 - lr: 0.0040\n",
      "Epoch 34/100\n",
      "25/25 [==============================] - 0s 6ms/step - loss: 0.6643 - accuracy: 0.5850 - precision: 0.5920 - lr: 0.0045\n",
      "Epoch 35/100\n",
      "25/25 [==============================] - 0s 5ms/step - loss: 0.6613 - accuracy: 0.5825 - precision: 0.5914 - lr: 0.0050\n",
      "Epoch 36/100\n",
      "25/25 [==============================] - 0s 6ms/step - loss: 0.6606 - accuracy: 0.6025 - precision: 0.5936 - lr: 0.0056\n",
      "Epoch 37/100\n",
      "25/25 [==============================] - 0s 6ms/step - loss: 0.6525 - accuracy: 0.6100 - precision: 0.6078 - lr: 0.0063\n",
      "Epoch 38/100\n",
      "25/25 [==============================] - 0s 6ms/step - loss: 0.6442 - accuracy: 0.6050 - precision: 0.6172 - lr: 0.0071\n",
      "Epoch 39/100\n",
      "25/25 [==============================] - 0s 6ms/step - loss: 0.6307 - accuracy: 0.6438 - precision: 0.6347 - lr: 0.0079\n",
      "Epoch 40/100\n",
      "25/25 [==============================] - 0s 6ms/step - loss: 0.6031 - accuracy: 0.7450 - precision: 0.7285 - lr: 0.0089\n",
      "Epoch 41/100\n",
      "25/25 [==============================] - 0s 6ms/step - loss: 0.5736 - accuracy: 0.7387 - precision: 0.7469 - lr: 0.0100\n",
      "Epoch 42/100\n",
      "25/25 [==============================] - 0s 6ms/step - loss: 0.5201 - accuracy: 0.7450 - precision: 0.7837 - lr: 0.0112\n",
      "Epoch 43/100\n",
      "25/25 [==============================] - 0s 6ms/step - loss: 0.4733 - accuracy: 0.7800 - precision: 0.8042 - lr: 0.0126\n",
      "Epoch 44/100\n",
      "25/25 [==============================] - 0s 6ms/step - loss: 0.4075 - accuracy: 0.8425 - precision: 0.8535 - lr: 0.0141\n",
      "Epoch 45/100\n",
      "25/25 [==============================] - 0s 6ms/step - loss: 0.3175 - accuracy: 0.9300 - precision: 0.9397 - lr: 0.0158\n",
      "Epoch 46/100\n",
      "25/25 [==============================] - 0s 5ms/step - loss: 0.2568 - accuracy: 0.9325 - precision: 0.9211 - lr: 0.0178\n",
      "Epoch 47/100\n",
      "25/25 [==============================] - 0s 6ms/step - loss: 0.2151 - accuracy: 0.9438 - precision: 0.9435 - lr: 0.0200\n",
      "Epoch 48/100\n",
      "25/25 [==============================] - 0s 6ms/step - loss: 0.1911 - accuracy: 0.9450 - precision: 0.9330 - lr: 0.0224\n",
      "Epoch 49/100\n",
      "25/25 [==============================] - 0s 7ms/step - loss: 0.1400 - accuracy: 0.9613 - precision: 0.9630 - lr: 0.0251\n",
      "Epoch 50/100\n",
      "25/25 [==============================] - 0s 6ms/step - loss: 0.1340 - accuracy: 0.9575 - precision: 0.9559 - lr: 0.0282\n",
      "Epoch 51/100\n",
      "25/25 [==============================] - 0s 5ms/step - loss: 0.1466 - accuracy: 0.9388 - precision: 0.9322 - lr: 0.0316\n",
      "Epoch 52/100\n",
      "25/25 [==============================] - 0s 6ms/step - loss: 0.0856 - accuracy: 0.9762 - precision: 0.9731 - lr: 0.0355\n",
      "Epoch 53/100\n",
      "25/25 [==============================] - 0s 6ms/step - loss: 0.1415 - accuracy: 0.9588 - precision: 0.9605 - lr: 0.0398\n",
      "Epoch 54/100\n",
      "25/25 [==============================] - 0s 5ms/step - loss: 0.1066 - accuracy: 0.9600 - precision: 0.9474 - lr: 0.0447\n",
      "Epoch 55/100\n",
      "25/25 [==============================] - 0s 6ms/step - loss: 0.0801 - accuracy: 0.9737 - precision: 0.9753 - lr: 0.0501\n",
      "Epoch 56/100\n",
      "25/25 [==============================] - 0s 6ms/step - loss: 0.0529 - accuracy: 0.9837 - precision: 0.9804 - lr: 0.0562\n",
      "Epoch 57/100\n",
      "25/25 [==============================] - 0s 6ms/step - loss: 0.0884 - accuracy: 0.9663 - precision: 0.9702 - lr: 0.0631\n",
      "Epoch 58/100\n",
      "25/25 [==============================] - 0s 6ms/step - loss: 0.1463 - accuracy: 0.9500 - precision: 0.9507 - lr: 0.0708\n",
      "Epoch 59/100\n",
      "25/25 [==============================] - 0s 6ms/step - loss: 0.3169 - accuracy: 0.8938 - precision: 0.8831 - lr: 0.0794\n",
      "Epoch 60/100\n",
      "25/25 [==============================] - 0s 6ms/step - loss: 0.7627 - accuracy: 0.6900 - precision: 0.6474 - lr: 0.0891\n",
      "Epoch 61/100\n",
      "25/25 [==============================] - 0s 6ms/step - loss: 0.2888 - accuracy: 0.9062 - precision: 0.8787 - lr: 0.1000\n",
      "Epoch 62/100\n",
      "25/25 [==============================] - 0s 6ms/step - loss: 0.1422 - accuracy: 0.9625 - precision: 0.9631 - lr: 0.1122\n",
      "Epoch 63/100\n",
      "25/25 [==============================] - 0s 6ms/step - loss: 0.0804 - accuracy: 0.9850 - precision: 0.9782 - lr: 0.1259\n",
      "Epoch 64/100\n",
      "25/25 [==============================] - 0s 6ms/step - loss: 0.0677 - accuracy: 0.9825 - precision: 0.9804 - lr: 0.1413\n",
      "Epoch 65/100\n",
      "25/25 [==============================] - 0s 6ms/step - loss: 0.1527 - accuracy: 0.9475 - precision: 0.9550 - lr: 0.1585\n",
      "Epoch 66/100\n",
      "25/25 [==============================] - 0s 5ms/step - loss: 0.5850 - accuracy: 0.8263 - precision: 0.8329 - lr: 0.1778\n",
      "Epoch 67/100\n",
      "25/25 [==============================] - 0s 5ms/step - loss: 0.3364 - accuracy: 0.8737 - precision: 0.8941 - lr: 0.1995\n",
      "Epoch 68/100\n",
      "25/25 [==============================] - 0s 6ms/step - loss: 0.1317 - accuracy: 0.9575 - precision: 0.9471 - lr: 0.2239\n",
      "Epoch 69/100\n",
      "25/25 [==============================] - 0s 6ms/step - loss: 0.1494 - accuracy: 0.9488 - precision: 0.9506 - lr: 0.2512\n",
      "Epoch 70/100\n",
      "25/25 [==============================] - 0s 5ms/step - loss: 0.2766 - accuracy: 0.8925 - precision: 0.9103 - lr: 0.2818\n",
      "Epoch 71/100\n",
      "25/25 [==============================] - 0s 6ms/step - loss: 0.2564 - accuracy: 0.9038 - precision: 0.8964 - lr: 0.3162\n",
      "Epoch 72/100\n",
      "25/25 [==============================] - 0s 6ms/step - loss: 0.0957 - accuracy: 0.9663 - precision: 0.9633 - lr: 0.3548\n",
      "Epoch 73/100\n",
      "25/25 [==============================] - 0s 6ms/step - loss: 0.1668 - accuracy: 0.9500 - precision: 0.9552 - lr: 0.3981\n",
      "Epoch 74/100\n",
      "25/25 [==============================] - 0s 6ms/step - loss: 0.4415 - accuracy: 0.8388 - precision: 0.8635 - lr: 0.4467\n",
      "Epoch 75/100\n",
      "25/25 [==============================] - 0s 6ms/step - loss: 0.1857 - accuracy: 0.9375 - precision: 0.9541 - lr: 0.5012\n",
      "Epoch 76/100\n",
      "25/25 [==============================] - 0s 6ms/step - loss: 0.1451 - accuracy: 0.9550 - precision: 0.9602 - lr: 0.5623\n",
      "Epoch 77/100\n",
      "25/25 [==============================] - 0s 6ms/step - loss: 0.5405 - accuracy: 0.7950 - precision: 0.8253 - lr: 0.6310\n",
      "Epoch 78/100\n",
      "25/25 [==============================] - 0s 6ms/step - loss: 0.7009 - accuracy: 0.5713 - precision: 0.5655 - lr: 0.7079\n",
      "Epoch 79/100\n",
      "25/25 [==============================] - 0s 7ms/step - loss: 0.6372 - accuracy: 0.5863 - precision: 0.6623 - lr: 0.7943\n",
      "Epoch 80/100\n",
      "25/25 [==============================] - 0s 5ms/step - loss: 0.6719 - accuracy: 0.5487 - precision: 0.5600 - lr: 0.8913\n",
      "Epoch 81/100\n",
      "25/25 [==============================] - 0s 5ms/step - loss: 0.7330 - accuracy: 0.4900 - precision: 0.4976 - lr: 1.0000\n",
      "Epoch 82/100\n",
      "25/25 [==============================] - 0s 5ms/step - loss: 0.7202 - accuracy: 0.4750 - precision: 0.4818 - lr: 1.1220\n",
      "Epoch 83/100\n",
      "25/25 [==============================] - 0s 5ms/step - loss: 0.6986 - accuracy: 0.5425 - precision: 0.5521 - lr: 1.2589\n",
      "Epoch 84/100\n",
      "25/25 [==============================] - 0s 6ms/step - loss: 0.7488 - accuracy: 0.4900 - precision: 0.4976 - lr: 1.4125\n",
      "Epoch 85/100\n",
      "25/25 [==============================] - 0s 5ms/step - loss: 0.7350 - accuracy: 0.5025 - precision: 0.5083 - lr: 1.5849\n",
      "Epoch 86/100\n",
      "25/25 [==============================] - 0s 8ms/step - loss: 0.7207 - accuracy: 0.4875 - precision: 0.4948 - lr: 1.7783\n",
      "Epoch 87/100\n",
      "25/25 [==============================] - 0s 5ms/step - loss: 0.7104 - accuracy: 0.5125 - precision: 0.5208 - lr: 1.9953\n",
      "Epoch 88/100\n",
      "25/25 [==============================] - 0s 6ms/step - loss: 0.7079 - accuracy: 0.4825 - precision: 0.4904 - lr: 2.2387\n",
      "Epoch 89/100\n",
      "25/25 [==============================] - 0s 5ms/step - loss: 0.7146 - accuracy: 0.4825 - precision: 0.4904 - lr: 2.5119\n",
      "Epoch 90/100\n",
      "25/25 [==============================] - 0s 5ms/step - loss: 0.7273 - accuracy: 0.4925 - precision: 0.5000 - lr: 2.8184\n",
      "Epoch 91/100\n",
      "25/25 [==============================] - 0s 5ms/step - loss: 0.7887 - accuracy: 0.4950 - precision: 0.5021 - lr: 3.1623\n",
      "Epoch 92/100\n",
      "25/25 [==============================] - 0s 5ms/step - loss: 0.7781 - accuracy: 0.4850 - precision: 0.4922 - lr: 3.5481\n",
      "Epoch 93/100\n",
      "25/25 [==============================] - 0s 5ms/step - loss: 0.7427 - accuracy: 0.5000 - precision: 0.5078 - lr: 3.9811\n",
      "Epoch 94/100\n",
      "25/25 [==============================] - 0s 5ms/step - loss: 0.7498 - accuracy: 0.4925 - precision: 0.5000 - lr: 4.4668\n",
      "Epoch 95/100\n",
      "25/25 [==============================] - 0s 5ms/step - loss: 0.7820 - accuracy: 0.4900 - precision: 0.4974 - lr: 5.0119\n",
      "Epoch 96/100\n",
      "25/25 [==============================] - 0s 5ms/step - loss: 0.7176 - accuracy: 0.5175 - precision: 0.5208 - lr: 5.6234\n",
      "Epoch 97/100\n",
      "25/25 [==============================] - 0s 5ms/step - loss: 0.7399 - accuracy: 0.5025 - precision: 0.5096 - lr: 6.3096\n",
      "Epoch 98/100\n",
      "25/25 [==============================] - 0s 5ms/step - loss: 0.7444 - accuracy: 0.5100 - precision: 0.5156 - lr: 7.0795\n",
      "Epoch 99/100\n",
      "25/25 [==============================] - 0s 5ms/step - loss: 1.0940 - accuracy: 0.4950 - precision: 0.5028 - lr: 7.9433\n",
      "Epoch 100/100\n",
      "25/25 [==============================] - 0s 5ms/step - loss: 0.7833 - accuracy: 0.5075 - precision: 0.5188 - lr: 8.9125\n"
     ]
    }
   ],
   "source": [
    "tf.random.set_seed(42)\n",
    "\n",
    "\n",
    "model_9 = tf.keras.Sequential([\n",
    "\n",
    "    tf.keras.layers.Dense(4,activation =\"relu\"),\n",
    "    tf.keras.layers.Dense(4,activation = \"relu\"),\n",
    "    tf.keras.layers.Dense(1,activation = \"sigmoid\")\n",
    "])\n",
    "\n",
    "\n",
    "model_9.compile(loss = \"binary_crossentropy\",\n",
    "optimizer = \"Adam\",\n",
    "metrics = [\"accuracy\"])\n",
    "\n",
    "lr_scheduler = tf.keras.callbacks.LearningRateScheduler(lambda epoch :1e-4 *  10**(epoch/20))\n",
    "\n",
    "\n",
    "history = model_9.fit(x_train,y_train,epochs=100,callbacks=lr_scheduler)"
   ]
  },
  {
   "cell_type": "code",
   "execution_count": 58,
   "metadata": {},
   "outputs": [
    {
     "data": {
      "image/png": "[encoded data removed]",
      "text/plain": [
       "<Figure size 720x504 with 1 Axes>"
      ]
     },
     "metadata": {
      "needs_background": "light"
     },
     "output_type": "display_data"
    }
   ],
   "source": [
    "pd.DataFrame(history.history).plot(figsize=(10,7),xlabel=\"epochs\");"
   ]
  },
  {
   "cell_type": "code",
   "execution_count": 62,
   "metadata": {},
   "outputs": [
    {
     "data": {
      "image/png": "[encoded data removed]",
      "text/plain": [
       "<Figure size 720x504 with 1 Axes>"
      ]
     },
     "metadata": {
      "needs_background": "light"
     },
     "output_type": "display_data"
    }
   ],
   "source": [
    "lrs = 1e-4 * (10**(tf.range(100)/20))\n",
    "plt.figure(figsize=(10,7))\n",
    "plt.semilogx(lrs,history.history[\"loss\"])\n",
    "plt.xlabel(\"Learning Rate\")\n",
    "plt.ylabel(\"Loss\")\n",
    "plt.title(\"Learning rate vs Loss\");"
   ]
  },
  {
   "cell_type": "markdown",
   "metadata": {},
   "source": [
    "#### Confusion matrix"
   ]
  },
  {
   "cell_type": "code",
   "execution_count": 70,
   "metadata": {},
   "outputs": [],
   "source": [
    "from sklearn.metrics import confusion_matrix"
   ]
  },
  {
   "cell_type": "code",
   "execution_count": 67,
   "metadata": {},
   "outputs": [
    {
     "name": "stdout",
     "output_type": "stream",
     "text": [
      "7/7 [==============================] - 0s 4ms/step\n"
     ]
    }
   ],
   "source": [
    "y_preds = model_9.predict(x_test)"
   ]
  },
  {
   "cell_type": "code",
   "execution_count": 68,
   "metadata": {},
   "outputs": [
    {
     "data": {
      "text/plain": [
       "array([[0.6370209],\n",
       "       [0.6370209],\n",
       "       [0.6370209],\n",
       "       [0.6370209],\n",
       "       [0.6370209],\n",
       "       [0.6370209],\n",
       "       [0.6370209],\n",
       "       [0.6370209],\n",
       "       [0.6370209],\n",
       "       [0.6370209],\n",
       "       [0.6370209],\n",
       "       [0.6370209],\n",
       "       [0.6370209],\n",
       "       [0.6370209],\n",
       "       [0.6370209],\n",
       "       [0.6370209],\n",
       "       [0.6370209],\n",
       "       [0.6370209],\n",
       "       [0.6370209],\n",
       "       [0.6370209],\n",
       "       [0.6370209],\n",
       "       [0.6370209],\n",
       "       [0.6370209],\n",
       "       [0.6370209],\n",
       "       [0.6370209],\n",
       "       [0.6370209],\n",
       "       [0.6370209],\n",
       "       [0.6370209],\n",
       "       [0.6370209],\n",
       "       [0.6370209],\n",
       "       [0.6370209],\n",
       "       [0.6370209],\n",
       "       [0.6370209],\n",
       "       [0.6370209],\n",
       "       [0.6370209],\n",
       "       [0.6370209],\n",
       "       [0.6370209],\n",
       "       [0.6370209],\n",
       "       [0.6370209],\n",
       "       [0.6370209],\n",
       "       [0.6370209],\n",
       "       [0.6370209],\n",
       "       [0.6370209],\n",
       "       [0.6370209],\n",
       "       [0.6370209],\n",
       "       [0.6370209],\n",
       "       [0.6370209],\n",
       "       [0.6370209],\n",
       "       [0.6370209],\n",
       "       [0.6370209],\n",
       "       [0.6370209],\n",
       "       [0.6370209],\n",
       "       [0.6370209],\n",
       "       [0.6370209],\n",
       "       [0.6370209],\n",
       "       [0.6370209],\n",
       "       [0.6370209],\n",
       "       [0.6370209],\n",
       "       [0.6370209],\n",
       "       [0.6370209],\n",
       "       [0.6370209],\n",
       "       [0.6370209],\n",
       "       [0.6370209],\n",
       "       [0.6370209],\n",
       "       [0.6370209],\n",
       "       [0.6370209],\n",
       "       [0.6370209],\n",
       "       [0.6370209],\n",
       "       [0.6370209],\n",
       "       [0.6370209],\n",
       "       [0.6370209],\n",
       "       [0.6370209],\n",
       "       [0.6370209],\n",
       "       [0.6370209],\n",
       "       [0.6370209],\n",
       "       [0.6370209],\n",
       "       [0.6370209],\n",
       "       [0.6370209],\n",
       "       [0.6370209],\n",
       "       [0.6370209],\n",
       "       [0.6370209],\n",
       "       [0.6370209],\n",
       "       [0.6370209],\n",
       "       [0.6370209],\n",
       "       [0.6370209],\n",
       "       [0.6370209],\n",
       "       [0.6370209],\n",
       "       [0.6370209],\n",
       "       [0.6370209],\n",
       "       [0.6370209],\n",
       "       [0.6370209],\n",
       "       [0.6370209],\n",
       "       [0.6370209],\n",
       "       [0.6370209],\n",
       "       [0.6370209],\n",
       "       [0.6370209],\n",
       "       [0.6370209],\n",
       "       [0.6370209],\n",
       "       [0.6370209],\n",
       "       [0.6370209],\n",
       "       [0.6370209],\n",
       "       [0.6370209],\n",
       "       [0.6370209],\n",
       "       [0.6370209],\n",
       "       [0.6370209],\n",
       "       [0.6370209],\n",
       "       [0.6370209],\n",
       "       [0.6370209],\n",
       "       [0.6370209],\n",
       "       [0.6370209],\n",
       "       [0.6370209],\n",
       "       [0.6370209],\n",
       "       [0.6370209],\n",
       "       [0.6370209],\n",
       "       [0.6370209],\n",
       "       [0.6370209],\n",
       "       [0.6370209],\n",
       "       [0.6370209],\n",
       "       [0.6370209],\n",
       "       [0.6370209],\n",
       "       [0.6370209],\n",
       "       [0.6370209],\n",
       "       [0.6370209],\n",
       "       [0.6370209],\n",
       "       [0.6370209],\n",
       "       [0.6370209],\n",
       "       [0.6370209],\n",
       "       [0.6370209],\n",
       "       [0.6370209],\n",
       "       [0.6370209],\n",
       "       [0.6370209],\n",
       "       [0.6370209],\n",
       "       [0.6370209],\n",
       "       [0.6370209],\n",
       "       [0.6370209],\n",
       "       [0.6370209],\n",
       "       [0.6370209],\n",
       "       [0.6370209],\n",
       "       [0.6370209],\n",
       "       [0.6370209],\n",
       "       [0.6370209],\n",
       "       [0.6370209],\n",
       "       [0.6370209],\n",
       "       [0.6370209],\n",
       "       [0.6370209],\n",
       "       [0.6370209],\n",
       "       [0.6370209],\n",
       "       [0.6370209],\n",
       "       [0.6370209],\n",
       "       [0.6370209],\n",
       "       [0.6370209],\n",
       "       [0.6370209],\n",
       "       [0.6370209],\n",
       "       [0.6370209],\n",
       "       [0.6370209],\n",
       "       [0.6370209],\n",
       "       [0.6370209],\n",
       "       [0.6370209],\n",
       "       [0.6370209],\n",
       "       [0.6370209],\n",
       "       [0.6370209],\n",
       "       [0.6370209],\n",
       "       [0.6370209],\n",
       "       [0.6370209],\n",
       "       [0.6370209],\n",
       "       [0.6370209],\n",
       "       [0.6370209],\n",
       "       [0.6370209],\n",
       "       [0.6370209],\n",
       "       [0.6370209],\n",
       "       [0.6370209],\n",
       "       [0.6370209],\n",
       "       [0.6370209],\n",
       "       [0.6370209],\n",
       "       [0.6370209],\n",
       "       [0.6370209],\n",
       "       [0.6370209],\n",
       "       [0.6370209],\n",
       "       [0.6370209],\n",
       "       [0.6370209],\n",
       "       [0.6370209],\n",
       "       [0.6370209],\n",
       "       [0.6370209],\n",
       "       [0.6370209],\n",
       "       [0.6370209],\n",
       "       [0.6370209],\n",
       "       [0.6370209],\n",
       "       [0.6370209],\n",
       "       [0.6370209],\n",
       "       [0.6370209],\n",
       "       [0.6370209],\n",
       "       [0.6370209],\n",
       "       [0.6370209],\n",
       "       [0.6370209],\n",
       "       [0.6370209],\n",
       "       [0.6370209],\n",
       "       [0.6370209],\n",
       "       [0.6370209],\n",
       "       [0.6370209],\n",
       "       [0.6370209]], dtype=float32)"
      ]
     },
     "execution_count": 68,
     "metadata": {},
     "output_type": "execute_result"
    }
   ],
   "source": [
    "y_preds"
   ]
  },
  {
   "cell_type": "code",
   "execution_count": 71,
   "metadata": {},
   "outputs": [
    {
     "ename": "ValueError",
     "evalue": "Classification metrics can't handle a mix of binary and continuous targets",
     "output_type": "error",
     "traceback": [
      "\u001b[1;31m---------------------------------------------------------------------------\u001b[0m",
      "\u001b[1;31mValueError\u001b[0m                                Traceback (most recent call last)",
      "\u001b[1;32m~\\AppData\\Local\\Temp/ipykernel_6908/664546892.py\u001b[0m in \u001b[0;36m<module>\u001b[1;34m\u001b[0m\n\u001b[1;32m----> 1\u001b[1;33m \u001b[0mconfusion_matrix\u001b[0m\u001b[1;33m(\u001b[0m\u001b[0my_test\u001b[0m\u001b[1;33m,\u001b[0m\u001b[0my_preds\u001b[0m\u001b[1;33m)\u001b[0m\u001b[1;33m\u001b[0m\u001b[1;33m\u001b[0m\u001b[0m\n\u001b[0m",
      "\u001b[1;32mc:\\Users\\Admin\\AppData\\Local\\Programs\\Python\\Python310\\lib\\site-packages\\sklearn\\metrics\\_classification.py\u001b[0m in \u001b[0;36mconfusion_matrix\u001b[1;34m(y_true, y_pred, labels, sample_weight, normalize)\u001b[0m\n\u001b[0;32m    300\u001b[0m \u001b[1;33m\u001b[0m\u001b[0m\n\u001b[0;32m    301\u001b[0m     \"\"\"\n\u001b[1;32m--> 302\u001b[1;33m     \u001b[0my_type\u001b[0m\u001b[1;33m,\u001b[0m \u001b[0my_true\u001b[0m\u001b[1;33m,\u001b[0m \u001b[0my_pred\u001b[0m \u001b[1;33m=\u001b[0m \u001b[0m_check_targets\u001b[0m\u001b[1;33m(\u001b[0m\u001b[0my_true\u001b[0m\u001b[1;33m,\u001b[0m \u001b[0my_pred\u001b[0m\u001b[1;33m)\u001b[0m\u001b[1;33m\u001b[0m\u001b[1;33m\u001b[0m\u001b[0m\n\u001b[0m\u001b[0;32m    303\u001b[0m     \u001b[1;32mif\u001b[0m \u001b[0my_type\u001b[0m \u001b[1;32mnot\u001b[0m \u001b[1;32min\u001b[0m \u001b[1;33m(\u001b[0m\u001b[1;34m\"binary\"\u001b[0m\u001b[1;33m,\u001b[0m \u001b[1;34m\"multiclass\"\u001b[0m\u001b[1;33m)\u001b[0m\u001b[1;33m:\u001b[0m\u001b[1;33m\u001b[0m\u001b[1;33m\u001b[0m\u001b[0m\n\u001b[0;32m    304\u001b[0m         \u001b[1;32mraise\u001b[0m \u001b[0mValueError\u001b[0m\u001b[1;33m(\u001b[0m\u001b[1;34m\"%s is not supported\"\u001b[0m \u001b[1;33m%\u001b[0m \u001b[0my_type\u001b[0m\u001b[1;33m)\u001b[0m\u001b[1;33m\u001b[0m\u001b[1;33m\u001b[0m\u001b[0m\n",
      "\u001b[1;32mc:\\Users\\Admin\\AppData\\Local\\Programs\\Python\\Python310\\lib\\site-packages\\sklearn\\metrics\\_classification.py\u001b[0m in \u001b[0;36m_check_targets\u001b[1;34m(y_true, y_pred)\u001b[0m\n\u001b[0;32m     91\u001b[0m \u001b[1;33m\u001b[0m\u001b[0m\n\u001b[0;32m     92\u001b[0m     \u001b[1;32mif\u001b[0m \u001b[0mlen\u001b[0m\u001b[1;33m(\u001b[0m\u001b[0my_type\u001b[0m\u001b[1;33m)\u001b[0m \u001b[1;33m>\u001b[0m \u001b[1;36m1\u001b[0m\u001b[1;33m:\u001b[0m\u001b[1;33m\u001b[0m\u001b[1;33m\u001b[0m\u001b[0m\n\u001b[1;32m---> 93\u001b[1;33m         raise ValueError(\n\u001b[0m\u001b[0;32m     94\u001b[0m             \"Classification metrics can't handle a mix of {0} and {1} targets\".format(\n\u001b[0;32m     95\u001b[0m                 \u001b[0mtype_true\u001b[0m\u001b[1;33m,\u001b[0m \u001b[0mtype_pred\u001b[0m\u001b[1;33m\u001b[0m\u001b[1;33m\u001b[0m\u001b[0m\n",
      "\u001b[1;31mValueError\u001b[0m: Classification metrics can't handle a mix of binary and continuous targets"
     ]
    }
   ],
   "source": [
    "confusion_matrix(y_test,y_preds)"
   ]
  },
  {
   "cell_type": "markdown",
   "metadata": {},
   "source": [
    "The predictions are in the form of **prediction probability**. Round the probability predictions to either 0 or 1"
   ]
  },
  {
   "cell_type": "code",
   "execution_count": 73,
   "metadata": {},
   "outputs": [
    {
     "data": {
      "text/plain": [
       "<tf.Tensor: shape=(10, 1), dtype=float32, numpy=\n",
       "array([[1.],\n",
       "       [1.],\n",
       "       [1.],\n",
       "       [1.],\n",
       "       [1.],\n",
       "       [1.],\n",
       "       [1.],\n",
       "       [1.],\n",
       "       [1.],\n",
       "       [1.]], dtype=float32)>"
      ]
     },
     "execution_count": 73,
     "metadata": {},
     "output_type": "execute_result"
    }
   ],
   "source": [
    "tf.round(y_preds)[:10]"
   ]
  },
  {
   "cell_type": "code",
   "execution_count": 72,
   "metadata": {},
   "outputs": [
    {
     "data": {
      "text/plain": [
       "array([[  0, 106],\n",
       "       [  0,  94]], dtype=int64)"
      ]
     },
     "execution_count": 72,
     "metadata": {},
     "output_type": "execute_result"
    }
   ],
   "source": [
    "confusion_matrix(y_test,tf.round(y_preds))"
   ]
  },
  {
   "cell_type": "markdown",
   "metadata": {},
   "source": [
    "### Working with a larger example"
   ]
  },
  {
   "cell_type": "code",
   "execution_count": 75,
   "metadata": {},
   "outputs": [],
   "source": [
    "from tensorflow.keras.datasets import fashion_mnist"
   ]
  },
  {
   "cell_type": "code",
   "execution_count": 76,
   "metadata": {},
   "outputs": [
    {
     "name": "stdout",
     "output_type": "stream",
     "text": [
      "Downloading data from https://storage.googleapis.com/tensorflow/tf-keras-datasets/train-labels-idx1-ubyte.gz\n",
      "29515/29515 [==============================] - 0s 0us/step\n",
      "Downloading data from https://storage.googleapis.com/tensorflow/tf-keras-datasets/train-images-idx3-ubyte.gz\n",
      "26421880/26421880 [==============================] - 3s 0us/step\n",
      "Downloading data from https://storage.googleapis.com/tensorflow/tf-keras-datasets/t10k-labels-idx1-ubyte.gz\n",
      "5148/5148 [==============================] - 0s 0s/step\n",
      "Downloading data from https://storage.googleapis.com/tensorflow/tf-keras-datasets/t10k-images-idx3-ubyte.gz\n",
      "4422102/4422102 [==============================] - 1s 0us/step\n"
     ]
    }
   ],
   "source": [
    "(train_data,train_labels),(test_data,test_labels) = fashion_mnist.load_data()"
   ]
  },
  {
   "cell_type": "code",
   "execution_count": 77,
   "metadata": {},
   "outputs": [
    {
     "data": {
      "text/plain": [
       "array([[  0,   0,   0,   0,   0,   0,   0,   0,   0,   0,   0,   0,   0,\n",
       "          0,   0,   0,   0,   0,   0,   0,   0,   0,   0,   0,   0,   0,\n",
       "          0,   0],\n",
       "       [  0,   0,   0,   0,   0,   0,   0,   0,   0,   0,   0,   0,   0,\n",
       "          0,   0,   0,   0,   0,   0,   0,   0,   0,   0,   0,   0,   0,\n",
       "          0,   0],\n",
       "       [  0,   0,   0,   0,   0,   0,   0,   0,   0,   0,   0,   0,   0,\n",
       "          0,   0,   0,   0,   0,   0,   0,   0,   0,   0,   0,   0,   0,\n",
       "          0,   0],\n",
       "       [  0,   0,   0,   0,   0,   0,   0,   0,   0,   0,   0,   0,   1,\n",
       "          0,   0,  13,  73,   0,   0,   1,   4,   0,   0,   0,   0,   1,\n",
       "          1,   0],\n",
       "       [  0,   0,   0,   0,   0,   0,   0,   0,   0,   0,   0,   0,   3,\n",
       "          0,  36, 136, 127,  62,  54,   0,   0,   0,   1,   3,   4,   0,\n",
       "          0,   3],\n",
       "       [  0,   0,   0,   0,   0,   0,   0,   0,   0,   0,   0,   0,   6,\n",
       "          0, 102, 204, 176, 134, 144, 123,  23,   0,   0,   0,   0,  12,\n",
       "         10,   0],\n",
       "       [  0,   0,   0,   0,   0,   0,   0,   0,   0,   0,   0,   0,   0,\n",
       "          0, 155, 236, 207, 178, 107, 156, 161, 109,  64,  23,  77, 130,\n",
       "         72,  15],\n",
       "       [  0,   0,   0,   0,   0,   0,   0,   0,   0,   0,   0,   1,   0,\n",
       "         69, 207, 223, 218, 216, 216, 163, 127, 121, 122, 146, 141,  88,\n",
       "        172,  66],\n",
       "       [  0,   0,   0,   0,   0,   0,   0,   0,   0,   1,   1,   1,   0,\n",
       "        200, 232, 232, 233, 229, 223, 223, 215, 213, 164, 127, 123, 196,\n",
       "        229,   0],\n",
       "       [  0,   0,   0,   0,   0,   0,   0,   0,   0,   0,   0,   0,   0,\n",
       "        183, 225, 216, 223, 228, 235, 227, 224, 222, 224, 221, 223, 245,\n",
       "        173,   0],\n",
       "       [  0,   0,   0,   0,   0,   0,   0,   0,   0,   0,   0,   0,   0,\n",
       "        193, 228, 218, 213, 198, 180, 212, 210, 211, 213, 223, 220, 243,\n",
       "        202,   0],\n",
       "       [  0,   0,   0,   0,   0,   0,   0,   0,   0,   1,   3,   0,  12,\n",
       "        219, 220, 212, 218, 192, 169, 227, 208, 218, 224, 212, 226, 197,\n",
       "        209,  52],\n",
       "       [  0,   0,   0,   0,   0,   0,   0,   0,   0,   0,   6,   0,  99,\n",
       "        244, 222, 220, 218, 203, 198, 221, 215, 213, 222, 220, 245, 119,\n",
       "        167,  56],\n",
       "       [  0,   0,   0,   0,   0,   0,   0,   0,   0,   4,   0,   0,  55,\n",
       "        236, 228, 230, 228, 240, 232, 213, 218, 223, 234, 217, 217, 209,\n",
       "         92,   0],\n",
       "       [  0,   0,   1,   4,   6,   7,   2,   0,   0,   0,   0,   0, 237,\n",
       "        226, 217, 223, 222, 219, 222, 221, 216, 223, 229, 215, 218, 255,\n",
       "         77,   0],\n",
       "       [  0,   3,   0,   0,   0,   0,   0,   0,   0,  62, 145, 204, 228,\n",
       "        207, 213, 221, 218, 208, 211, 218, 224, 223, 219, 215, 224, 244,\n",
       "        159,   0],\n",
       "       [  0,   0,   0,   0,  18,  44,  82, 107, 189, 228, 220, 222, 217,\n",
       "        226, 200, 205, 211, 230, 224, 234, 176, 188, 250, 248, 233, 238,\n",
       "        215,   0],\n",
       "       [  0,  57, 187, 208, 224, 221, 224, 208, 204, 214, 208, 209, 200,\n",
       "        159, 245, 193, 206, 223, 255, 255, 221, 234, 221, 211, 220, 232,\n",
       "        246,   0],\n",
       "       [  3, 202, 228, 224, 221, 211, 211, 214, 205, 205, 205, 220, 240,\n",
       "         80, 150, 255, 229, 221, 188, 154, 191, 210, 204, 209, 222, 228,\n",
       "        225,   0],\n",
       "       [ 98, 233, 198, 210, 222, 229, 229, 234, 249, 220, 194, 215, 217,\n",
       "        241,  65,  73, 106, 117, 168, 219, 221, 215, 217, 223, 223, 224,\n",
       "        229,  29],\n",
       "       [ 75, 204, 212, 204, 193, 205, 211, 225, 216, 185, 197, 206, 198,\n",
       "        213, 240, 195, 227, 245, 239, 223, 218, 212, 209, 222, 220, 221,\n",
       "        230,  67],\n",
       "       [ 48, 203, 183, 194, 213, 197, 185, 190, 194, 192, 202, 214, 219,\n",
       "        221, 220, 236, 225, 216, 199, 206, 186, 181, 177, 172, 181, 205,\n",
       "        206, 115],\n",
       "       [  0, 122, 219, 193, 179, 171, 183, 196, 204, 210, 213, 207, 211,\n",
       "        210, 200, 196, 194, 191, 195, 191, 198, 192, 176, 156, 167, 177,\n",
       "        210,  92],\n",
       "       [  0,   0,  74, 189, 212, 191, 175, 172, 175, 181, 185, 188, 189,\n",
       "        188, 193, 198, 204, 209, 210, 210, 211, 188, 188, 194, 192, 216,\n",
       "        170,   0],\n",
       "       [  2,   0,   0,   0,  66, 200, 222, 237, 239, 242, 246, 243, 244,\n",
       "        221, 220, 193, 191, 179, 182, 182, 181, 176, 166, 168,  99,  58,\n",
       "          0,   0],\n",
       "       [  0,   0,   0,   0,   0,   0,   0,  40,  61,  44,  72,  41,  35,\n",
       "          0,   0,   0,   0,   0,   0,   0,   0,   0,   0,   0,   0,   0,\n",
       "          0,   0],\n",
       "       [  0,   0,   0,   0,   0,   0,   0,   0,   0,   0,   0,   0,   0,\n",
       "          0,   0,   0,   0,   0,   0,   0,   0,   0,   0,   0,   0,   0,\n",
       "          0,   0],\n",
       "       [  0,   0,   0,   0,   0,   0,   0,   0,   0,   0,   0,   0,   0,\n",
       "          0,   0,   0,   0,   0,   0,   0,   0,   0,   0,   0,   0,   0,\n",
       "          0,   0]], dtype=uint8)"
      ]
     },
     "execution_count": 77,
     "metadata": {},
     "output_type": "execute_result"
    }
   ],
   "source": [
    "# Show first training sample\n",
    "\n",
    "train_data[0]"
   ]
  },
  {
   "cell_type": "code",
   "execution_count": 79,
   "metadata": {},
   "outputs": [
    {
     "data": {
      "text/plain": [
       "array([9, 0, 0, ..., 3, 0, 5], dtype=uint8)"
      ]
     },
     "execution_count": 79,
     "metadata": {},
     "output_type": "execute_result"
    }
   ],
   "source": [
    "# Show training labels\n",
    "\n",
    "train_labels"
   ]
  },
  {
   "cell_type": "code",
   "execution_count": 81,
   "metadata": {},
   "outputs": [
    {
     "data": {
      "text/plain": [
       "((28, 28), ())"
      ]
     },
     "execution_count": 81,
     "metadata": {},
     "output_type": "execute_result"
    }
   ],
   "source": [
    "#Check the shape of single example\n",
    "\n",
    "train_data[0].shape,train_labels[0].shape"
   ]
  },
  {
   "cell_type": "code",
   "execution_count": 92,
   "metadata": {},
   "outputs": [
    {
     "data": {
      "text/plain": [
       "<matplotlib.image.AxesImage at 0x1ae21de4a30>"
      ]
     },
     "execution_count": 92,
     "metadata": {},
     "output_type": "execute_result"
    },
    {
     "data": {
      "image/png": "[encoded data removed]",
      "text/plain": [
       "<Figure size 432x288 with 1 Axes>"
      ]
     },
     "metadata": {
      "needs_background": "light"
     },
     "output_type": "display_data"
    }
   ],
   "source": [
    "# Plot a single sample\n",
    "plt.imshow(train_data[9])"
   ]
  },
  {
   "cell_type": "code",
   "execution_count": 93,
   "metadata": {},
   "outputs": [
    {
     "data": {
      "text/plain": [
       "5"
      ]
     },
     "execution_count": 93,
     "metadata": {},
     "output_type": "execute_result"
    }
   ],
   "source": [
    "train_labels[9]"
   ]
  },
  {
   "cell_type": "code",
   "execution_count": 94,
   "metadata": {},
   "outputs": [],
   "source": [
    "# Create a small list so we can index our training labels in human readable format\n",
    "\n",
    "class_names = [\"T-shirt/top\",\"Trouser\",\"Pullover\",\"Dress\",\"Coat\",\"Sandal\",\"Shirt\",\"Sneaker\",\"Bag\",\"Ankle boot\"]"
   ]
  },
  {
   "cell_type": "code",
   "execution_count": 106,
   "metadata": {},
   "outputs": [
    {
     "data": {
      "text/plain": [
       "Text(0.5, 1.0, 'Trouser')"
      ]
     },
     "execution_count": 106,
     "metadata": {},
     "output_type": "execute_result"
    },
    {
     "data": {
      "image/png": "[encoded data removed]",
      "text/plain": [
       "<Figure size 432x288 with 1 Axes>"
      ]
     },
     "metadata": {
      "needs_background": "light"
     },
     "output_type": "display_data"
    }
   ],
   "source": [
    "index_of_choice =2002\n",
    "plt.imshow(train_data[index_of_choice],cmap=plt.cm.binary)\n",
    "plt.title(class_names[train_labels[index_of_choice]])"
   ]
  },
  {
   "cell_type": "code",
   "execution_count": 111,
   "metadata": {},
   "outputs": [
    {
     "data": {
      "image/png": "[encoded data removed]",
      "text/plain": [
       "<Figure size 720x504 with 4 Axes>"
      ]
     },
     "metadata": {
      "needs_background": "light"
     },
     "output_type": "display_data"
    }
   ],
   "source": [
    "# Plot mutiple random images of fashion MNIST\n",
    "\n",
    "import random\n",
    "plt.figure(figsize=(10,7))\n",
    "for i in range(4):\n",
    "    ax = plt.subplot(2,2,i+1)\n",
    "    rand_index = random.choice(range(len(train_labels)))\n",
    "    plt.imshow(train_data[rand_index],cmap=plt.cm.binary)\n",
    "    plt.title(class_names[train_labels[rand_index]])\n",
    "    plt.axis(False)\n",
    "\n"
   ]
  },
  {
   "cell_type": "code",
   "execution_count": 114,
   "metadata": {},
   "outputs": [
    {
     "name": "stdout",
     "output_type": "stream",
     "text": [
      "Epoch 1/10\n",
      "1875/1875 [==============================] - 13s 6ms/step - loss: 2.1747 - accuracy: 0.1605 - val_loss: 1.8105 - val_accuracy: 0.2048\n",
      "Epoch 2/10\n",
      "1875/1875 [==============================] - 10s 6ms/step - loss: 1.7032 - accuracy: 0.2533 - val_loss: 1.6383 - val_accuracy: 0.2844\n",
      "Epoch 3/10\n",
      "1875/1875 [==============================] - 10s 5ms/step - loss: 1.6340 - accuracy: 0.2794 - val_loss: 1.6074 - val_accuracy: 0.2866\n",
      "Epoch 4/10\n",
      "1875/1875 [==============================] - 10s 5ms/step - loss: 1.6074 - accuracy: 0.2846 - val_loss: 1.5927 - val_accuracy: 0.2928\n",
      "Epoch 5/10\n",
      "1875/1875 [==============================] - 10s 5ms/step - loss: 1.5916 - accuracy: 0.2918 - val_loss: 1.5940 - val_accuracy: 0.2868\n",
      "Epoch 6/10\n",
      "1875/1875 [==============================] - 10s 5ms/step - loss: 1.5840 - accuracy: 0.2998 - val_loss: 1.5663 - val_accuracy: 0.3063\n",
      "Epoch 7/10\n",
      "1875/1875 [==============================] - 11s 6ms/step - loss: 1.5664 - accuracy: 0.3144 - val_loss: 1.5603 - val_accuracy: 0.3191\n",
      "Epoch 8/10\n",
      "1875/1875 [==============================] - 11s 6ms/step - loss: 1.5404 - accuracy: 0.3364 - val_loss: 1.5221 - val_accuracy: 0.3599\n",
      "Epoch 9/10\n",
      "1875/1875 [==============================] - 11s 6ms/step - loss: 1.5148 - accuracy: 0.3548 - val_loss: 1.4935 - val_accuracy: 0.3586\n",
      "Epoch 10/10\n",
      "1875/1875 [==============================] - 11s 6ms/step - loss: 1.4935 - accuracy: 0.3619 - val_loss: 1.4706 - val_accuracy: 0.3660\n"
     ]
    }
   ],
   "source": [
    "# Building a multiclass classification model\n",
    "\n",
    "tf.random.set_seed(42)\n",
    "\n",
    "model = tf.keras.Sequential([\n",
    "    tf.keras.layers.Flatten(input_shape = (28,28)),\n",
    "    tf.keras.layers.Dense(4,activation=\"relu\"),\n",
    "    tf.keras.layers.Dense(4,activation=\"relu\"),\n",
    "    tf.keras.layers.Dense(10,activation=\"softmax\")\n",
    "    \n",
    "])\n",
    "\n",
    "model.compile(loss = \"sparse_categorical_crossentropy\",\n",
    "optimizer = tf.keras.optimizers.Adam(),\n",
    "metrics =[\"accuracy\"])\n",
    "\n",
    "non_norm_history = model.fit(\n",
    "    train_data,train_labels,epochs=10,validation_data = (test_data,test_labels)\n",
    ")"
   ]
  },
  {
   "cell_type": "code",
   "execution_count": 115,
   "metadata": {},
   "outputs": [
    {
     "name": "stdout",
     "output_type": "stream",
     "text": [
      "Model: \"sequential_25\"\n",
      "_________________________________________________________________\n",
      " Layer (type)                Output Shape              Param #   \n",
      "=================================================================\n",
      " flatten_2 (Flatten)         (None, 784)               0         \n",
      "                                                                 \n",
      " dense_59 (Dense)            (None, 4)                 3140      \n",
      "                                                                 \n",
      " dense_60 (Dense)            (None, 4)                 20        \n",
      "                                                                 \n",
      " dense_61 (Dense)            (None, 10)                50        \n",
      "                                                                 \n",
      "=================================================================\n",
      "Total params: 3,210\n",
      "Trainable params: 3,210\n",
      "Non-trainable params: 0\n",
      "_________________________________________________________________\n"
     ]
    }
   ],
   "source": [
    "model.summary()"
   ]
  },
  {
   "cell_type": "code",
   "execution_count": 118,
   "metadata": {},
   "outputs": [
    {
     "data": {
      "text/plain": [
       "(0, 255)"
      ]
     },
     "execution_count": 118,
     "metadata": {},
     "output_type": "execute_result"
    }
   ],
   "source": [
    "# Normalizing our data\n",
    "train_data.min(),train_data.max()"
   ]
  },
  {
   "cell_type": "code",
   "execution_count": 119,
   "metadata": {},
   "outputs": [],
   "source": [
    "train_data_norm = train_data/255\n",
    "test_data_norm = test_data/255"
   ]
  },
  {
   "cell_type": "code",
   "execution_count": 120,
   "metadata": {},
   "outputs": [
    {
     "data": {
      "text/plain": [
       "(0.0, 1.0)"
      ]
     },
     "execution_count": 120,
     "metadata": {},
     "output_type": "execute_result"
    }
   ],
   "source": [
    "train_data_norm.min(),train_data_norm.max()"
   ]
  },
  {
   "cell_type": "code",
   "execution_count": 124,
   "metadata": {},
   "outputs": [
    {
     "name": "stdout",
     "output_type": "stream",
     "text": [
      "Epoch 1/10\n",
      "1875/1875 [==============================] - 10s 5ms/step - loss: 1.0348 - accuracy: 0.6474 - val_loss: 0.6937 - val_accuracy: 0.7617\n",
      "Epoch 2/10\n",
      "1875/1875 [==============================] - 9s 5ms/step - loss: 0.6376 - accuracy: 0.7757 - val_loss: 0.6400 - val_accuracy: 0.7820\n",
      "Epoch 3/10\n",
      "1875/1875 [==============================] - 8s 4ms/step - loss: 0.5942 - accuracy: 0.7914 - val_loss: 0.6247 - val_accuracy: 0.7783\n",
      "Epoch 4/10\n",
      "1875/1875 [==============================] - 8s 4ms/step - loss: 0.5750 - accuracy: 0.7979 - val_loss: 0.6078 - val_accuracy: 0.7881\n",
      "Epoch 5/10\n",
      "1875/1875 [==============================] - 8s 4ms/step - loss: 0.5641 - accuracy: 0.8006 - val_loss: 0.6169 - val_accuracy: 0.7881\n",
      "Epoch 6/10\n",
      "1875/1875 [==============================] - 9s 5ms/step - loss: 0.5544 - accuracy: 0.8043 - val_loss: 0.5855 - val_accuracy: 0.7951\n",
      "Epoch 7/10\n",
      "1875/1875 [==============================] - 9s 5ms/step - loss: 0.5488 - accuracy: 0.8063 - val_loss: 0.6097 - val_accuracy: 0.7836\n",
      "Epoch 8/10\n",
      "1875/1875 [==============================] - 8s 4ms/step - loss: 0.5428 - accuracy: 0.8077 - val_loss: 0.5787 - val_accuracy: 0.7971\n",
      "Epoch 9/10\n",
      "1875/1875 [==============================] - 8s 5ms/step - loss: 0.5373 - accuracy: 0.8097 - val_loss: 0.5698 - val_accuracy: 0.7977\n",
      "Epoch 10/10\n",
      "1875/1875 [==============================] - 9s 5ms/step - loss: 0.5360 - accuracy: 0.8124 - val_loss: 0.5658 - val_accuracy: 0.8014\n"
     ]
    }
   ],
   "source": [
    "tf.random.set_seed(42)\n",
    "\n",
    "model_11 = tf.keras.Sequential([\n",
    "\n",
    "    tf.keras.layers.Flatten(input_shape=(28,28)),\n",
    "    tf.keras.layers.Dense(4,activation=\"relu\"),\n",
    "    tf.keras.layers.Dense(4,activation=\"relu\"),\n",
    "    tf.keras.layers.Dense(10,activation=\"softmax\")\n",
    "])\n",
    "\n",
    "\n",
    "\n",
    "model_11.compile(loss = \"sparse_categorical_crossentropy\",\n",
    "optimizer = \"Adam\",\n",
    "metrics=[\"accuracy\"])\n",
    "\n",
    "\n",
    "norm_history = model_11.fit(train_data_norm,train_labels,epochs=10,validation_data=(test_data_norm,test_labels))"
   ]
  },
  {
   "cell_type": "code",
   "execution_count": 125,
   "metadata": {},
   "outputs": [
    {
     "data": {
      "text/plain": [
       "<AxesSubplot:title={'center':'Normalized Data'}>"
      ]
     },
     "execution_count": 125,
     "metadata": {},
     "output_type": "execute_result"
    },
    {
     "data": {
      "image/png": "[encoded data removed]",
      "text/plain": [
       "<Figure size 432x288 with 1 Axes>"
      ]
     },
     "metadata": {
      "needs_background": "light"
     },
     "output_type": "display_data"
    },
    {
     "data": {
      "image/png": "[encoded data removed]",
      "text/plain": [
       "<Figure size 432x288 with 1 Axes>"
      ]
     },
     "metadata": {
      "needs_background": "light"
     },
     "output_type": "display_data"
    }
   ],
   "source": [
    "pd.DataFrame(non_norm_history.history).plot(title=\"Non Normalized Data\")\n",
    "\n",
    "pd.DataFrame(norm_history.history).plot(title=\"Normalized Data\")"
   ]
  },
  {
   "cell_type": "code",
   "execution_count": 128,
   "metadata": {},
   "outputs": [
    {
     "name": "stdout",
     "output_type": "stream",
     "text": [
      "Epoch 1/40\n",
      "1875/1875 [==============================] - 10s 5ms/step - loss: 1.0348 - accuracy: 0.6474 - val_loss: 0.6937 - val_accuracy: 0.7617 - lr: 0.0010\n",
      "Epoch 2/40\n",
      "1875/1875 [==============================] - 8s 4ms/step - loss: 0.6366 - accuracy: 0.7759 - val_loss: 0.6400 - val_accuracy: 0.7808 - lr: 0.0011\n",
      "Epoch 3/40\n",
      "1875/1875 [==============================] - 7s 4ms/step - loss: 0.5934 - accuracy: 0.7911 - val_loss: 0.6278 - val_accuracy: 0.7770 - lr: 0.0013\n",
      "Epoch 4/40\n",
      "1875/1875 [==============================] - 8s 4ms/step - loss: 0.5749 - accuracy: 0.7969 - val_loss: 0.6122 - val_accuracy: 0.7871 - lr: 0.0014\n",
      "Epoch 5/40\n",
      "1875/1875 [==============================] - 7s 4ms/step - loss: 0.5655 - accuracy: 0.7987 - val_loss: 0.6061 - val_accuracy: 0.7913 - lr: 0.0016\n",
      "Epoch 6/40\n",
      "1875/1875 [==============================] - 9s 5ms/step - loss: 0.5569 - accuracy: 0.8022 - val_loss: 0.5917 - val_accuracy: 0.7940 - lr: 0.0018\n",
      "Epoch 7/40\n",
      "1875/1875 [==============================] - 9s 5ms/step - loss: 0.5542 - accuracy: 0.8036 - val_loss: 0.5898 - val_accuracy: 0.7896 - lr: 0.0020\n",
      "Epoch 8/40\n",
      "1875/1875 [==============================] - 9s 5ms/step - loss: 0.5509 - accuracy: 0.8039 - val_loss: 0.5829 - val_accuracy: 0.7949 - lr: 0.0022\n",
      "Epoch 9/40\n",
      "1875/1875 [==============================] - 9s 5ms/step - loss: 0.5468 - accuracy: 0.8047 - val_loss: 0.6036 - val_accuracy: 0.7833 - lr: 0.0025\n",
      "Epoch 10/40\n",
      "1875/1875 [==============================] - 9s 5ms/step - loss: 0.5478 - accuracy: 0.8058 - val_loss: 0.5736 - val_accuracy: 0.7974 - lr: 0.0028\n",
      "Epoch 11/40\n",
      "1875/1875 [==============================] - 11s 6ms/step - loss: 0.5446 - accuracy: 0.8059 - val_loss: 0.5672 - val_accuracy: 0.8016 - lr: 0.0032\n",
      "Epoch 12/40\n",
      "1875/1875 [==============================] - 10s 5ms/step - loss: 0.5432 - accuracy: 0.8067 - val_loss: 0.5773 - val_accuracy: 0.7950 - lr: 0.0035\n",
      "Epoch 13/40\n",
      "1875/1875 [==============================] - 8s 4ms/step - loss: 0.5425 - accuracy: 0.8056 - val_loss: 0.5775 - val_accuracy: 0.7992 - lr: 0.0040\n",
      "Epoch 14/40\n",
      "1875/1875 [==============================] - 9s 5ms/step - loss: 0.5407 - accuracy: 0.8078 - val_loss: 0.5616 - val_accuracy: 0.8075 - lr: 0.0045\n",
      "Epoch 15/40\n",
      "1875/1875 [==============================] - 8s 4ms/step - loss: 0.5408 - accuracy: 0.8052 - val_loss: 0.5773 - val_accuracy: 0.8039 - lr: 0.0050\n",
      "Epoch 16/40\n",
      "1875/1875 [==============================] - 8s 4ms/step - loss: 0.5437 - accuracy: 0.8058 - val_loss: 0.5682 - val_accuracy: 0.8015 - lr: 0.0056\n",
      "Epoch 17/40\n",
      "1875/1875 [==============================] - 7s 4ms/step - loss: 0.5419 - accuracy: 0.8075 - val_loss: 0.5995 - val_accuracy: 0.7964 - lr: 0.0063\n",
      "Epoch 18/40\n",
      "1875/1875 [==============================] - 9s 5ms/step - loss: 0.5488 - accuracy: 0.8058 - val_loss: 0.5544 - val_accuracy: 0.8087 - lr: 0.0071\n",
      "Epoch 19/40\n",
      "1875/1875 [==============================] - 8s 4ms/step - loss: 0.5506 - accuracy: 0.8042 - val_loss: 0.6068 - val_accuracy: 0.7864 - lr: 0.0079\n",
      "Epoch 20/40\n",
      "1875/1875 [==============================] - 8s 5ms/step - loss: 0.5537 - accuracy: 0.8030 - val_loss: 0.5597 - val_accuracy: 0.8076 - lr: 0.0089\n",
      "Epoch 21/40\n",
      "1875/1875 [==============================] - 9s 5ms/step - loss: 0.5572 - accuracy: 0.8036 - val_loss: 0.5998 - val_accuracy: 0.7934 - lr: 0.0100\n",
      "Epoch 22/40\n",
      "1875/1875 [==============================] - 8s 4ms/step - loss: 0.5615 - accuracy: 0.8013 - val_loss: 0.5756 - val_accuracy: 0.8034 - lr: 0.0112\n",
      "Epoch 23/40\n",
      "1875/1875 [==============================] - 8s 4ms/step - loss: 0.5655 - accuracy: 0.8017 - val_loss: 0.6386 - val_accuracy: 0.7668 - lr: 0.0126\n",
      "Epoch 24/40\n",
      "1875/1875 [==============================] - 9s 5ms/step - loss: 0.5819 - accuracy: 0.7963 - val_loss: 0.6356 - val_accuracy: 0.7869 - lr: 0.0141\n",
      "Epoch 25/40\n",
      "1875/1875 [==============================] - 9s 5ms/step - loss: 0.5810 - accuracy: 0.7977 - val_loss: 0.6481 - val_accuracy: 0.7865 - lr: 0.0158\n",
      "Epoch 26/40\n",
      "1875/1875 [==============================] - 7s 4ms/step - loss: 0.5960 - accuracy: 0.7901 - val_loss: 0.6997 - val_accuracy: 0.7802 - lr: 0.0178\n",
      "Epoch 27/40\n",
      "1875/1875 [==============================] - 8s 4ms/step - loss: 0.6101 - accuracy: 0.7870 - val_loss: 0.6124 - val_accuracy: 0.7917 - lr: 0.0200\n",
      "Epoch 28/40\n",
      "1875/1875 [==============================] - 9s 5ms/step - loss: 0.6178 - accuracy: 0.7846 - val_loss: 0.6137 - val_accuracy: 0.7962 - lr: 0.0224\n",
      "Epoch 29/40\n",
      "1875/1875 [==============================] - 11s 6ms/step - loss: 0.6357 - accuracy: 0.7770 - val_loss: 0.6672 - val_accuracy: 0.7608 - lr: 0.0251\n",
      "Epoch 30/40\n",
      "1875/1875 [==============================] - 10s 5ms/step - loss: 0.6738 - accuracy: 0.7630 - val_loss: 0.7240 - val_accuracy: 0.7372 - lr: 0.0282\n",
      "Epoch 31/40\n",
      "1875/1875 [==============================] - 9s 5ms/step - loss: 0.6805 - accuracy: 0.7621 - val_loss: 0.6839 - val_accuracy: 0.7297 - lr: 0.0316\n",
      "Epoch 32/40\n",
      "1875/1875 [==============================] - 13s 7ms/step - loss: 0.7055 - accuracy: 0.7550 - val_loss: 0.6962 - val_accuracy: 0.7875 - lr: 0.0355\n",
      "Epoch 33/40\n",
      "1875/1875 [==============================] - 10s 5ms/step - loss: 0.7400 - accuracy: 0.7475 - val_loss: 0.8524 - val_accuracy: 0.7581 - lr: 0.0398\n",
      "Epoch 34/40\n",
      "1875/1875 [==============================] - 9s 5ms/step - loss: 0.7742 - accuracy: 0.7369 - val_loss: 0.8388 - val_accuracy: 0.6879 - lr: 0.0447\n",
      "Epoch 35/40\n",
      "1875/1875 [==============================] - 9s 5ms/step - loss: 0.8678 - accuracy: 0.6998 - val_loss: 0.8948 - val_accuracy: 0.6852 - lr: 0.0501\n",
      "Epoch 36/40\n",
      "1875/1875 [==============================] - 8s 4ms/step - loss: 0.8696 - accuracy: 0.6985 - val_loss: 0.9734 - val_accuracy: 0.6326 - lr: 0.0562\n",
      "Epoch 37/40\n",
      "1875/1875 [==============================] - 9s 5ms/step - loss: 0.9165 - accuracy: 0.6815 - val_loss: 0.9134 - val_accuracy: 0.6964 - lr: 0.0631\n",
      "Epoch 38/40\n",
      "1875/1875 [==============================] - 10s 5ms/step - loss: 1.0524 - accuracy: 0.6183 - val_loss: 1.0320 - val_accuracy: 0.6023 - lr: 0.0708\n",
      "Epoch 39/40\n",
      "1875/1875 [==============================] - 9s 5ms/step - loss: 1.1285 - accuracy: 0.5825 - val_loss: 1.2046 - val_accuracy: 0.4996 - lr: 0.0794\n",
      "Epoch 40/40\n",
      "1875/1875 [==============================] - 9s 5ms/step - loss: 1.7990 - accuracy: 0.2776 - val_loss: 1.9500 - val_accuracy: 0.2026 - lr: 0.0891\n"
     ]
    }
   ],
   "source": [
    "# Finding ideal learning rate\n",
    "from tensorflow.keras.callbacks import LearningRateScheduler\n",
    "\n",
    "tf.random.set_seed(42)\n",
    "\n",
    "model_12 = tf.keras.Sequential([\n",
    "\n",
    "    tf.keras.layers.Flatten(input_shape=(28,28)),\n",
    "    tf.keras.layers.Dense(4,activation=\"relu\"),\n",
    "    tf.keras.layers.Dense(4,activation=\"relu\"),\n",
    "    tf.keras.layers.Dense(10,activation=\"softmax\")\n",
    "])\n",
    "\n",
    "\n",
    "model_12.compile(loss = \"sparse_categorical_crossentropy\",\n",
    "optimizer = \"Adam\",\n",
    "metrics = [\"accuracy\"])\n",
    "\n",
    "\n",
    "lr_scheduler = LearningRateScheduler(lambda epoch : 1e-3 * 10**(epoch/20))\n",
    "\n",
    "\n",
    "history_12 = model_12.fit(train_data_norm,train_labels,epochs=40,validation_data=(test_data_norm,test_labels),callbacks=[lr_scheduler])\n",
    "\n"
   ]
  },
  {
   "cell_type": "code",
   "execution_count": 131,
   "metadata": {},
   "outputs": [
    {
     "data": {
      "text/plain": [
       "Text(0.5, 1.0, 'Leraning Rate')"
      ]
     },
     "execution_count": 131,
     "metadata": {},
     "output_type": "execute_result"
    },
    {
     "data": {
      "image/png": "[encoded data removed]",
      "text/plain": [
       "<Figure size 432x288 with 1 Axes>"
      ]
     },
     "metadata": {
      "needs_background": "light"
     },
     "output_type": "display_data"
    }
   ],
   "source": [
    "#Plotting loss curve\n",
    "\n",
    "\n",
    "# pd.DataFrame(history_12.history).plot();\n",
    "\n",
    "lrs =1e-3 * (10 ** (tf.range(40)/20))\n",
    "plt.semilogx(lrs,history_12.history[\"loss\"])\n",
    "plt.title(\"Leraning Rate\")"
   ]
  },
  {
   "cell_type": "code",
   "execution_count": 132,
   "metadata": {},
   "outputs": [
    {
     "data": {
      "text/plain": [
       "0.001"
      ]
     },
     "execution_count": 132,
     "metadata": {},
     "output_type": "execute_result"
    }
   ],
   "source": [
    "10**-3"
   ]
  },
  {
   "cell_type": "code",
   "execution_count": 134,
   "metadata": {},
   "outputs": [
    {
     "name": "stdout",
     "output_type": "stream",
     "text": [
      "Epoch 1/20\n",
      "1875/1875 [==============================] - 10s 5ms/step - loss: 1.0348 - accuracy: 0.6474 - val_loss: 0.6937 - val_accuracy: 0.7617\n",
      "Epoch 2/20\n",
      "1875/1875 [==============================] - 9s 5ms/step - loss: 0.6376 - accuracy: 0.7757 - val_loss: 0.6400 - val_accuracy: 0.7820\n",
      "Epoch 3/20\n",
      "1875/1875 [==============================] - 8s 4ms/step - loss: 0.5942 - accuracy: 0.7914 - val_loss: 0.6247 - val_accuracy: 0.7783\n",
      "Epoch 4/20\n",
      "1875/1875 [==============================] - 7s 4ms/step - loss: 0.5750 - accuracy: 0.7979 - val_loss: 0.6078 - val_accuracy: 0.7881\n",
      "Epoch 5/20\n",
      "1875/1875 [==============================] - 7s 4ms/step - loss: 0.5641 - accuracy: 0.8006 - val_loss: 0.6169 - val_accuracy: 0.7881\n",
      "Epoch 6/20\n",
      "1875/1875 [==============================] - 7s 4ms/step - loss: 0.5544 - accuracy: 0.8043 - val_loss: 0.5855 - val_accuracy: 0.7951\n",
      "Epoch 7/20\n",
      "1875/1875 [==============================] - 7s 4ms/step - loss: 0.5488 - accuracy: 0.8063 - val_loss: 0.6097 - val_accuracy: 0.7836\n",
      "Epoch 8/20\n",
      "1875/1875 [==============================] - 7s 4ms/step - loss: 0.5428 - accuracy: 0.8077 - val_loss: 0.5787 - val_accuracy: 0.7971\n",
      "Epoch 9/20\n",
      "1875/1875 [==============================] - 7s 4ms/step - loss: 0.5373 - accuracy: 0.8097 - val_loss: 0.5698 - val_accuracy: 0.7977\n",
      "Epoch 10/20\n",
      "1875/1875 [==============================] - 7s 4ms/step - loss: 0.5360 - accuracy: 0.8124 - val_loss: 0.5658 - val_accuracy: 0.8014\n",
      "Epoch 11/20\n",
      "1875/1875 [==============================] - 7s 4ms/step - loss: 0.5311 - accuracy: 0.8130 - val_loss: 0.5714 - val_accuracy: 0.8002\n",
      "Epoch 12/20\n",
      "1875/1875 [==============================] - 7s 4ms/step - loss: 0.5284 - accuracy: 0.8132 - val_loss: 0.5626 - val_accuracy: 0.8027\n",
      "Epoch 13/20\n",
      "1875/1875 [==============================] - 8s 4ms/step - loss: 0.5271 - accuracy: 0.8138 - val_loss: 0.5619 - val_accuracy: 0.8041\n",
      "Epoch 14/20\n",
      "1875/1875 [==============================] - 10s 5ms/step - loss: 0.5249 - accuracy: 0.8143 - val_loss: 0.5718 - val_accuracy: 0.7991\n",
      "Epoch 15/20\n",
      "1875/1875 [==============================] - 8s 4ms/step - loss: 0.5231 - accuracy: 0.8148 - val_loss: 0.5706 - val_accuracy: 0.8024\n",
      "Epoch 16/20\n",
      "1875/1875 [==============================] - 9s 5ms/step - loss: 0.5203 - accuracy: 0.8162 - val_loss: 0.5731 - val_accuracy: 0.8023\n",
      "Epoch 17/20\n",
      "1875/1875 [==============================] - 8s 4ms/step - loss: 0.5191 - accuracy: 0.8176 - val_loss: 0.5594 - val_accuracy: 0.8030\n",
      "Epoch 18/20\n",
      "1875/1875 [==============================] - 7s 4ms/step - loss: 0.5176 - accuracy: 0.8157 - val_loss: 0.5582 - val_accuracy: 0.8053\n",
      "Epoch 19/20\n",
      "1875/1875 [==============================] - 7s 4ms/step - loss: 0.5156 - accuracy: 0.8169 - val_loss: 0.5644 - val_accuracy: 0.8007\n",
      "Epoch 20/20\n",
      "1875/1875 [==============================] - 7s 4ms/step - loss: 0.5146 - accuracy: 0.8177 - val_loss: 0.5660 - val_accuracy: 0.8075\n"
     ]
    }
   ],
   "source": [
    "# Refitting the model with ideal learning rate\n",
    "\n",
    "tf.random.set_seed(42)\n",
    "\n",
    "model_13 = tf.keras.Sequential([\n",
    "\n",
    "    tf.keras.layers.Flatten(input_shape=(28,28)),\n",
    "    tf.keras.layers.Dense(4,activation=\"relu\"),\n",
    "    tf.keras.layers.Dense(4,activation=\"relu\"),\n",
    "    tf.keras.layers.Dense(10,activation=\"softmax\")\n",
    "])\n",
    "\n",
    "model_13.compile(loss = \"sparse_categorical_crossentropy\",\n",
    "optimizer = tf.keras.optimizers.Adam(learning_rate=0.001),\n",
    "metrics = [\"accuracy\"])\n",
    "\n",
    "\n",
    "history_13 = model_13.fit(train_data_norm,train_labels,validation_data=(test_data_norm,test_labels),epochs=20)"
   ]
  },
  {
   "cell_type": "markdown",
   "metadata": {},
   "source": [
    "#### Evaluate a model"
   ]
  },
  {
   "cell_type": "code",
   "execution_count": 146,
   "metadata": {},
   "outputs": [
    {
     "data": {
      "text/plain": [
       "array([9, 2, 1, ..., 8, 1, 5], dtype=uint8)"
      ]
     },
     "execution_count": 146,
     "metadata": {},
     "output_type": "execute_result"
    }
   ],
   "source": [
    "test_labels"
   ]
  },
  {
   "cell_type": "code",
   "execution_count": 143,
   "metadata": {},
   "outputs": [
    {
     "name": "stdout",
     "output_type": "stream",
     "text": [
      "313/313 [==============================] - 1s 3ms/step\n"
     ]
    }
   ],
   "source": [
    "y_probs = model_13.predict(test_data_norm)"
   ]
  },
  {
   "cell_type": "code",
   "execution_count": 144,
   "metadata": {},
   "outputs": [
    {
     "data": {
      "text/plain": [
       "array([[8.56301696e-11, 3.53619803e-13, 2.66338648e-05, ...,\n",
       "        9.18686166e-02, 4.06051567e-03, 8.07873905e-01],\n",
       "       [3.42785506e-06, 1.28992146e-16, 9.59891379e-01, ...,\n",
       "        1.13836218e-28, 6.32717682e-04, 4.47898074e-08],\n",
       "       [6.10628340e-05, 9.96576846e-01, 4.38673133e-08, ...,\n",
       "        7.32374713e-18, 5.48116148e-08, 4.92259974e-14],\n",
       "       ...,\n",
       "       [7.85796121e-02, 2.22948402e-05, 1.40333891e-01, ...,\n",
       "        2.95333884e-20, 1.11972049e-01, 4.76002082e-09],\n",
       "       [3.31108313e-05, 9.93013084e-01, 2.33922890e-07, ...,\n",
       "        9.39847175e-15, 8.15923102e-07, 1.21589735e-11],\n",
       "       [7.98162390e-08, 7.75788600e-10, 1.64706682e-04, ...,\n",
       "        4.38264273e-02, 1.51625415e-03, 3.91206145e-02]], dtype=float32)"
      ]
     },
     "execution_count": 144,
     "metadata": {},
     "output_type": "execute_result"
    }
   ],
   "source": [
    "y_probs"
   ]
  },
  {
   "cell_type": "code",
   "execution_count": 153,
   "metadata": {},
   "outputs": [
    {
     "data": {
      "image/png": "[encoded data removed]",
      "text/plain": [
       "<Figure size 1080x1080 with 2 Axes>"
      ]
     },
     "metadata": {
      "needs_background": "light"
     },
     "output_type": "display_data"
    }
   ],
   "source": [
    "# Note: The following confusion matrix code is a remix of Scikit-Learn's \n",
    "# plot_confusion_matrix function - https://scikit-learn.org/stable/modules/generated/sklearn.metrics.plot_confusion_matrix.html\n",
    "# and Made with ML's introductory notebook - https://github.com/GokuMohandas/MadeWithML/blob/main/notebooks/08_Neural_Networks.ipynb \n",
    "import itertools\n",
    "\n",
    "figsize = (15, 15)\n",
    "\n",
    "# Create the confusion matrix\n",
    "cm = confusion_matrix(test_labels, y_probs.argmax(axis=1))\n",
    "cm_norm = cm.astype(\"float\") / cm.sum(axis=1)[:, np.newaxis] # normalize it\n",
    "n_classes = cm.shape[0]\n",
    "\n",
    "# Let's prettify it\n",
    "fig, ax = plt.subplots(figsize=figsize)\n",
    "# Create a matrix plot\n",
    "cax = ax.matshow(cm, cmap=plt.cm.Blues) # https://matplotlib.org/3.2.0/api/_as_gen/matplotlib.axes.Axes.matshow.html\n",
    "fig.colorbar(cax)\n",
    "\n",
    "# Create classes\n",
    "classes = class_names\n",
    "\n",
    "if classes:\n",
    "  labels = classes\n",
    "else:\n",
    "  labels = np.arange(cm.shape[0])\n",
    "\n",
    "# Label the axes\n",
    "ax.set(title=\"Confusion Matrix\",\n",
    "       xlabel=\"Predicted label\",\n",
    "       ylabel=\"True label\",\n",
    "       xticks=np.arange(n_classes),\n",
    "       yticks=np.arange(n_classes),\n",
    "       xticklabels=labels,\n",
    "       yticklabels=labels)\n",
    "\n",
    "# Set x-axis labels to bottom\n",
    "ax.xaxis.set_label_position(\"bottom\")\n",
    "ax.xaxis.tick_bottom()\n",
    "\n",
    "# Adjust label size\n",
    "ax.xaxis.label.set_size(20)\n",
    "ax.yaxis.label.set_size(20)\n",
    "ax.title.set_size(20)\n",
    "\n",
    "# Set threshold for different colors\n",
    "threshold = (cm.max() + cm.min()) / 2.\n",
    "\n",
    "# Plot the text on each cell\n",
    "for i, j in itertools.product(range(cm.shape[0]), range(cm.shape[1])):\n",
    "  plt.text(j, i, f\"{cm[i, j]} ({cm_norm[i, j]*100:.1f}%)\",\n",
    "           horizontalalignment=\"center\",\n",
    "           color=\"white\" if cm[i, j] > threshold else \"black\",\n",
    "           size=10)"
   ]
  },
  {
   "cell_type": "code",
   "execution_count": 169,
   "metadata": {},
   "outputs": [],
   "source": [
    "import random\n",
    "\n",
    "# Create a function for plotting a random image along with its prediction\n",
    "def plot_random_image(model, images, true_labels, classes):\n",
    "\n",
    "  i = random.randint(0, len(images))\n",
    "  \n",
    "  # Create predictions and targets\n",
    "  target_image = images[i]\n",
    "  \n",
    "  pred_probs = model.predict(target_image.reshape(1,28,28)) # have to reshape to get into right size for model\n",
    "  pred_label = classes[pred_probs.argmax()]\n",
    "  true_label = classes[true_labels[i]]\n",
    "\n",
    "  # Plot the target image\n",
    "  plt.imshow(target_image, cmap=plt.cm.binary)\n",
    "\n",
    "  # Change the color of the titles depending on if the prediction is right or wrong\n",
    "  if pred_label == true_label:\n",
    "    color = \"green\"\n",
    "  else:\n",
    "    color = \"red\"\n",
    "\n",
    "  # Add xlabel information (prediction/true label)\n",
    "  plt.xlabel(\"Pred: {} {:2.0f}% (True: {})\".format(pred_label,\n",
    "                                                   100*tf.reduce_max(pred_probs),\n",
    "                                                   true_label),\n",
    "             color=color) # set the color to green or red"
   ]
  },
  {
   "cell_type": "code",
   "execution_count": 170,
   "metadata": {},
   "outputs": [
    {
     "name": "stdout",
     "output_type": "stream",
     "text": [
      "1/1 [==============================] - 0s 26ms/step\n"
     ]
    },
    {
     "data": {
      "image/png": "[encoded data removed]",
      "text/plain": [
       "<Figure size 432x288 with 1 Axes>"
      ]
     },
     "metadata": {
      "needs_background": "light"
     },
     "output_type": "display_data"
    }
   ],
   "source": [
    "plot_random_image(model=model_13, \n",
    "                  images=test_data, \n",
    "                  true_labels=test_labels, \n",
    "                  classes=class_names)"
   ]
  },
  {
   "cell_type": "code",
   "execution_count": 171,
   "metadata": {},
   "outputs": [
    {
     "data": {
      "text/plain": [
       "array([[  0,   0,   0,   0,   0,   0,   0,   0,   0,   0,   0,   0,   0,\n",
       "          0,   0,   0,   0,   0,   0,   0,   0,   0,   0,   0,   0,   0,\n",
       "          0,   0],\n",
       "       [  0,   0,   0,   0,   0,   0,   0,   0,   0,   0,   0,   0,   0,\n",
       "          0,   0,   0,   0,   0,   0,   0,   0,   0,   0,   0,   0,   0,\n",
       "          0,   0],\n",
       "       [  0,   0,   0,   0,   0,   0,   0,   0,   0,   0,   0,   0,   0,\n",
       "          0,   0,   0,   0,   0,   0,   0,   0,   0,   0,   0,   0,   0,\n",
       "          0,   0],\n",
       "       [  0,   0,   0,   0,   0,   0,   0,   0,   0,   0,   0,   0,   0,\n",
       "          0,   0,   0,   0,   0,   0,   0,   0,   0,   0,   0,   0,   0,\n",
       "          0,   0],\n",
       "       [  0,   0,   0,   0,   0,   0,   0,   0,   0,   0,   0,   0,   0,\n",
       "          0,   0,   0,   0,   0,   0,   0,   0,   0,   0,   0,   0,   0,\n",
       "          0,   0],\n",
       "       [  0,   0,   0,   0,   0,   0,   0,   0,   0,   0,   0,   0,   0,\n",
       "          0,   0,   0,   0,   0,   0,   0,   0,   0,   0,   0,   0,   0,\n",
       "          0,   0],\n",
       "       [  0,   0,   0,   0,   0,   0,   0,   0,   0,   0,   0,   0,   0,\n",
       "          0,   0,   0,   0,   0,   0,   0,   0,   0,   0,   0,   0,   0,\n",
       "          0,   0],\n",
       "       [  0,   0,   0,   0,   0,   0,   0,   0,   0,   0,   0,   0,   0,\n",
       "          0,   0,   0,   0,   0,   0,   3,   1,   0,   0,   7,   0,  37,\n",
       "          0,   0],\n",
       "       [  0,   0,   0,   0,   0,   0,   0,   0,   0,   0,   0,   0,   0,\n",
       "          1,   2,   0,  27,  84,  11,   0,   0,   0,   0,   0,   0, 119,\n",
       "          0,   0],\n",
       "       [  0,   0,   0,   0,   0,   0,   0,   0,   0,   0,   0,   0,   0,\n",
       "          1,   0,   0,  88, 143, 110,   0,   0,   0,   0,  22,  93, 106,\n",
       "          0,   0],\n",
       "       [  0,   0,   0,   0,   0,   0,   0,   0,   0,   0,   0,   0,   0,\n",
       "          4,   0,  53, 129, 120, 147, 175, 157, 166, 135, 154, 168, 140,\n",
       "          0,   0],\n",
       "       [  0,   0,   0,   0,   0,   0,   0,   0,   0,   0,   0,   0,   2,\n",
       "          0,  11, 137, 130, 128, 160, 176, 159, 167, 178, 149, 151, 144,\n",
       "          0,   0],\n",
       "       [  0,   0,   0,   0,   0,   0,   1,   0,   2,   1,   0,   3,   0,\n",
       "          0, 115, 114, 106, 137, 168, 153, 156, 165, 167, 143, 157, 158,\n",
       "         11,   0],\n",
       "       [  0,   0,   0,   0,   1,   0,   0,   0,   0,   0,   3,   0,   0,\n",
       "         89, 139,  90,  94, 153, 149, 131, 151, 169, 172, 143, 159, 169,\n",
       "         48,   0],\n",
       "       [  0,   0,   0,   0,   0,   0,   2,   4,   1,   0,   0,   0,  98,\n",
       "        136, 110, 109, 110, 162, 135, 144, 149, 159, 167, 144, 158, 169,\n",
       "        119,   0],\n",
       "       [  0,   0,   2,   2,   1,   2,   0,   0,   0,   0,  26, 108, 117,\n",
       "         99, 111, 117, 136, 156, 134, 154, 154, 156, 160, 141, 147, 156,\n",
       "        178,   0],\n",
       "       [  3,   0,   0,   0,   0,   0,   0,  21,  53,  92, 117, 111, 103,\n",
       "        115, 129, 134, 143, 154, 165, 170, 154, 151, 154, 143, 138, 150,\n",
       "        165,  43],\n",
       "       [  0,   0,  23,  54,  65,  76,  85, 118, 128, 123, 111, 113, 118,\n",
       "        127, 125, 139, 133, 136, 160, 140, 155, 161, 144, 155, 172, 161,\n",
       "        189,  62],\n",
       "       [  0,  68,  94,  90, 111, 114, 111, 114, 115, 127, 135, 136, 143,\n",
       "        126, 127, 151, 154, 143, 148, 125, 162, 162, 144, 138, 153, 162,\n",
       "        196,  58],\n",
       "       [ 70, 169, 129, 104,  98, 100,  94,  97,  98, 102, 108, 106, 119,\n",
       "        120, 129, 149, 156, 167, 190, 190, 196, 198, 198, 187, 197, 189,\n",
       "        184,  36],\n",
       "       [ 16, 126, 171, 188, 188, 184, 171, 153, 135, 120, 126, 127, 146,\n",
       "        185, 195, 209, 208, 255, 209, 177, 245, 252, 251, 251, 247, 220,\n",
       "        206,  49],\n",
       "       [  0,   0,   0,  12,  67, 106, 164, 185, 199, 210, 211, 210, 208,\n",
       "        190, 150,  82,   8,   0,   0,   0, 178, 208, 188, 175, 162, 158,\n",
       "        151,  11],\n",
       "       [  0,   0,   0,   0,   0,   0,   0,   0,   0,   0,   0,   0,   0,\n",
       "          0,   0,   0,   0,   0,   0,   0,   0,   0,   0,   0,   0,   0,\n",
       "          0,   0],\n",
       "       [  0,   0,   0,   0,   0,   0,   0,   0,   0,   0,   0,   0,   0,\n",
       "          0,   0,   0,   0,   0,   0,   0,   0,   0,   0,   0,   0,   0,\n",
       "          0,   0],\n",
       "       [  0,   0,   0,   0,   0,   0,   0,   0,   0,   0,   0,   0,   0,\n",
       "          0,   0,   0,   0,   0,   0,   0,   0,   0,   0,   0,   0,   0,\n",
       "          0,   0],\n",
       "       [  0,   0,   0,   0,   0,   0,   0,   0,   0,   0,   0,   0,   0,\n",
       "          0,   0,   0,   0,   0,   0,   0,   0,   0,   0,   0,   0,   0,\n",
       "          0,   0],\n",
       "       [  0,   0,   0,   0,   0,   0,   0,   0,   0,   0,   0,   0,   0,\n",
       "          0,   0,   0,   0,   0,   0,   0,   0,   0,   0,   0,   0,   0,\n",
       "          0,   0],\n",
       "       [  0,   0,   0,   0,   0,   0,   0,   0,   0,   0,   0,   0,   0,\n",
       "          0,   0,   0,   0,   0,   0,   0,   0,   0,   0,   0,   0,   0,\n",
       "          0,   0]], dtype=uint8)"
      ]
     },
     "execution_count": 171,
     "metadata": {},
     "output_type": "execute_result"
    }
   ],
   "source": []
  },
  {
   "cell_type": "code",
   "execution_count": 172,
   "metadata": {},
   "outputs": [
    {
     "data": {
      "text/plain": [
       "array([[[  0,   0,   0,   0,   0,   0,   0,   0,   0,   0,   0,   0,\n",
       "           0,   0,   0,   0,   0,   0,   0,   0,   0,   0,   0,   0,\n",
       "           0,   0,   0,   0],\n",
       "        [  0,   0,   0,   0,   0,   0,   0,   0,   0,   0,   0,   0,\n",
       "           0,   0,   0,   0,   0,   0,   0,   0,   0,   0,   0,   0,\n",
       "           0,   0,   0,   0],\n",
       "        [  0,   0,   0,   0,   0,   0,   0,   0,   0,   0,   0,   0,\n",
       "           0,   0,   0,   0,   0,   0,   0,   0,   0,   0,   0,   0,\n",
       "           0,   0,   0,   0],\n",
       "        [  0,   0,   0,   0,   0,   0,   0,   0,   0,   0,   0,   0,\n",
       "           0,   0,   0,   0,   0,   0,   0,   0,   0,   0,   0,   0,\n",
       "           0,   0,   0,   0],\n",
       "        [  0,   0,   0,   0,   0,   0,   0,   0,   0,   0,   0,   0,\n",
       "           0,   0,   0,   0,   0,   0,   0,   0,   0,   0,   0,   0,\n",
       "           0,   0,   0,   0],\n",
       "        [  0,   0,   0,   0,   0,   0,   0,   0,   0,   0,   0,   0,\n",
       "           0,   0,   0,   0,   0,   0,   0,   0,   0,   0,   0,   0,\n",
       "           0,   0,   0,   0],\n",
       "        [  0,   0,   0,   0,   0,   0,   0,   0,   0,   0,   0,   0,\n",
       "           0,   0,   0,   0,   0,   0,   0,   0,   0,   0,   0,   0,\n",
       "           0,   0,   0,   0],\n",
       "        [  0,   0,   0,   0,   0,   0,   0,   0,   0,   0,   0,   0,\n",
       "           0,   0,   0,   0,   0,   0,   0,   3,   1,   0,   0,   7,\n",
       "           0,  37,   0,   0],\n",
       "        [  0,   0,   0,   0,   0,   0,   0,   0,   0,   0,   0,   0,\n",
       "           0,   1,   2,   0,  27,  84,  11,   0,   0,   0,   0,   0,\n",
       "           0, 119,   0,   0],\n",
       "        [  0,   0,   0,   0,   0,   0,   0,   0,   0,   0,   0,   0,\n",
       "           0,   1,   0,   0,  88, 143, 110,   0,   0,   0,   0,  22,\n",
       "          93, 106,   0,   0],\n",
       "        [  0,   0,   0,   0,   0,   0,   0,   0,   0,   0,   0,   0,\n",
       "           0,   4,   0,  53, 129, 120, 147, 175, 157, 166, 135, 154,\n",
       "         168, 140,   0,   0],\n",
       "        [  0,   0,   0,   0,   0,   0,   0,   0,   0,   0,   0,   0,\n",
       "           2,   0,  11, 137, 130, 128, 160, 176, 159, 167, 178, 149,\n",
       "         151, 144,   0,   0],\n",
       "        [  0,   0,   0,   0,   0,   0,   1,   0,   2,   1,   0,   3,\n",
       "           0,   0, 115, 114, 106, 137, 168, 153, 156, 165, 167, 143,\n",
       "         157, 158,  11,   0],\n",
       "        [  0,   0,   0,   0,   1,   0,   0,   0,   0,   0,   3,   0,\n",
       "           0,  89, 139,  90,  94, 153, 149, 131, 151, 169, 172, 143,\n",
       "         159, 169,  48,   0],\n",
       "        [  0,   0,   0,   0,   0,   0,   2,   4,   1,   0,   0,   0,\n",
       "          98, 136, 110, 109, 110, 162, 135, 144, 149, 159, 167, 144,\n",
       "         158, 169, 119,   0],\n",
       "        [  0,   0,   2,   2,   1,   2,   0,   0,   0,   0,  26, 108,\n",
       "         117,  99, 111, 117, 136, 156, 134, 154, 154, 156, 160, 141,\n",
       "         147, 156, 178,   0],\n",
       "        [  3,   0,   0,   0,   0,   0,   0,  21,  53,  92, 117, 111,\n",
       "         103, 115, 129, 134, 143, 154, 165, 170, 154, 151, 154, 143,\n",
       "         138, 150, 165,  43],\n",
       "        [  0,   0,  23,  54,  65,  76,  85, 118, 128, 123, 111, 113,\n",
       "         118, 127, 125, 139, 133, 136, 160, 140, 155, 161, 144, 155,\n",
       "         172, 161, 189,  62],\n",
       "        [  0,  68,  94,  90, 111, 114, 111, 114, 115, 127, 135, 136,\n",
       "         143, 126, 127, 151, 154, 143, 148, 125, 162, 162, 144, 138,\n",
       "         153, 162, 196,  58],\n",
       "        [ 70, 169, 129, 104,  98, 100,  94,  97,  98, 102, 108, 106,\n",
       "         119, 120, 129, 149, 156, 167, 190, 190, 196, 198, 198, 187,\n",
       "         197, 189, 184,  36],\n",
       "        [ 16, 126, 171, 188, 188, 184, 171, 153, 135, 120, 126, 127,\n",
       "         146, 185, 195, 209, 208, 255, 209, 177, 245, 252, 251, 251,\n",
       "         247, 220, 206,  49],\n",
       "        [  0,   0,   0,  12,  67, 106, 164, 185, 199, 210, 211, 210,\n",
       "         208, 190, 150,  82,   8,   0,   0,   0, 178, 208, 188, 175,\n",
       "         162, 158, 151,  11],\n",
       "        [  0,   0,   0,   0,   0,   0,   0,   0,   0,   0,   0,   0,\n",
       "           0,   0,   0,   0,   0,   0,   0,   0,   0,   0,   0,   0,\n",
       "           0,   0,   0,   0],\n",
       "        [  0,   0,   0,   0,   0,   0,   0,   0,   0,   0,   0,   0,\n",
       "           0,   0,   0,   0,   0,   0,   0,   0,   0,   0,   0,   0,\n",
       "           0,   0,   0,   0],\n",
       "        [  0,   0,   0,   0,   0,   0,   0,   0,   0,   0,   0,   0,\n",
       "           0,   0,   0,   0,   0,   0,   0,   0,   0,   0,   0,   0,\n",
       "           0,   0,   0,   0],\n",
       "        [  0,   0,   0,   0,   0,   0,   0,   0,   0,   0,   0,   0,\n",
       "           0,   0,   0,   0,   0,   0,   0,   0,   0,   0,   0,   0,\n",
       "           0,   0,   0,   0],\n",
       "        [  0,   0,   0,   0,   0,   0,   0,   0,   0,   0,   0,   0,\n",
       "           0,   0,   0,   0,   0,   0,   0,   0,   0,   0,   0,   0,\n",
       "           0,   0,   0,   0],\n",
       "        [  0,   0,   0,   0,   0,   0,   0,   0,   0,   0,   0,   0,\n",
       "           0,   0,   0,   0,   0,   0,   0,   0,   0,   0,   0,   0,\n",
       "           0,   0,   0,   0]]], dtype=uint8)"
      ]
     },
     "execution_count": 172,
     "metadata": {},
     "output_type": "execute_result"
    }
   ],
   "source": [
    "test_data[0].reshape(1,28,28)"
   ]
  },
  {
   "cell_type": "code",
   "execution_count": null,
   "metadata": {},
   "outputs": [],
   "source": []
  }
 ],
 "metadata": {
  "kernelspec": {
   "display_name": "Python 3.10.0 64-bit",
   "language": "python",
   "name": "python3"
  },
  "language_info": {
   "codemirror_mode": {
    "name": "ipython",
    "version": 3
   },
   "file_extension": ".py",
   "mimetype": "text/x-python",
   "name": "python",
   "nbconvert_exporter": "python",
   "pygments_lexer": "ipython3",
   "version": "3.10.0"
  },
  "orig_nbformat": 4,
  "vscode": {
   "interpreter": {
    "hash": "a42ccb73e7d9bfdf27e036f1d2b8b681e55fc0743cc5586bc2474d4a60f4b886"
   }
  }
 },
 "nbformat": 4,
 "nbformat_minor": 2
}

{
 "cells": [
  {
   "cell_type": "code",
   "execution_count": 1,
   "metadata": {},
   "outputs": [],
   "source": [
    "import tensorflow as tf"
   ]
  },
  {
   "cell_type": "code",
   "execution_count": 2,
   "metadata": {},
   "outputs": [],
   "source": [
    "import numpy as np\n",
    "import matplotlib.pyplot as plt"
   ]
  },
  {
   "cell_type": "code",
   "execution_count": 3,
   "metadata": {},
   "outputs": [],
   "source": [
    "# Create features\n",
    "\n",
    "x = np.array([-7.0,-4.0,-1.0,2.0,5.0,8.0,11.0,14.0])\n",
    "\n",
    "\n",
    "# Create labels\n",
    "\n",
    "y = np.array([3.0,6.0,9.0,12.0,15.0,18.0,21.0,24.0])"
   ]
  },
  {
   "cell_type": "code",
   "execution_count": 4,
   "metadata": {},
   "outputs": [
    {
     "data": {
      "text/plain": [
       "<matplotlib.collections.PathCollection at 0x26bacec7040>"
      ]
     },
     "execution_count": 4,
     "metadata": {},
     "output_type": "execute_result"
    },
    {
     "data": {
      "image/png": "[encoded data removed]",
      "text/plain": [
       "<Figure size 432x288 with 1 Axes>"
      ]
     },
     "metadata": {
      "needs_background": "light"
     },
     "output_type": "display_data"
    }
   ],
   "source": [
    "# Visualize \n",
    "\n",
    "plt.scatter(x,y)"
   ]
  },
  {
   "cell_type": "code",
   "execution_count": 5,
   "metadata": {},
   "outputs": [
    {
     "data": {
      "text/plain": [
       "array([ True,  True,  True,  True,  True,  True,  True,  True])"
      ]
     },
     "execution_count": 5,
     "metadata": {},
     "output_type": "execute_result"
    }
   ],
   "source": [
    "y==x+10"
   ]
  },
  {
   "cell_type": "markdown",
   "metadata": {},
   "source": [
    "### Input and output shapes"
   ]
  },
  {
   "cell_type": "code",
   "execution_count": 7,
   "metadata": {},
   "outputs": [
    {
     "data": {
      "text/plain": [
       "(<tf.Tensor: shape=(1,), dtype=int32, numpy=array([939700])>,\n",
       " <tf.Tensor: shape=(3,), dtype=string, numpy=array([b'bedroom', b'bathroom', b'garage'], dtype=object)>)"
      ]
     },
     "execution_count": 7,
     "metadata": {},
     "output_type": "execute_result"
    }
   ],
   "source": [
    "# Create a demo tensor for our housing project\n",
    "\n",
    "house_info = tf.constant([\"bedroom\",\"bathroom\",\"garage\"])\n",
    "\n",
    "house_price = tf.constant([939700])\n",
    "\n",
    "house_price,house_info"
   ]
  },
  {
   "cell_type": "code",
   "execution_count": 8,
   "metadata": {},
   "outputs": [
    {
     "data": {
      "text/plain": [
       "((8,), (8,))"
      ]
     },
     "execution_count": 8,
     "metadata": {},
     "output_type": "execute_result"
    }
   ],
   "source": [
    "input_shape = x.shape\n",
    "\n",
    "output_shape = y.shape\n",
    "\n",
    "input_shape,output_shape"
   ]
  },
  {
   "cell_type": "code",
   "execution_count": 9,
   "metadata": {},
   "outputs": [],
   "source": [
    "x = tf.constant(x)\n",
    "y = tf.constant(y)"
   ]
  },
  {
   "cell_type": "code",
   "execution_count": 56,
   "metadata": {},
   "outputs": [
    {
     "name": "stdout",
     "output_type": "stream",
     "text": [
      "Epoch 1/135\n",
      "1/1 [==============================] - 1s 612ms/step - loss: 13.0472 - mae: 13.0472\n",
      "Epoch 2/135\n",
      "1/1 [==============================] - 0s 6ms/step - loss: 12.0616 - mae: 12.0616\n",
      "Epoch 3/135\n",
      "1/1 [==============================] - 0s 9ms/step - loss: 11.0659 - mae: 11.0659\n",
      "Epoch 4/135\n",
      "1/1 [==============================] - 0s 8ms/step - loss: 10.0558 - mae: 10.0558\n",
      "Epoch 5/135\n",
      "1/1 [==============================] - 0s 8ms/step - loss: 9.0255 - mae: 9.0255\n",
      "Epoch 6/135\n",
      "1/1 [==============================] - 0s 10ms/step - loss: 7.9690 - mae: 7.9690\n",
      "Epoch 7/135\n",
      "1/1 [==============================] - 0s 8ms/step - loss: 6.8800 - mae: 6.8800\n",
      "Epoch 8/135\n",
      "1/1 [==============================] - 0s 9ms/step - loss: 6.9895 - mae: 6.9895\n",
      "Epoch 9/135\n",
      "1/1 [==============================] - 0s 9ms/step - loss: 7.4368 - mae: 7.4368\n",
      "Epoch 10/135\n",
      "1/1 [==============================] - 0s 10ms/step - loss: 7.7723 - mae: 7.7723\n",
      "Epoch 11/135\n",
      "1/1 [==============================] - 0s 10ms/step - loss: 7.7480 - mae: 7.7480\n",
      "Epoch 12/135\n",
      "1/1 [==============================] - 0s 10ms/step - loss: 7.4703 - mae: 7.4703\n",
      "Epoch 13/135\n",
      "1/1 [==============================] - 0s 8ms/step - loss: 7.0160 - mae: 7.0160\n",
      "Epoch 14/135\n",
      "1/1 [==============================] - 0s 9ms/step - loss: 6.6851 - mae: 6.6851\n",
      "Epoch 15/135\n",
      "1/1 [==============================] - 0s 10ms/step - loss: 6.3299 - mae: 6.3299\n",
      "Epoch 16/135\n",
      "1/1 [==============================] - 0s 10ms/step - loss: 6.0519 - mae: 6.0519\n",
      "Epoch 17/135\n",
      "1/1 [==============================] - 0s 11ms/step - loss: 5.9863 - mae: 5.9863\n",
      "Epoch 18/135\n",
      "1/1 [==============================] - 0s 9ms/step - loss: 6.1243 - mae: 6.1243\n",
      "Epoch 19/135\n",
      "1/1 [==============================] - 0s 8ms/step - loss: 6.1821 - mae: 6.1821\n",
      "Epoch 20/135\n",
      "1/1 [==============================] - 0s 8ms/step - loss: 6.0999 - mae: 6.0999\n",
      "Epoch 21/135\n",
      "1/1 [==============================] - 0s 9ms/step - loss: 5.8951 - mae: 5.8951\n",
      "Epoch 22/135\n",
      "1/1 [==============================] - 0s 8ms/step - loss: 5.5795 - mae: 5.5795\n",
      "Epoch 23/135\n",
      "1/1 [==============================] - 0s 8ms/step - loss: 5.3184 - mae: 5.3184\n",
      "Epoch 24/135\n",
      "1/1 [==============================] - 0s 9ms/step - loss: 5.1621 - mae: 5.1621\n",
      "Epoch 25/135\n",
      "1/1 [==============================] - 0s 9ms/step - loss: 5.1738 - mae: 5.1738\n",
      "Epoch 26/135\n",
      "1/1 [==============================] - 0s 12ms/step - loss: 5.1578 - mae: 5.1578\n",
      "Epoch 27/135\n",
      "1/1 [==============================] - 0s 9ms/step - loss: 5.0796 - mae: 5.0796\n",
      "Epoch 28/135\n",
      "1/1 [==============================] - 0s 9ms/step - loss: 4.9433 - mae: 4.9433\n",
      "Epoch 29/135\n",
      "1/1 [==============================] - 0s 9ms/step - loss: 4.7532 - mae: 4.7532\n",
      "Epoch 30/135\n",
      "1/1 [==============================] - 0s 8ms/step - loss: 4.5132 - mae: 4.5132\n",
      "Epoch 31/135\n",
      "1/1 [==============================] - 0s 8ms/step - loss: 4.2267 - mae: 4.2267\n",
      "Epoch 32/135\n",
      "1/1 [==============================] - 0s 7ms/step - loss: 3.9726 - mae: 3.9726\n",
      "Epoch 33/135\n",
      "1/1 [==============================] - 0s 6ms/step - loss: 3.8184 - mae: 3.8184\n",
      "Epoch 34/135\n",
      "1/1 [==============================] - 0s 7ms/step - loss: 3.7919 - mae: 3.7919\n",
      "Epoch 35/135\n",
      "1/1 [==============================] - 0s 7ms/step - loss: 3.6264 - mae: 3.6264\n",
      "Epoch 36/135\n",
      "1/1 [==============================] - 0s 6ms/step - loss: 3.2910 - mae: 3.2910\n",
      "Epoch 37/135\n",
      "1/1 [==============================] - 0s 9ms/step - loss: 2.9581 - mae: 2.9581\n",
      "Epoch 38/135\n",
      "1/1 [==============================] - 0s 7ms/step - loss: 2.8095 - mae: 2.8095\n",
      "Epoch 39/135\n",
      "1/1 [==============================] - 0s 8ms/step - loss: 2.6613 - mae: 2.6613\n",
      "Epoch 40/135\n",
      "1/1 [==============================] - 0s 8ms/step - loss: 2.4517 - mae: 2.4517\n",
      "Epoch 41/135\n",
      "1/1 [==============================] - 0s 7ms/step - loss: 2.0799 - mae: 2.0799\n",
      "Epoch 42/135\n",
      "1/1 [==============================] - 0s 7ms/step - loss: 1.6572 - mae: 1.6572\n",
      "Epoch 43/135\n",
      "1/1 [==============================] - 0s 12ms/step - loss: 1.4899 - mae: 1.4899\n",
      "Epoch 44/135\n",
      "1/1 [==============================] - 0s 9ms/step - loss: 1.3036 - mae: 1.3036\n",
      "Epoch 45/135\n",
      "1/1 [==============================] - 0s 7ms/step - loss: 0.8954 - mae: 0.8954\n",
      "Epoch 46/135\n",
      "1/1 [==============================] - 0s 8ms/step - loss: 0.3535 - mae: 0.3535\n",
      "Epoch 47/135\n",
      "1/1 [==============================] - 0s 8ms/step - loss: 0.3003 - mae: 0.3003\n",
      "Epoch 48/135\n",
      "1/1 [==============================] - 0s 12ms/step - loss: 0.3602 - mae: 0.3602\n",
      "Epoch 49/135\n",
      "1/1 [==============================] - 0s 8ms/step - loss: 0.7635 - mae: 0.7635\n",
      "Epoch 50/135\n",
      "1/1 [==============================] - 0s 9ms/step - loss: 0.8678 - mae: 0.8678\n",
      "Epoch 51/135\n",
      "1/1 [==============================] - 0s 9ms/step - loss: 0.9511 - mae: 0.9511\n",
      "Epoch 52/135\n",
      "1/1 [==============================] - 0s 7ms/step - loss: 1.0215 - mae: 1.0215\n",
      "Epoch 53/135\n",
      "1/1 [==============================] - 0s 6ms/step - loss: 0.9460 - mae: 0.9460\n",
      "Epoch 54/135\n",
      "1/1 [==============================] - 0s 6ms/step - loss: 0.9140 - mae: 0.9140\n",
      "Epoch 55/135\n",
      "1/1 [==============================] - 0s 8ms/step - loss: 0.7729 - mae: 0.7729\n",
      "Epoch 56/135\n",
      "1/1 [==============================] - 0s 6ms/step - loss: 0.7011 - mae: 0.7011\n",
      "Epoch 57/135\n",
      "1/1 [==============================] - 0s 8ms/step - loss: 0.4808 - mae: 0.4808\n",
      "Epoch 58/135\n",
      "1/1 [==============================] - 0s 7ms/step - loss: 0.4121 - mae: 0.4121\n",
      "Epoch 59/135\n",
      "1/1 [==============================] - 0s 6ms/step - loss: 0.2276 - mae: 0.2276\n",
      "Epoch 60/135\n",
      "1/1 [==============================] - 0s 7ms/step - loss: 0.3318 - mae: 0.3318\n",
      "Epoch 61/135\n",
      "1/1 [==============================] - 0s 6ms/step - loss: 0.4661 - mae: 0.4661\n",
      "Epoch 62/135\n",
      "1/1 [==============================] - 0s 8ms/step - loss: 0.4225 - mae: 0.4225\n",
      "Epoch 63/135\n",
      "1/1 [==============================] - 0s 7ms/step - loss: 0.6198 - mae: 0.6198\n",
      "Epoch 64/135\n",
      "1/1 [==============================] - 0s 6ms/step - loss: 0.6028 - mae: 0.6028\n",
      "Epoch 65/135\n",
      "1/1 [==============================] - 0s 8ms/step - loss: 0.4581 - mae: 0.4581\n",
      "Epoch 66/135\n",
      "1/1 [==============================] - 0s 7ms/step - loss: 0.4561 - mae: 0.4561\n",
      "Epoch 67/135\n",
      "1/1 [==============================] - 0s 8ms/step - loss: 0.2972 - mae: 0.2972\n",
      "Epoch 68/135\n",
      "1/1 [==============================] - 0s 7ms/step - loss: 0.2876 - mae: 0.2876\n",
      "Epoch 69/135\n",
      "1/1 [==============================] - 0s 8ms/step - loss: 0.1802 - mae: 0.1802\n",
      "Epoch 70/135\n",
      "1/1 [==============================] - 0s 7ms/step - loss: 0.2769 - mae: 0.2769\n",
      "Epoch 71/135\n",
      "1/1 [==============================] - 0s 7ms/step - loss: 0.4281 - mae: 0.4281\n",
      "Epoch 72/135\n",
      "1/1 [==============================] - 0s 8ms/step - loss: 0.3509 - mae: 0.3509\n",
      "Epoch 73/135\n",
      "1/1 [==============================] - 0s 8ms/step - loss: 0.3655 - mae: 0.3655\n",
      "Epoch 74/135\n",
      "1/1 [==============================] - 0s 7ms/step - loss: 0.3539 - mae: 0.3539\n",
      "Epoch 75/135\n",
      "1/1 [==============================] - 0s 7ms/step - loss: 0.1713 - mae: 0.1713\n",
      "Epoch 76/135\n",
      "1/1 [==============================] - 0s 8ms/step - loss: 0.1073 - mae: 0.1073\n",
      "Epoch 77/135\n",
      "1/1 [==============================] - 0s 11ms/step - loss: 0.1955 - mae: 0.1955\n",
      "Epoch 78/135\n",
      "1/1 [==============================] - 0s 9ms/step - loss: 0.2256 - mae: 0.2256\n",
      "Epoch 79/135\n",
      "1/1 [==============================] - 0s 7ms/step - loss: 0.2566 - mae: 0.2566\n",
      "Epoch 80/135\n",
      "1/1 [==============================] - 0s 9ms/step - loss: 0.2706 - mae: 0.2706\n",
      "Epoch 81/135\n",
      "1/1 [==============================] - 0s 5ms/step - loss: 0.2084 - mae: 0.2084\n",
      "Epoch 82/135\n",
      "1/1 [==============================] - 0s 9ms/step - loss: 0.1657 - mae: 0.1657\n",
      "Epoch 83/135\n",
      "1/1 [==============================] - 0s 10ms/step - loss: 0.0633 - mae: 0.0633\n",
      "Epoch 84/135\n",
      "1/1 [==============================] - 0s 7ms/step - loss: 0.1290 - mae: 0.1290\n",
      "Epoch 85/135\n",
      "1/1 [==============================] - 0s 8ms/step - loss: 0.1521 - mae: 0.1521\n",
      "Epoch 86/135\n",
      "1/1 [==============================] - 0s 9ms/step - loss: 0.1478 - mae: 0.1478\n",
      "Epoch 87/135\n",
      "1/1 [==============================] - 0s 9ms/step - loss: 0.0901 - mae: 0.0901\n",
      "Epoch 88/135\n",
      "1/1 [==============================] - 0s 8ms/step - loss: 0.0814 - mae: 0.0814\n",
      "Epoch 89/135\n",
      "1/1 [==============================] - 0s 9ms/step - loss: 0.1892 - mae: 0.1892\n",
      "Epoch 90/135\n",
      "1/1 [==============================] - 0s 6ms/step - loss: 0.1441 - mae: 0.1441\n",
      "Epoch 91/135\n",
      "1/1 [==============================] - 0s 7ms/step - loss: 0.2937 - mae: 0.2937\n",
      "Epoch 92/135\n",
      "1/1 [==============================] - 0s 9ms/step - loss: 0.3153 - mae: 0.3153\n",
      "Epoch 93/135\n",
      "1/1 [==============================] - 0s 9ms/step - loss: 0.0877 - mae: 0.0877\n",
      "Epoch 94/135\n",
      "1/1 [==============================] - 0s 8ms/step - loss: 0.3804 - mae: 0.3804\n",
      "Epoch 95/135\n",
      "1/1 [==============================] - 0s 7ms/step - loss: 0.4432 - mae: 0.4432\n",
      "Epoch 96/135\n",
      "1/1 [==============================] - 0s 8ms/step - loss: 0.2755 - mae: 0.2755\n",
      "Epoch 97/135\n",
      "1/1 [==============================] - 0s 6ms/step - loss: 0.4025 - mae: 0.4025\n",
      "Epoch 98/135\n",
      "1/1 [==============================] - 0s 7ms/step - loss: 0.5116 - mae: 0.5116\n",
      "Epoch 99/135\n",
      "1/1 [==============================] - 0s 9ms/step - loss: 0.3330 - mae: 0.3330\n",
      "Epoch 100/135\n",
      "1/1 [==============================] - 0s 7ms/step - loss: 0.2051 - mae: 0.2051\n",
      "Epoch 101/135\n",
      "1/1 [==============================] - 0s 9ms/step - loss: 0.3578 - mae: 0.3578\n",
      "Epoch 102/135\n",
      "1/1 [==============================] - 0s 8ms/step - loss: 0.2222 - mae: 0.2222\n",
      "Epoch 103/135\n",
      "1/1 [==============================] - 0s 7ms/step - loss: 0.2860 - mae: 0.2860\n",
      "Epoch 104/135\n",
      "1/1 [==============================] - 0s 7ms/step - loss: 0.4612 - mae: 0.4612\n",
      "Epoch 105/135\n",
      "1/1 [==============================] - 0s 8ms/step - loss: 0.3724 - mae: 0.3724\n",
      "Epoch 106/135\n",
      "1/1 [==============================] - 0s 7ms/step - loss: 0.0857 - mae: 0.0857\n",
      "Epoch 107/135\n",
      "1/1 [==============================] - 0s 7ms/step - loss: 0.3642 - mae: 0.3642\n",
      "Epoch 108/135\n",
      "1/1 [==============================] - 0s 8ms/step - loss: 0.3695 - mae: 0.3695\n",
      "Epoch 109/135\n",
      "1/1 [==============================] - 0s 8ms/step - loss: 0.1532 - mae: 0.1532\n",
      "Epoch 110/135\n",
      "1/1 [==============================] - 0s 11ms/step - loss: 0.4619 - mae: 0.4619\n",
      "Epoch 111/135\n",
      "1/1 [==============================] - 0s 9ms/step - loss: 0.5839 - mae: 0.5839\n",
      "Epoch 112/135\n",
      "1/1 [==============================] - 0s 6ms/step - loss: 0.3831 - mae: 0.3831\n",
      "Epoch 113/135\n",
      "1/1 [==============================] - 0s 6ms/step - loss: 0.1788 - mae: 0.1788\n",
      "Epoch 114/135\n",
      "1/1 [==============================] - 0s 7ms/step - loss: 0.3624 - mae: 0.3624\n",
      "Epoch 115/135\n",
      "1/1 [==============================] - 0s 8ms/step - loss: 0.2705 - mae: 0.2705\n",
      "Epoch 116/135\n",
      "1/1 [==============================] - 0s 10ms/step - loss: 0.1570 - mae: 0.1570\n",
      "Epoch 117/135\n",
      "1/1 [==============================] - 0s 7ms/step - loss: 0.2798 - mae: 0.2798\n",
      "Epoch 118/135\n",
      "1/1 [==============================] - 0s 8ms/step - loss: 0.1582 - mae: 0.1582\n",
      "Epoch 119/135\n",
      "1/1 [==============================] - 0s 7ms/step - loss: 0.2305 - mae: 0.2305\n",
      "Epoch 120/135\n",
      "1/1 [==============================] - 0s 7ms/step - loss: 0.2696 - mae: 0.2696\n",
      "Epoch 121/135\n",
      "1/1 [==============================] - 0s 7ms/step - loss: 0.0738 - mae: 0.0738\n",
      "Epoch 122/135\n",
      "1/1 [==============================] - 0s 7ms/step - loss: 0.4352 - mae: 0.4352\n",
      "Epoch 123/135\n",
      "1/1 [==============================] - 0s 7ms/step - loss: 0.5207 - mae: 0.5207\n",
      "Epoch 124/135\n",
      "1/1 [==============================] - 0s 7ms/step - loss: 0.3065 - mae: 0.3065\n",
      "Epoch 125/135\n",
      "1/1 [==============================] - 0s 9ms/step - loss: 0.1746 - mae: 0.1746\n",
      "Epoch 126/135\n",
      "1/1 [==============================] - 0s 7ms/step - loss: 0.3162 - mae: 0.3162\n",
      "Epoch 127/135\n",
      "1/1 [==============================] - 0s 8ms/step - loss: 0.1571 - mae: 0.1571\n",
      "Epoch 128/135\n",
      "1/1 [==============================] - 0s 9ms/step - loss: 0.2615 - mae: 0.2615\n",
      "Epoch 129/135\n",
      "1/1 [==============================] - 0s 8ms/step - loss: 0.3363 - mae: 0.3363\n",
      "Epoch 130/135\n",
      "1/1 [==============================] - 0s 7ms/step - loss: 0.1253 - mae: 0.1253\n",
      "Epoch 131/135\n",
      "1/1 [==============================] - 0s 7ms/step - loss: 0.3447 - mae: 0.3447\n",
      "Epoch 132/135\n",
      "1/1 [==============================] - 0s 6ms/step - loss: 0.4879 - mae: 0.4879\n",
      "Epoch 133/135\n",
      "1/1 [==============================] - 0s 7ms/step - loss: 0.3350 - mae: 0.3350\n",
      "Epoch 134/135\n",
      "1/1 [==============================] - 0s 6ms/step - loss: 0.1067 - mae: 0.1067\n",
      "Epoch 135/135\n",
      "1/1 [==============================] - 0s 6ms/step - loss: 0.2256 - mae: 0.2256\n"
     ]
    },
    {
     "data": {
      "text/plain": [
       "<keras.callbacks.History at 0x26c9a63f040>"
      ]
     },
     "execution_count": 56,
     "metadata": {},
     "output_type": "execute_result"
    }
   ],
   "source": [
    "# Creating a model\n",
    "\n",
    "tf.random.set_seed(42)\n",
    "\n",
    "\n",
    "model = tf.keras.Sequential([\n",
    "    tf.keras.layers.Dense(100),\n",
    "    tf.keras.layers.Dense(1),\n",
    "    \n",
    "])\n",
    "\n",
    "model.compile(loss = tf.keras.losses.mae,\n",
    "optimizer = tf.keras.optimizers.Adam(learning_rate=0.01),\n",
    "metrics = [\"mae\"])\n",
    "\n",
    "\n",
    "model.fit(tf.expand_dims(x,axis=-1),y,epochs=135)"
   ]
  },
  {
   "cell_type": "code",
   "execution_count": 57,
   "metadata": {},
   "outputs": [
    {
     "name": "stdout",
     "output_type": "stream",
     "text": [
      "1/1 [==============================] - 0s 79ms/step\n"
     ]
    },
    {
     "data": {
      "text/plain": [
       "array([[26.845943]], dtype=float32)"
      ]
     },
     "execution_count": 57,
     "metadata": {},
     "output_type": "execute_result"
    }
   ],
   "source": [
    "model.predict([17.0])"
   ]
  },
  {
   "cell_type": "code",
   "execution_count": 58,
   "metadata": {},
   "outputs": [
    {
     "name": "stdout",
     "output_type": "stream",
     "text": [
      "1/1 [==============================] - 0s 43ms/step\n"
     ]
    },
    {
     "data": {
      "text/plain": [
       "array([[28.825579]], dtype=float32)"
      ]
     },
     "execution_count": 58,
     "metadata": {},
     "output_type": "execute_result"
    }
   ],
   "source": [
    "model.predict([19.0])"
   ]
  },
  {
   "cell_type": "code",
   "execution_count": null,
   "metadata": {},
   "outputs": [],
   "source": []
  }
 ],
 "metadata": {
  "kernelspec": {
   "display_name": "Python 3.10.0 64-bit",
   "language": "python",
   "name": "python3"
  },
  "language_info": {
   "codemirror_mode": {
    "name": "ipython",
    "version": 3
   },
   "file_extension": ".py",
   "mimetype": "text/x-python",
   "name": "python",
   "nbconvert_exporter": "python",
   "pygments_lexer": "ipython3",
   "version": "3.10.0"
  },
  "orig_nbformat": 4,
  "vscode": {
   "interpreter": {
    "hash": "a42ccb73e7d9bfdf27e036f1d2b8b681e55fc0743cc5586bc2474d4a60f4b886"
   }
  }
 },
 "nbformat": 4,
 "nbformat_minor": 2
}
